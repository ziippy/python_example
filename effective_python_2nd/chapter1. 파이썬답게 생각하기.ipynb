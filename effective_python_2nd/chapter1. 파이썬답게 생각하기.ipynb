{
 "cells": [
  {
   "cell_type": "markdown",
   "metadata": {},
   "source": [
    "# 1장 - 파이썬답게 생각하기"
   ]
  },
  {
   "cell_type": "markdown",
   "metadata": {},
   "source": [
    "### BETTER WAY 1 - 사용 중인 파이썬의 버전을 알아두라"
   ]
  },
  {
   "cell_type": "code",
   "execution_count": 3,
   "metadata": {},
   "outputs": [
    {
     "name": "stdout",
     "output_type": "stream",
     "text": [
      "sys.version_info(major=3, minor=8, micro=1, releaselevel='final', serial=0)\n",
      "3.8.1 (tags/v3.8.1:1b293b6, Dec 18 2019, 23:11:46) [MSC v.1916 64 bit (AMD64)]\n"
     ]
    }
   ],
   "source": [
    "import sys\n",
    "print(sys.version_info)\n",
    "print(sys.version)"
   ]
  },
  {
   "cell_type": "markdown",
   "metadata": {},
   "source": [
    "### BETTER WAY 2 - PEP 8 스타일 가이드를 따르라"
   ]
  },
  {
   "cell_type": "markdown",
   "metadata": {},
   "source": [
    "PEP: Python Enhancement Proposal\n",
    "파이썬을 어떤 형식으로 작성할 지 알려주는 스타일 가이드\n",
    "\n",
    "공백\n",
    "- 탭 대신 스페이스를 사용해 들여쓰기하라\n",
    "- 문법적으로 중요한 들여쓰기에는 4칸 스페이스를 사용하라\n",
    "- 라인 길이는 79개 문자 이하여야 한다\n",
    "- 긴 식을 다음 줄에 이어서 쓸 경우에는 일반적인 들여쓰기보다 4 스페이스를 더 들여써야 한다.\n",
    "- 파일 안에서 각 함수와 클래스 사이에는 빈 줄을 두 줄 넣어라\n",
    "- 클래스 안에서 메서드와 메서드 사이에는 빈 줄을 한 줄 넣어라\n",
    "- 변수 대입에서 = 전후에는 스페이스를 하나씩만 넣는다\n",
    "\n",
    "명명 규약\n",
    "- 함수, 변수, attribute 는 lowercase_underscore 처럼 소문자와 밑줄을 사용한다 -> 이런 표기법을 snake case (뱀표기법) 이라고 부른다\n",
    "- 보호돼야 하는 인스턴스 attribute 는 일반적인 attribute 이름 규칙을 따르되, _leading_underscore 처럼 밑줄로 시작한다\n",
    "- 비공개(private) 인스턴스 attribute 는 __leading_underscore 처럼 밑줄 두 개로 시작한다\n",
    "- 클래스는 CapitalizedWord 처럼 여러 단어를 붙이되, 각 단어의 첫 글자를 대문자로 만든다 -> 이런 표기법을 camel case (낙타표기법)이라고 부른다\n",
    "- 모듈 수준의 상수는 ALL_CAPS 처럼 모든 글자를 대문자로 하고, 단어와 단어 사이를 밑줄로 연결한 형태를 사용한다\n",
    "\n",
    "식과 문\n",
    "- 긍정적인 식을 부정하지 말고(if not a is b) 부정을 내부에 넣어라 (if a is not b)\n",
    "- 빈 컨테이너나 시퀀스를 검사할 때는 길이를 0 과 비교 하지 말라\n",
    "- 빈 컨테이너나 시퀀스 값이 암묵적으로 False로 취급된다는 사실을 활용해 'if not 컨테이너' 라는 조건문을 써라\n",
    "- 마찬가지로 비워 있지 않은 컨테이너나 시퀀스를 검사할 때에도 길이가 0 보다 큰지 비교하지 말라\n",
    "- 한 줄짜리 if 문이나 한 줄짜리 for, while 루프, 한 줄짜리 except 복합문을 사용하지 말라. 명확성을 위해 각 부분을 여러 줄에 나눠 배치하라\n",
    "- 식을 한 줄 안에 다 쓸 수 없는 경우, 식을 괄호로 둘러싸고 줄바꿈과 들여쓰기를 추가해서 읽기 쉽게 만들어라\n",
    "- 여러 줄에 걸쳐 식을 쓸 때는 줄이 계속된다는 표시를 하는 \\ 문자보다는 괄호를 사용하라\n",
    "\n",
    "임포트\n",
    "- import 문을 항상 파일 맨 앞에 위치시켜라\n",
    "- import 를 적을 때는 표준 라이브러리 모듈, 서드 파티 모듈, 여러분이 만든 모듈 순서로 섹션을 나눠라. 각 섹션에서는 알파벳 순서로 임포트"
   ]
  },
  {
   "cell_type": "markdown",
   "metadata": {},
   "source": [
    "### BETTER WAY 3 - bytes 와 str의 차이를 알아두라"
   ]
  },
  {
   "cell_type": "markdown",
   "metadata": {},
   "source": [
    "bytes 에는 8 비트 값의 시퀀스가 들어 있고, str 에는 유니코드 코드 포인터의 시퀀스가 들어 있다"
   ]
  },
  {
   "cell_type": "code",
   "execution_count": 7,
   "metadata": {},
   "outputs": [
    {
     "name": "stdout",
     "output_type": "stream",
     "text": [
      "[104, 101, 108, 108, 111]\n",
      "b'hello'\n"
     ]
    }
   ],
   "source": [
    "# byte 타입의 인스턴스에는 부호가 없는 8 바이트 데이터가 그대로 들어간다\n",
    "a = b'h\\x65llo'\n",
    "print(list(a))\n",
    "print(a)"
   ]
  },
  {
   "cell_type": "code",
   "execution_count": 8,
   "metadata": {},
   "outputs": [
    {
     "name": "stdout",
     "output_type": "stream",
     "text": [
      "['a', '̃', ' ', 'p', 'r', 'o', 'p', 'o', 's']\n",
      "ã propos\n"
     ]
    }
   ],
   "source": [
    "# str 인스턴스에는 사람이 사용하는 언어의 문자를 표현하는 유니코드 코드 포인트가 들어 있다\n",
    "a = 'a\\u0303 propos'\n",
    "print(list(a))\n",
    "print(a)"
   ]
  },
  {
   "cell_type": "markdown",
   "metadata": {},
   "source": [
    "str 인스턴스에는 직접 대응하는 이진 인코딩이 없고, bytes 에는 직접 대응하는 텐스트 인코딩이 없다"
   ]
  },
  {
   "cell_type": "markdown",
   "metadata": {},
   "source": [
    "### BETTER WAY 4 - C 스타일 형식 문자열을 str.format 과 쓰기보다는 f-문자열을 통한 인터폴레이션을 사용하라"
   ]
  },
  {
   "cell_type": "code",
   "execution_count": 21,
   "metadata": {},
   "outputs": [
    {
     "name": "stdout",
     "output_type": "stream",
     "text": [
      "문자열 my_var = 1.23456789\n"
     ]
    }
   ],
   "source": [
    "key = 'my_var'\n",
    "value = 1.23456789\n",
    "\n",
    "formatted = f'문자열 {key} = {value}'\n",
    "print(formatted)"
   ]
  },
  {
   "cell_type": "code",
   "execution_count": 22,
   "metadata": {},
   "outputs": [
    {
     "name": "stdout",
     "output_type": "stream",
     "text": [
      "문자열 my_var =  1.235\n"
     ]
    }
   ],
   "source": [
    "# 출력할 숫자 개수를 지정\n",
    "places = 3\n",
    "formatted = f'문자열 {key} = {value: .{places}f}'\n",
    "print(formatted)"
   ]
  },
  {
   "cell_type": "markdown",
   "metadata": {},
   "source": [
    "### BETTER WAY 5 - 복잡한 식을 쓰는 대신 도우미 함수를 작성하라"
   ]
  },
  {
   "cell_type": "code",
   "execution_count": 16,
   "metadata": {},
   "outputs": [
    {
     "name": "stdout",
     "output_type": "stream",
     "text": [
      "{'빨강': ['5'], '파랑': ['0'], '초록': ['']}\n"
     ]
    }
   ],
   "source": [
    "from urllib.parse import parse_qs\n",
    "\n",
    "my_values = parse_qs('빨강=5&파랑=0&초록=',\n",
    "                    keep_blank_values=True)\n",
    "print(my_values)"
   ]
  },
  {
   "cell_type": "code",
   "execution_count": 18,
   "metadata": {},
   "outputs": [
    {
     "name": "stdout",
     "output_type": "stream",
     "text": [
      "['5']\n",
      "['0']\n",
      "None\n"
     ]
    }
   ],
   "source": [
    "print(my_values.get('빨강'))\n",
    "print(my_values.get('파랑'))\n",
    "print(my_values.get('투명도'))"
   ]
  },
  {
   "cell_type": "code",
   "execution_count": 20,
   "metadata": {},
   "outputs": [
    {
     "name": "stdout",
     "output_type": "stream",
     "text": [
      "5\n",
      "0\n",
      "0\n"
     ]
    }
   ],
   "source": [
    "print(my_values.get('빨강', [''])[0] or 0)\n",
    "print(my_values.get('파랑', [''])[0] or 0)\n",
    "print(my_values.get('투명도', [''])[0] or 0)"
   ]
  },
  {
   "cell_type": "code",
   "execution_count": 23,
   "metadata": {},
   "outputs": [],
   "source": [
    "# 이 코드는 너무 읽기 어렵고, 시각적 잡음이 많다."
   ]
  },
  {
   "cell_type": "code",
   "execution_count": 24,
   "metadata": {},
   "outputs": [],
   "source": [
    "# 따라서 도우미 함수를 작성해야 한다.\n",
    "def get_first_int(values, key, default=0):\n",
    "    found = values.get(key, [''])\n",
    "    if found[0]:\n",
    "        return int(found[0])\n",
    "    return default"
   ]
  },
  {
   "cell_type": "code",
   "execution_count": 25,
   "metadata": {},
   "outputs": [
    {
     "name": "stdout",
     "output_type": "stream",
     "text": [
      "5\n",
      "0\n",
      "0\n"
     ]
    }
   ],
   "source": [
    "print(get_first_int(my_values, '빨강'))\n",
    "print(get_first_int(my_values, '파랑'))\n",
    "print(get_first_int(my_values, '투명도'))"
   ]
  },
  {
   "cell_type": "markdown",
   "metadata": {},
   "source": [
    "### BETTER WAY 6 - 인덱스를 사용하는 대신 대입을 사용해 데이터를 언패킹하라"
   ]
  },
  {
   "cell_type": "markdown",
   "metadata": {},
   "source": [
    "파이썬에는 값으로 이뤄진 불변(immutable) 순서쌍을 만들어낼 수 있는 tuple 내장 타입이 있다"
   ]
  },
  {
   "cell_type": "code",
   "execution_count": 26,
   "metadata": {},
   "outputs": [],
   "source": [
    "snack_calories = {\n",
    "    '감자칩': 140,\n",
    "    '팝콘': 80,\n",
    "    '땅콩': 190,\n",
    "    '피자': '미정의'\n",
    "}"
   ]
  },
  {
   "cell_type": "code",
   "execution_count": 28,
   "metadata": {},
   "outputs": [
    {
     "name": "stdout",
     "output_type": "stream",
     "text": [
      "{'감자칩': 140, '팝콘': 80, '땅콩': 190, '피자': '미정의'}\n"
     ]
    }
   ],
   "source": [
    "print(snack_calories)"
   ]
  },
  {
   "cell_type": "code",
   "execution_count": 29,
   "metadata": {},
   "outputs": [
    {
     "name": "stdout",
     "output_type": "stream",
     "text": [
      "(('감자칩', 140), ('팝콘', 80), ('땅콩', 190), ('피자', '미정의'))\n"
     ]
    }
   ],
   "source": [
    "items = tuple(snack_calories.items())\n",
    "print(items)"
   ]
  },
  {
   "cell_type": "code",
   "execution_count": 31,
   "metadata": {},
   "outputs": [
    {
     "name": "stdout",
     "output_type": "stream",
     "text": [
      "호박엿 & 식혜\n"
     ]
    }
   ],
   "source": [
    "# 튜플에 있는 값은 숫자 인덱스를 사용해 접근할 수 있다.\n",
    "item = ('호박엿', '식혜')\n",
    "first = item[0]\n",
    "second = item[1]\n",
    "print(first, '&', second)"
   ]
  },
  {
   "cell_type": "code",
   "execution_count": 32,
   "metadata": {},
   "outputs": [
    {
     "ename": "TypeError",
     "evalue": "'tuple' object does not support item assignment",
     "output_type": "error",
     "traceback": [
      "\u001b[1;31m---------------------------------------------------------------------------\u001b[0m",
      "\u001b[1;31mTypeError\u001b[0m                                 Traceback (most recent call last)",
      "\u001b[1;32m<ipython-input-32-3f4c7e15e09c>\u001b[0m in \u001b[0;36m<module>\u001b[1;34m\u001b[0m\n\u001b[0;32m      1\u001b[0m \u001b[1;31m# 일단 튜플이 만들어지면, 인덱스틀 통해 새 값을 대입해서 튜플을 변경할 수는 없다\u001b[0m\u001b[1;33m\u001b[0m\u001b[1;33m\u001b[0m\u001b[1;33m\u001b[0m\u001b[0m\n\u001b[0;32m      2\u001b[0m \u001b[0mpair\u001b[0m \u001b[1;33m=\u001b[0m \u001b[1;33m(\u001b[0m\u001b[1;34m'약과'\u001b[0m\u001b[1;33m,\u001b[0m \u001b[1;34m'호박엿'\u001b[0m\u001b[1;33m)\u001b[0m\u001b[1;33m\u001b[0m\u001b[1;33m\u001b[0m\u001b[0m\n\u001b[1;32m----> 3\u001b[1;33m \u001b[0mpair\u001b[0m\u001b[1;33m[\u001b[0m\u001b[1;36m0\u001b[0m\u001b[1;33m]\u001b[0m \u001b[1;33m=\u001b[0m \u001b[1;34m'타래과'\u001b[0m\u001b[1;33m\u001b[0m\u001b[1;33m\u001b[0m\u001b[0m\n\u001b[0m",
      "\u001b[1;31mTypeError\u001b[0m: 'tuple' object does not support item assignment"
     ]
    }
   ],
   "source": [
    "# 일단 튜플이 만들어지면, 인덱스틀 통해 새 값을 대입해서 튜플을 변경할 수는 없다\n",
    "pair = ('약과', '호박엿')\n",
    "pair[0] = '타래과'"
   ]
  },
  {
   "cell_type": "code",
   "execution_count": 33,
   "metadata": {},
   "outputs": [
    {
     "name": "stdout",
     "output_type": "stream",
     "text": [
      "호박엿 & 식혜\n"
     ]
    }
   ],
   "source": [
    "# 파이썬에서는 언패킹 구문이 있다\n",
    "item = ('호박엿', '식혜')\n",
    "first, second = item\n",
    "print(first, '&', second)"
   ]
  },
  {
   "cell_type": "code",
   "execution_count": 35,
   "metadata": {},
   "outputs": [
    {
     "name": "stdout",
     "output_type": "stream",
     "text": [
      "['프레즐', '당근', '쑥갓', '베이컨']\n",
      "['당근', '베이컨', '쑥갓', '프레즐']\n"
     ]
    }
   ],
   "source": [
    "def bubble_sort(a):\n",
    "    for _ in range(len(a)):\n",
    "        for i in range(1, len(a)):\n",
    "            if a[i] < a[i-1]:\n",
    "                temp = a[i]\n",
    "                a[i] = a[i-1]\n",
    "                a[i-1] = temp\n",
    "names = ['프레즐', '당근', '쑥갓', '베이컨']\n",
    "print(names)\n",
    "bubble_sort(names)\n",
    "print(names)"
   ]
  },
  {
   "cell_type": "code",
   "execution_count": 37,
   "metadata": {},
   "outputs": [
    {
     "name": "stdout",
     "output_type": "stream",
     "text": [
      "['프레즐', '당근', '쑥갓', '베이컨']\n",
      "['당근', '베이컨', '쑥갓', '프레즐']\n"
     ]
    }
   ],
   "source": [
    "def bubble_sort(a):\n",
    "    for _ in range(len(a)):\n",
    "        for i in range(1, len(a)):\n",
    "            if a[i] < a[i-1]:\n",
    "                a[i], a[i-1] = a[i-1], a[i]     # 언패킹 구문\n",
    "names = ['프레즐', '당근', '쑥갓', '베이컨']\n",
    "print(names)\n",
    "bubble_sort(names)\n",
    "print(names)"
   ]
  },
  {
   "cell_type": "markdown",
   "metadata": {},
   "source": [
    "- 파이썬 언패킹은 일반화돼 있으므로 모든 이터러블에 적용할 수 있다\n",
    "- 인덱스를 사용해 시퀀스 내부에 접근하는 대신, 언패킹을 사용해 시각적인 잡음을 줄이고 코드를 더 명확하게 만들라"
   ]
  },
  {
   "cell_type": "markdown",
   "metadata": {},
   "source": [
    "### BETTER WAY 7 - range 보다는 enumerate 를 사용하라"
   ]
  },
  {
   "cell_type": "markdown",
   "metadata": {},
   "source": [
    "range 내장 함수는 어떤 정수 집합을 이터레이션하는 루프가 필요할 때 유용하다.\n",
    "문자열로 이뤄진 list 처럼 이터레이션할 대상 데이터 구조가 있으면 이 시퀀스에 대해 바로 루프를 돌 수 있다."
   ]
  },
  {
   "cell_type": "code",
   "execution_count": 40,
   "metadata": {},
   "outputs": [
    {
     "name": "stdout",
     "output_type": "stream",
     "text": [
      "flavor 1: 바닐라\n",
      "flavor 2: 초콜릿\n",
      "flavor 3: 피칸\n",
      "flavor 4: 딸기\n"
     ]
    }
   ],
   "source": [
    "# 그런데, 리스트를 이터레이션하면서 리스트의 몇 번째 원소를 처리 중인지 알아야 할 때가 있다.\n",
    "#\n",
    "\n",
    "flavor_list = ['바닐라', '초콜릿', '피칸', '딸기']\n",
    "\n",
    "# range 를 사용하는 방법\n",
    "for i in range(len(flavor_list)):\n",
    "    flavor = flavor_list[i]\n",
    "    print(f'flavor {i+1}: {flavor}')"
   ]
  },
  {
   "cell_type": "code",
   "execution_count": 41,
   "metadata": {},
   "outputs": [
    {
     "name": "stdout",
     "output_type": "stream",
     "text": [
      "flavor 1: 바닐라\n",
      "flavor 2: 초콜릿\n",
      "flavor 3: 피칸\n",
      "flavor 4: 딸기\n"
     ]
    }
   ],
   "source": [
    "# enumerate 함수를 사용하는 방법\n",
    "for i, flavor in enumerate(flavor_list):\n",
    "    print(f'flavor {i+1}: {flavor}')"
   ]
  },
  {
   "cell_type": "code",
   "execution_count": null,
   "metadata": {},
   "outputs": [],
   "source": []
  }
 ],
 "metadata": {
  "kernelspec": {
   "display_name": "Python 3",
   "language": "python",
   "name": "python3"
  },
  "language_info": {
   "codemirror_mode": {
    "name": "ipython",
    "version": 3
   },
   "file_extension": ".py",
   "mimetype": "text/x-python",
   "name": "python",
   "nbconvert_exporter": "python",
   "pygments_lexer": "ipython3",
   "version": "3.8.1"
  }
 },
 "nbformat": 4,
 "nbformat_minor": 2
}
