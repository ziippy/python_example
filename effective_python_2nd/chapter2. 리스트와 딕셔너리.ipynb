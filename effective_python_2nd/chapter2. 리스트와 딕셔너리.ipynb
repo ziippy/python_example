{
 "cells": [
  {
   "cell_type": "markdown",
   "metadata": {},
   "source": [
    "# 2장 - 리스트와 딕셔너리\n"
   ]
  },
  {
   "cell_type": "markdown",
   "metadata": {},
   "source": [
    "- 리스트를 자연스럽게 보완할 수 있는 타입이 딕셔너리(타입 이름이 dict) 타입이다.\n",
    "- 딕셔너리 타입은 검색에 사용할 키와 키에 연관된 값을 저장한다."
   ]
  },
  {
   "cell_type": "markdown",
   "metadata": {},
   "source": [
    "### BETTER WAY 11 - 시퀀스를 슬라이싱하는 방법을 익혀라"
   ]
  },
  {
   "cell_type": "code",
   "execution_count": 1,
   "metadata": {},
   "outputs": [
    {
     "name": "stdout",
     "output_type": "stream",
     "text": [
      "['d', 'e']\n",
      "['b', 'c', 'd', 'e', 'f', 'g']\n"
     ]
    }
   ],
   "source": [
    "'''\n",
    "슬라이싱 구문의 기본 형태는 리스트[시작:끝] 이다.\n",
    "여기서 시작 인덱스는 포함, 끝 인덱스는 포함되지 않는다.\n",
    "'''\n",
    "a = ['a', 'b', 'c', 'd', 'e', 'f', 'g', 'h']\n",
    "print(a[3:5])\n",
    "print(a[1:7])"
   ]
  },
  {
   "cell_type": "code",
   "execution_count": 2,
   "metadata": {},
   "outputs": [
    {
     "name": "stdout",
     "output_type": "stream",
     "text": [
      "['a', 'b', 'c', 'd']\n"
     ]
    }
   ],
   "source": [
    "'''\n",
    "맨 앞부터 슬라이싱 할 때는 시각적 잡음을 없애기 위해 0 을 생략해야 한다.\n",
    "'''\n",
    "print(a[:4])"
   ]
  },
  {
   "cell_type": "code",
   "execution_count": 3,
   "metadata": {},
   "outputs": [
    {
     "name": "stdout",
     "output_type": "stream",
     "text": [
      "['e', 'f', 'g', 'h']\n"
     ]
    }
   ],
   "source": [
    "'''\n",
    "리스트의 끝까지 슬라이싱 할 때는 쓸데없이 끝 인덱스를 적지 마라\n",
    "'''\n",
    "print(a[4:])"
   ]
  },
  {
   "cell_type": "code",
   "execution_count": 4,
   "metadata": {},
   "outputs": [
    {
     "name": "stdout",
     "output_type": "stream",
     "text": [
      "h\n",
      "g\n",
      "['f', 'g']\n"
     ]
    }
   ],
   "source": [
    "'''\n",
    "리스트의 끝에서부터 원소를 찾고 싶을 때는 음수 인덱스를 사용하면 된다.\n",
    "'''\n",
    "print(a[-1])\n",
    "print(a[-2])\n",
    "print(a[-3:-1])"
   ]
  },
  {
   "cell_type": "code",
   "execution_count": 5,
   "metadata": {},
   "outputs": [
    {
     "name": "stdout",
     "output_type": "stream",
     "text": [
      "['a', 'b', 'c', 'd', 'e', 'f', 'g', 'h']\n",
      "['a', 'b', 'c', 'd', 'e', 'f', 'g', 'h']\n"
     ]
    }
   ],
   "source": [
    "'''\n",
    "슬라이싱 할 때 리스트의 인덱스 범위를 넘어가는 시작과 끝 인덱스는 조용히 무시된다.\n",
    "'''\n",
    "print(a[:20])\n",
    "print(a[-20:])"
   ]
  },
  {
   "cell_type": "code",
   "execution_count": 6,
   "metadata": {},
   "outputs": [
    {
     "name": "stdout",
     "output_type": "stream",
     "text": [
      "b ['d', 'e', 'f', 'g', 'h']\n",
      "b ['d', 99, 'f', 'g', 'h']\n",
      "a ['a', 'b', 'c', 'd', 'e', 'f', 'g', 'h']\n"
     ]
    }
   ],
   "source": [
    "'''\n",
    "리스트를 슬라이싱 한 결과는 완전히 새로운 리스트이며, 원래 리스트에 대한 참조는 그대로 유지된다.\n",
    "슬라이싱한 결과로 얻은 리스트를 변경해도 원래 리스트는 바뀌지 않는다.\n",
    "'''\n",
    "b = a[3:]\n",
    "print('b', b)\n",
    "b[1] = 99\n",
    "print('b', b)\n",
    "print('a', a)"
   ]
  },
  {
   "cell_type": "code",
   "execution_count": 8,
   "metadata": {},
   "outputs": [
    {
     "name": "stdout",
     "output_type": "stream",
     "text": [
      "c: ['a', 'b', 'c', 'd', 'e', 'f', 'g', 'h']\n",
      "c: ['a', 'b', 99, 22, 14, 'h']\n",
      "d: ['a', 'b', 'c', 'd', 'e', 'f', 'g', 'h']\n",
      "d: ['a', 'b', 99, 22, 14, 'e', 'f', 'g', 'h']\n"
     ]
    }
   ],
   "source": [
    "'''\n",
    "대입에 슬라이싱을 사용하면 원본 리스트에서 지정한 범위에 들어 있는 원소를 변경한다.\n",
    "슬라이스 대입에서는 슬라이스와 대입되는 리스트의 길이가 같은 필요가 없다\n",
    "'''\n",
    "c = ['a', 'b', 'c', 'd', 'e', 'f', 'g', 'h']\n",
    "print('c:', c)\n",
    "c[2:7] = [99, 22, 14]\n",
    "print('c:', c)\n",
    "\n",
    "d = ['a', 'b', 'c', 'd', 'e', 'f', 'g', 'h']\n",
    "print('d:', d)\n",
    "d[2:4] = [99, 22, 14]\n",
    "print('d:', d)"
   ]
  },
  {
   "cell_type": "markdown",
   "metadata": {},
   "source": [
    "### BETTER WAY 12 - 스트라이드와 슬라이스를 한 식에 함께 사용하지 말라"
   ]
  },
  {
   "cell_type": "code",
   "execution_count": 11,
   "metadata": {},
   "outputs": [
    {
     "name": "stdout",
     "output_type": "stream",
     "text": [
      "짝: [0, 2, 4, 6]\n",
      "홀: [1, 3, 5, 7]\n"
     ]
    }
   ],
   "source": [
    "'''\n",
    "파이썬은 리스트[시작:끝:증가값] 으로 일정한 간격을 두고 슬라이싱을 할 수 있는 특별한 구문을 제공한다\n",
    "'''\n",
    "x = [0, 1, 2, 3, 4, 5, 6, 7]\n",
    "print('짝:', x[::2])\n",
    "print('홀:', x[1::2])"
   ]
  },
  {
   "cell_type": "code",
   "execution_count": 12,
   "metadata": {},
   "outputs": [
    {
     "name": "stdout",
     "output_type": "stream",
     "text": [
      "[2, 4, 6]\n",
      "[6]\n",
      "[]\n",
      "[]\n"
     ]
    }
   ],
   "source": [
    "'''\n",
    "하지만, 슬라이싱 구문에 스트라이딩까지 들어가면 아주 혼란스럽다는 것이다\n",
    "'''\n",
    "print(x[2::2])\n",
    "print(x[-2::2])\n",
    "print(x[-2:2:2])\n",
    "print(x[2:2:-2])"
   ]
  },
  {
   "cell_type": "code",
   "execution_count": 13,
   "metadata": {},
   "outputs": [
    {
     "name": "stdout",
     "output_type": "stream",
     "text": [
      "y: [1, 3, 5]\n",
      "y2: [1, 3, 5]\n"
     ]
    }
   ],
   "source": [
    "'''\n",
    "따라서, 시작이나 끝 인덱스와 함께 증가값을 사용해야 한다면 스트라이딩한 결과를 변수에 대입한 다음 슬라이싱하라\n",
    "'''\n",
    "y = x[1:7:2]\n",
    "print('y:', y)\n",
    "\n",
    "y2_slice = x[1:7]\n",
    "y2 = y2_slice[::2]\n",
    "print('y2:', y2)"
   ]
  },
  {
   "cell_type": "markdown",
   "metadata": {},
   "source": [
    "### BETTER WAY 13 - 슬라이싱보다는 나머지를 모두 잡아내는 언패킹을 사용하라"
   ]
  },
  {
   "cell_type": "code",
   "execution_count": 16,
   "metadata": {},
   "outputs": [
    {
     "ename": "ValueError",
     "evalue": "too many values to unpack (expected 2)",
     "output_type": "error",
     "traceback": [
      "\u001b[1;31m---------------------------------------------------------------------------\u001b[0m",
      "\u001b[1;31mValueError\u001b[0m                                Traceback (most recent call last)",
      "\u001b[1;32m<ipython-input-16-5e964f7b8d67>\u001b[0m in \u001b[0;36m<module>\u001b[1;34m\u001b[0m\n\u001b[0;32m      2\u001b[0m \u001b[0mcar_ages\u001b[0m \u001b[1;33m=\u001b[0m \u001b[1;33m[\u001b[0m\u001b[1;36m0\u001b[0m\u001b[1;33m,\u001b[0m \u001b[1;36m9\u001b[0m\u001b[1;33m,\u001b[0m \u001b[1;36m4\u001b[0m\u001b[1;33m,\u001b[0m \u001b[1;36m8\u001b[0m\u001b[1;33m,\u001b[0m \u001b[1;36m7\u001b[0m\u001b[1;33m,\u001b[0m \u001b[1;36m20\u001b[0m\u001b[1;33m,\u001b[0m \u001b[1;36m19\u001b[0m\u001b[1;33m,\u001b[0m \u001b[1;36m1\u001b[0m\u001b[1;33m,\u001b[0m \u001b[1;36m6\u001b[0m\u001b[1;33m,\u001b[0m \u001b[1;36m15\u001b[0m\u001b[1;33m]\u001b[0m\u001b[1;33m\u001b[0m\u001b[1;33m\u001b[0m\u001b[0m\n\u001b[0;32m      3\u001b[0m \u001b[0mcar_ages_descending\u001b[0m \u001b[1;33m=\u001b[0m \u001b[0msorted\u001b[0m\u001b[1;33m(\u001b[0m\u001b[0mcar_ages\u001b[0m\u001b[1;33m,\u001b[0m \u001b[0mreverse\u001b[0m\u001b[1;33m=\u001b[0m\u001b[1;32mTrue\u001b[0m\u001b[1;33m)\u001b[0m\u001b[1;33m\u001b[0m\u001b[1;33m\u001b[0m\u001b[0m\n\u001b[1;32m----> 4\u001b[1;33m \u001b[0moldest\u001b[0m\u001b[1;33m,\u001b[0m \u001b[0msecond_oldest\u001b[0m \u001b[1;33m=\u001b[0m \u001b[0mcar_ages_descending\u001b[0m\u001b[1;33m\u001b[0m\u001b[1;33m\u001b[0m\u001b[0m\n\u001b[0m\u001b[0;32m      5\u001b[0m \u001b[0mprint\u001b[0m\u001b[1;33m(\u001b[0m\u001b[0moldest\u001b[0m\u001b[1;33m,\u001b[0m \u001b[0msecond_oldest\u001b[0m\u001b[1;33m)\u001b[0m\u001b[1;33m\u001b[0m\u001b[1;33m\u001b[0m\u001b[0m\n",
      "\u001b[1;31mValueError\u001b[0m: too many values to unpack (expected 2)"
     ]
    }
   ],
   "source": [
    "# 언패킹으로 리스트에서 맨 앞에서 원소를 두 개 가져오면 실행시점에 예외가 발생한다.\n",
    "car_ages = [0, 9, 4, 8, 7, 20, 19, 1, 6, 15]\n",
    "car_ages_descending = sorted(car_ages, reverse=True)\n",
    "oldest, second_oldest = car_ages_descending\n",
    "print(oldest, second_oldest)"
   ]
  },
  {
   "cell_type": "code",
   "execution_count": 17,
   "metadata": {},
   "outputs": [
    {
     "name": "stdout",
     "output_type": "stream",
     "text": [
      "20 19 [15, 9, 8, 7, 6, 4, 1, 0]\n"
     ]
    }
   ],
   "source": [
    "# 다음과 같은 코드는 잘 동작하지만, 모든 인덱스와 슬라이스로 인해 시각적으로 잡음이 많다\n",
    "oldest = car_ages_descending[0]\n",
    "second_oldest = car_ages_descending[1]\n",
    "others = car_ages_descending[2:]\n",
    "print(oldest, second_oldest, others)"
   ]
  },
  {
   "cell_type": "code",
   "execution_count": 18,
   "metadata": {},
   "outputs": [
    {
     "name": "stdout",
     "output_type": "stream",
     "text": [
      "20 19 [15, 9, 8, 7, 6, 4, 1, 0]\n"
     ]
    }
   ],
   "source": [
    "'''\n",
    "이런 상황을 더 잘 다룰 수 있도록 파이썬은 별표 식(starred expressioin)을 사용해 모든 값을 담는 언패킹을 할 수 있게 지원한다.\n",
    "'''\n",
    "oldest, second_oldest, *others = car_ages_descending\n",
    "print(oldest, second_oldest, others)"
   ]
  },
  {
   "cell_type": "markdown",
   "metadata": {},
   "source": [
    "### BETTER WAY 14 - 복잡한 기준을 사용해 정렬할 때는 key 파라미터를 사용하라"
   ]
  },
  {
   "cell_type": "markdown",
   "metadata": {},
   "source": [
    "- list 내장 타입에는 리스트의 원소를 여러 기준에 따라 정렬할 수 있는 sort 메서드가 들어 있다.\n",
    "- 기본적으로는 오름차순"
   ]
  },
  {
   "cell_type": "code",
   "execution_count": 19,
   "metadata": {},
   "outputs": [
    {
     "name": "stdout",
     "output_type": "stream",
     "text": [
      "[93, 86, 11, 68, 70]\n",
      "[11, 68, 70, 86, 93]\n"
     ]
    }
   ],
   "source": [
    "numbers = [93, 86, 11, 68, 70]\n",
    "print(numbers)\n",
    "numbers.sort()\n",
    "print(numbers)"
   ]
  },
  {
   "cell_type": "code",
   "execution_count": 22,
   "metadata": {},
   "outputs": [
    {
     "data": {
      "text/plain": [
       "[Tool('수준계', 3.5), Tool('해머', 1.25), Tool('스크류드라이버', 0.5), Tool('끌', 0.25)]"
      ]
     },
     "execution_count": 22,
     "metadata": {},
     "output_type": "execute_result"
    }
   ],
   "source": [
    "'''\n",
    "sort 가 객체를 어떻게 처리할까?\n",
    "사용자 정의 클래스 같은 건?\n",
    "'''\n",
    "class Tool:\n",
    "    def __init__(self, name, weight):\n",
    "        self.name = name\n",
    "        self.weight = weight\n",
    "        \n",
    "    def __repr__(self): # 디버깅 출력에는 repr 문자열을 사용하라\n",
    "        return f'Tool({self.name!r}, {self.weight})'\n",
    "    \n",
    "tools = [\n",
    "    Tool('수준계', 3.5),\n",
    "    Tool('해머', 1.25),\n",
    "    Tool('스크류드라이버', 0.5),\n",
    "    Tool('끌', 0.25)\n",
    "]\n",
    "\n",
    "tools"
   ]
  },
  {
   "cell_type": "code",
   "execution_count": 21,
   "metadata": {},
   "outputs": [
    {
     "ename": "TypeError",
     "evalue": "'<' not supported between instances of 'Tool' and 'Tool'",
     "output_type": "error",
     "traceback": [
      "\u001b[1;31m---------------------------------------------------------------------------\u001b[0m",
      "\u001b[1;31mTypeError\u001b[0m                                 Traceback (most recent call last)",
      "\u001b[1;32m<ipython-input-21-934c749d7824>\u001b[0m in \u001b[0;36m<module>\u001b[1;34m\u001b[0m\n\u001b[1;32m----> 1\u001b[1;33m \u001b[0mtools\u001b[0m\u001b[1;33m.\u001b[0m\u001b[0msort\u001b[0m\u001b[1;33m(\u001b[0m\u001b[1;33m)\u001b[0m\u001b[1;33m\u001b[0m\u001b[1;33m\u001b[0m\u001b[0m\n\u001b[0m",
      "\u001b[1;31mTypeError\u001b[0m: '<' not supported between instances of 'Tool' and 'Tool'"
     ]
    }
   ],
   "source": [
    "tools.sort()\n",
    "# sort 메서드가 호출하는 객체 비교 특별 메서드가 정의돼 있지 않으므로 이런 타입의 객체를 정렬할 수는 없다"
   ]
  },
  {
   "cell_type": "code",
   "execution_count": 23,
   "metadata": {},
   "outputs": [
    {
     "name": "stdout",
     "output_type": "stream",
     "text": [
      "미정렬: [Tool('수준계', 3.5), Tool('해머', 1.25), Tool('스크류드라이버', 0.5), Tool('끌', 0.25)]\n",
      "정렬: [Tool('끌', 0.25), Tool('수준계', 3.5), Tool('스크류드라이버', 0.5), Tool('해머', 1.25)]\n"
     ]
    }
   ],
   "source": [
    "'''\n",
    "하지만 정렬에 사용하고 싶은 attribute가 객체에 들어 있는 경우가 많다\n",
    "이런 상황을 지원하기 위해 sort 에는 key 라는 파라미터가 있다.\n",
    "'''\n",
    "print('미정렬:', repr(tools))\n",
    "tools.sort(key=lambda x: x.name)\n",
    "print('정렬:', repr(tools))"
   ]
  },
  {
   "cell_type": "markdown",
   "metadata": {},
   "source": [
    "### BETTER WAY 15 - 딕셔너리 삽입 순서에 의존할 때는 조심하라"
   ]
  },
  {
   "cell_type": "code",
   "execution_count": null,
   "metadata": {},
   "outputs": [],
   "source": []
  }
 ],
 "metadata": {
  "kernelspec": {
   "display_name": "Python 3",
   "language": "python",
   "name": "python3"
  },
  "language_info": {
   "codemirror_mode": {
    "name": "ipython",
    "version": 3
   },
   "file_extension": ".py",
   "mimetype": "text/x-python",
   "name": "python",
   "nbconvert_exporter": "python",
   "pygments_lexer": "ipython3",
   "version": "3.8.1"
  }
 },
 "nbformat": 4,
 "nbformat_minor": 2
}
