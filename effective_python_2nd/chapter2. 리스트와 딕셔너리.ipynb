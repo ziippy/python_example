{
 "cells": [
  {
   "cell_type": "markdown",
   "metadata": {},
   "source": [
    "# 2장 - 리스트와 딕셔너리\n"
   ]
  },
  {
   "cell_type": "markdown",
   "metadata": {},
   "source": [
    "- 리스트를 자연스럽게 보완할 수 있는 타입이 딕셔너리(타입 이름이 dict) 타입이다.\n",
    "- 딕셔너리 타입은 검색에 사용할 키와 키에 연관된 값을 저장한다."
   ]
  },
  {
   "cell_type": "markdown",
   "metadata": {},
   "source": [
    "### BETTER WAY 11 - 시퀀스를 슬라이싱하는 방법을 익혀라"
   ]
  },
  {
   "cell_type": "code",
   "execution_count": 1,
   "metadata": {},
   "outputs": [
    {
     "name": "stdout",
     "output_type": "stream",
     "text": [
      "['d', 'e']\n",
      "['b', 'c', 'd', 'e', 'f', 'g']\n"
     ]
    }
   ],
   "source": [
    "'''\n",
    "슬라이싱 구문의 기본 형태는 리스트[시작:끝] 이다.\n",
    "여기서 시작 인덱스는 포함, 끝 인덱스는 포함되지 않는다.\n",
    "'''\n",
    "a = ['a', 'b', 'c', 'd', 'e', 'f', 'g', 'h']\n",
    "print(a[3:5])\n",
    "print(a[1:7])"
   ]
  },
  {
   "cell_type": "code",
   "execution_count": 2,
   "metadata": {},
   "outputs": [
    {
     "name": "stdout",
     "output_type": "stream",
     "text": [
      "['a', 'b', 'c', 'd']\n"
     ]
    }
   ],
   "source": [
    "'''\n",
    "맨 앞부터 슬라이싱 할 때는 시각적 잡음을 없애기 위해 0 을 생략해야 한다.\n",
    "'''\n",
    "print(a[:4])"
   ]
  },
  {
   "cell_type": "code",
   "execution_count": 3,
   "metadata": {},
   "outputs": [
    {
     "name": "stdout",
     "output_type": "stream",
     "text": [
      "['e', 'f', 'g', 'h']\n"
     ]
    }
   ],
   "source": [
    "'''\n",
    "리스트의 끝까지 슬라이싱 할 때는 쓸데없이 끝 인덱스를 적지 마라\n",
    "'''\n",
    "print(a[4:])"
   ]
  },
  {
   "cell_type": "code",
   "execution_count": 4,
   "metadata": {},
   "outputs": [
    {
     "name": "stdout",
     "output_type": "stream",
     "text": [
      "h\n",
      "g\n",
      "['f', 'g']\n"
     ]
    }
   ],
   "source": [
    "'''\n",
    "리스트의 끝에서부터 원소를 찾고 싶을 때는 음수 인덱스를 사용하면 된다.\n",
    "'''\n",
    "print(a[-1])\n",
    "print(a[-2])\n",
    "print(a[-3:-1])"
   ]
  },
  {
   "cell_type": "code",
   "execution_count": 5,
   "metadata": {},
   "outputs": [
    {
     "name": "stdout",
     "output_type": "stream",
     "text": [
      "['a', 'b', 'c', 'd', 'e', 'f', 'g', 'h']\n",
      "['a', 'b', 'c', 'd', 'e', 'f', 'g', 'h']\n"
     ]
    }
   ],
   "source": [
    "'''\n",
    "슬라이싱 할 때 리스트의 인덱스 범위를 넘어가는 시작과 끝 인덱스는 조용히 무시된다.\n",
    "'''\n",
    "print(a[:20])\n",
    "print(a[-20:])"
   ]
  },
  {
   "cell_type": "code",
   "execution_count": 6,
   "metadata": {},
   "outputs": [
    {
     "name": "stdout",
     "output_type": "stream",
     "text": [
      "b ['d', 'e', 'f', 'g', 'h']\n",
      "b ['d', 99, 'f', 'g', 'h']\n",
      "a ['a', 'b', 'c', 'd', 'e', 'f', 'g', 'h']\n"
     ]
    }
   ],
   "source": [
    "'''\n",
    "리스트를 슬라이싱 한 결과는 완전히 새로운 리스트이며, 원래 리스트에 대한 참조는 그대로 유지된다.\n",
    "슬라이싱한 결과로 얻은 리스트를 변경해도 원래 리스트는 바뀌지 않는다.\n",
    "'''\n",
    "b = a[3:]\n",
    "print('b', b)\n",
    "b[1] = 99\n",
    "print('b', b)\n",
    "print('a', a)"
   ]
  },
  {
   "cell_type": "code",
   "execution_count": 8,
   "metadata": {},
   "outputs": [
    {
     "name": "stdout",
     "output_type": "stream",
     "text": [
      "c: ['a', 'b', 'c', 'd', 'e', 'f', 'g', 'h']\n",
      "c: ['a', 'b', 99, 22, 14, 'h']\n",
      "d: ['a', 'b', 'c', 'd', 'e', 'f', 'g', 'h']\n",
      "d: ['a', 'b', 99, 22, 14, 'e', 'f', 'g', 'h']\n"
     ]
    }
   ],
   "source": [
    "'''\n",
    "대입에 슬라이싱을 사용하면 원본 리스트에서 지정한 범위에 들어 있는 원소를 변경한다.\n",
    "슬라이스 대입에서는 슬라이스와 대입되는 리스트의 길이가 같은 필요가 없다\n",
    "'''\n",
    "c = ['a', 'b', 'c', 'd', 'e', 'f', 'g', 'h']\n",
    "print('c:', c)\n",
    "c[2:7] = [99, 22, 14]\n",
    "print('c:', c)\n",
    "\n",
    "d = ['a', 'b', 'c', 'd', 'e', 'f', 'g', 'h']\n",
    "print('d:', d)\n",
    "d[2:4] = [99, 22, 14]\n",
    "print('d:', d)"
   ]
  },
  {
   "cell_type": "markdown",
   "metadata": {},
   "source": [
    "### BETTER WAY 12 - 스트라이드와 슬라이스를 한 식에 함께 사용하지 말라"
   ]
  },
  {
   "cell_type": "code",
   "execution_count": 11,
   "metadata": {},
   "outputs": [
    {
     "name": "stdout",
     "output_type": "stream",
     "text": [
      "짝: [0, 2, 4, 6]\n",
      "홀: [1, 3, 5, 7]\n"
     ]
    }
   ],
   "source": [
    "'''\n",
    "파이썬은 리스트[시작:끝:증가값] 으로 일정한 간격을 두고 슬라이싱을 할 수 있는 특별한 구문을 제공한다\n",
    "'''\n",
    "x = [0, 1, 2, 3, 4, 5, 6, 7]\n",
    "print('짝:', x[::2])\n",
    "print('홀:', x[1::2])"
   ]
  },
  {
   "cell_type": "code",
   "execution_count": 12,
   "metadata": {},
   "outputs": [
    {
     "name": "stdout",
     "output_type": "stream",
     "text": [
      "[2, 4, 6]\n",
      "[6]\n",
      "[]\n",
      "[]\n"
     ]
    }
   ],
   "source": [
    "'''\n",
    "하지만, 슬라이싱 구문에 스트라이딩까지 들어가면 아주 혼란스럽다는 것이다\n",
    "'''\n",
    "print(x[2::2])\n",
    "print(x[-2::2])\n",
    "print(x[-2:2:2])\n",
    "print(x[2:2:-2])"
   ]
  },
  {
   "cell_type": "code",
   "execution_count": 13,
   "metadata": {},
   "outputs": [
    {
     "name": "stdout",
     "output_type": "stream",
     "text": [
      "y: [1, 3, 5]\n",
      "y2: [1, 3, 5]\n"
     ]
    }
   ],
   "source": [
    "'''\n",
    "따라서, 시작이나 끝 인덱스와 함께 증가값을 사용해야 한다면 스트라이딩한 결과를 변수에 대입한 다음 슬라이싱하라\n",
    "'''\n",
    "y = x[1:7:2]\n",
    "print('y:', y)\n",
    "\n",
    "y2_slice = x[1:7]\n",
    "y2 = y2_slice[::2]\n",
    "print('y2:', y2)"
   ]
  },
  {
   "cell_type": "markdown",
   "metadata": {},
   "source": [
    "### BETTER WAY 13 - 슬라이싱보다는 나머지를 모두 잡아내는 언패킹을 사용하라"
   ]
  },
  {
   "cell_type": "code",
   "execution_count": 16,
   "metadata": {},
   "outputs": [
    {
     "ename": "ValueError",
     "evalue": "too many values to unpack (expected 2)",
     "output_type": "error",
     "traceback": [
      "\u001b[1;31m---------------------------------------------------------------------------\u001b[0m",
      "\u001b[1;31mValueError\u001b[0m                                Traceback (most recent call last)",
      "\u001b[1;32m<ipython-input-16-5e964f7b8d67>\u001b[0m in \u001b[0;36m<module>\u001b[1;34m\u001b[0m\n\u001b[0;32m      2\u001b[0m \u001b[0mcar_ages\u001b[0m \u001b[1;33m=\u001b[0m \u001b[1;33m[\u001b[0m\u001b[1;36m0\u001b[0m\u001b[1;33m,\u001b[0m \u001b[1;36m9\u001b[0m\u001b[1;33m,\u001b[0m \u001b[1;36m4\u001b[0m\u001b[1;33m,\u001b[0m \u001b[1;36m8\u001b[0m\u001b[1;33m,\u001b[0m \u001b[1;36m7\u001b[0m\u001b[1;33m,\u001b[0m \u001b[1;36m20\u001b[0m\u001b[1;33m,\u001b[0m \u001b[1;36m19\u001b[0m\u001b[1;33m,\u001b[0m \u001b[1;36m1\u001b[0m\u001b[1;33m,\u001b[0m \u001b[1;36m6\u001b[0m\u001b[1;33m,\u001b[0m \u001b[1;36m15\u001b[0m\u001b[1;33m]\u001b[0m\u001b[1;33m\u001b[0m\u001b[1;33m\u001b[0m\u001b[0m\n\u001b[0;32m      3\u001b[0m \u001b[0mcar_ages_descending\u001b[0m \u001b[1;33m=\u001b[0m \u001b[0msorted\u001b[0m\u001b[1;33m(\u001b[0m\u001b[0mcar_ages\u001b[0m\u001b[1;33m,\u001b[0m \u001b[0mreverse\u001b[0m\u001b[1;33m=\u001b[0m\u001b[1;32mTrue\u001b[0m\u001b[1;33m)\u001b[0m\u001b[1;33m\u001b[0m\u001b[1;33m\u001b[0m\u001b[0m\n\u001b[1;32m----> 4\u001b[1;33m \u001b[0moldest\u001b[0m\u001b[1;33m,\u001b[0m \u001b[0msecond_oldest\u001b[0m \u001b[1;33m=\u001b[0m \u001b[0mcar_ages_descending\u001b[0m\u001b[1;33m\u001b[0m\u001b[1;33m\u001b[0m\u001b[0m\n\u001b[0m\u001b[0;32m      5\u001b[0m \u001b[0mprint\u001b[0m\u001b[1;33m(\u001b[0m\u001b[0moldest\u001b[0m\u001b[1;33m,\u001b[0m \u001b[0msecond_oldest\u001b[0m\u001b[1;33m)\u001b[0m\u001b[1;33m\u001b[0m\u001b[1;33m\u001b[0m\u001b[0m\n",
      "\u001b[1;31mValueError\u001b[0m: too many values to unpack (expected 2)"
     ]
    }
   ],
   "source": [
    "# 언패킹으로 리스트에서 맨 앞에서 원소를 두 개 가져오면 실행시점에 예외가 발생한다.\n",
    "car_ages = [0, 9, 4, 8, 7, 20, 19, 1, 6, 15]\n",
    "car_ages_descending = sorted(car_ages, reverse=True)\n",
    "oldest, second_oldest = car_ages_descending\n",
    "print(oldest, second_oldest)"
   ]
  },
  {
   "cell_type": "code",
   "execution_count": 17,
   "metadata": {},
   "outputs": [
    {
     "name": "stdout",
     "output_type": "stream",
     "text": [
      "20 19 [15, 9, 8, 7, 6, 4, 1, 0]\n"
     ]
    }
   ],
   "source": [
    "# 다음과 같은 코드는 잘 동작하지만, 모든 인덱스와 슬라이스로 인해 시각적으로 잡음이 많다\n",
    "oldest = car_ages_descending[0]\n",
    "second_oldest = car_ages_descending[1]\n",
    "others = car_ages_descending[2:]\n",
    "print(oldest, second_oldest, others)"
   ]
  },
  {
   "cell_type": "code",
   "execution_count": 18,
   "metadata": {},
   "outputs": [
    {
     "name": "stdout",
     "output_type": "stream",
     "text": [
      "20 19 [15, 9, 8, 7, 6, 4, 1, 0]\n"
     ]
    }
   ],
   "source": [
    "'''\n",
    "이런 상황을 더 잘 다룰 수 있도록 파이썬은 별표 식(starred expressioin)을 사용해 모든 값을 담는 언패킹을 할 수 있게 지원한다.\n",
    "'''\n",
    "oldest, second_oldest, *others = car_ages_descending\n",
    "print(oldest, second_oldest, others)"
   ]
  },
  {
   "cell_type": "markdown",
   "metadata": {},
   "source": [
    "### BETTER WAY 14 - 복잡한 기준을 사용해 정렬할 때는 key 파라미터를 사용하라"
   ]
  },
  {
   "cell_type": "markdown",
   "metadata": {},
   "source": [
    "- list 내장 타입에는 리스트의 원소를 여러 기준에 따라 정렬할 수 있는 sort 메서드가 들어 있다.\n",
    "- 기본적으로는 오름차순"
   ]
  },
  {
   "cell_type": "code",
   "execution_count": 19,
   "metadata": {},
   "outputs": [
    {
     "name": "stdout",
     "output_type": "stream",
     "text": [
      "[93, 86, 11, 68, 70]\n",
      "[11, 68, 70, 86, 93]\n"
     ]
    }
   ],
   "source": [
    "numbers = [93, 86, 11, 68, 70]\n",
    "print(numbers)\n",
    "numbers.sort()\n",
    "print(numbers)"
   ]
  },
  {
   "cell_type": "code",
   "execution_count": 22,
   "metadata": {},
   "outputs": [
    {
     "data": {
      "text/plain": [
       "[Tool('수준계', 3.5), Tool('해머', 1.25), Tool('스크류드라이버', 0.5), Tool('끌', 0.25)]"
      ]
     },
     "execution_count": 22,
     "metadata": {},
     "output_type": "execute_result"
    }
   ],
   "source": [
    "'''\n",
    "sort 가 객체를 어떻게 처리할까?\n",
    "사용자 정의 클래스 같은 건?\n",
    "'''\n",
    "class Tool:\n",
    "    def __init__(self, name, weight):\n",
    "        self.name = name\n",
    "        self.weight = weight\n",
    "        \n",
    "    def __repr__(self): # 디버깅 출력에는 repr 문자열을 사용하라\n",
    "        return f'Tool({self.name!r}, {self.weight})'\n",
    "    \n",
    "tools = [\n",
    "    Tool('수준계', 3.5),\n",
    "    Tool('해머', 1.25),\n",
    "    Tool('스크류드라이버', 0.5),\n",
    "    Tool('끌', 0.25)\n",
    "]\n",
    "\n",
    "tools"
   ]
  },
  {
   "cell_type": "code",
   "execution_count": 21,
   "metadata": {},
   "outputs": [
    {
     "ename": "TypeError",
     "evalue": "'<' not supported between instances of 'Tool' and 'Tool'",
     "output_type": "error",
     "traceback": [
      "\u001b[1;31m---------------------------------------------------------------------------\u001b[0m",
      "\u001b[1;31mTypeError\u001b[0m                                 Traceback (most recent call last)",
      "\u001b[1;32m<ipython-input-21-934c749d7824>\u001b[0m in \u001b[0;36m<module>\u001b[1;34m\u001b[0m\n\u001b[1;32m----> 1\u001b[1;33m \u001b[0mtools\u001b[0m\u001b[1;33m.\u001b[0m\u001b[0msort\u001b[0m\u001b[1;33m(\u001b[0m\u001b[1;33m)\u001b[0m\u001b[1;33m\u001b[0m\u001b[1;33m\u001b[0m\u001b[0m\n\u001b[0m",
      "\u001b[1;31mTypeError\u001b[0m: '<' not supported between instances of 'Tool' and 'Tool'"
     ]
    }
   ],
   "source": [
    "tools.sort()\n",
    "# sort 메서드가 호출하는 객체 비교 특별 메서드가 정의돼 있지 않으므로 이런 타입의 객체를 정렬할 수는 없다"
   ]
  },
  {
   "cell_type": "code",
   "execution_count": 23,
   "metadata": {},
   "outputs": [
    {
     "name": "stdout",
     "output_type": "stream",
     "text": [
      "미정렬: [Tool('수준계', 3.5), Tool('해머', 1.25), Tool('스크류드라이버', 0.5), Tool('끌', 0.25)]\n",
      "정렬: [Tool('끌', 0.25), Tool('수준계', 3.5), Tool('스크류드라이버', 0.5), Tool('해머', 1.25)]\n"
     ]
    }
   ],
   "source": [
    "'''\n",
    "하지만 정렬에 사용하고 싶은 attribute가 객체에 들어 있는 경우가 많다\n",
    "이런 상황을 지원하기 위해 sort 에는 key 라는 파라미터가 있다.\n",
    "'''\n",
    "print('미정렬:', repr(tools))\n",
    "tools.sort(key=lambda x: x.name)\n",
    "print('정렬:', repr(tools))"
   ]
  },
  {
   "cell_type": "markdown",
   "metadata": {},
   "source": [
    "### BETTER WAY 15 - 딕셔너리 삽입 순서에 의존할 때는 조심하라"
   ]
  },
  {
   "cell_type": "markdown",
   "metadata": {},
   "source": [
    "- 파이썬 3.5 이전에는 딕셔너리에 대해 이터레이션을 수행하면 키를 임의의 순서로 돌려줬으며, 이터레이션 순서는 원소가 삽입된 순서와 일치하지 않았다.\n",
    "- 이런 일이 발생하는 이유는 예전의 딕셔너리 구현이 내장 hash 함수와 파이썬 인터프리터가 시작할 때 초기화되는 난수 씨앗값(seed)을 사용하는 해시 테이블 알고리즘으로 만들어졌기 때문이다.\n",
    "- 파이썬 3.6 부터는 딕셔너리가 삽입 순서를 보존하도록 동작이 개선되었고\n",
    "- 파이썬 3.7 부터는 아예 파이썬 언어 명세에 이 내용이 포함됐다"
   ]
  },
  {
   "cell_type": "code",
   "execution_count": 1,
   "metadata": {},
   "outputs": [
    {
     "name": "stdout",
     "output_type": "stream",
     "text": [
      "{'cat': 'kitten', 'dog': 'puppy'}\n"
     ]
    }
   ],
   "source": [
    "baby_names = {\n",
    "    'cat': 'kitten',\n",
    "    'dog': 'puppy',\n",
    "}\n",
    "print(baby_names)"
   ]
  },
  {
   "cell_type": "markdown",
   "metadata": {},
   "source": [
    "### BETTER WAY 16 - in을 사용하고 딕셔너리 키가 없을 때 KeyError를 처리하기보다는 get을 사용하라"
   ]
  },
  {
   "cell_type": "markdown",
   "metadata": {},
   "source": [
    "- 딕셔너리와 상호작용하는 세 가지 기본 연산은 키나 키에 연관된 값에 접근하고, 대입하고, 삭제하는 것이다.\n",
    "- 딕셔너리의 내용은 동적이므로, 어떤 키에 접근하거나 키를 삭제할 때 그 키가 딕셔너리에 없을 수도 있다."
   ]
  },
  {
   "cell_type": "code",
   "execution_count": 2,
   "metadata": {},
   "outputs": [
    {
     "name": "stdout",
     "output_type": "stream",
     "text": [
      "{'식빵': 2, '단팥빵': 1, '밀빵': 1}\n"
     ]
    }
   ],
   "source": [
    "# 예를 들어 샌드위치 가게에 좋아하는 빵에 투표\n",
    "counters = {\n",
    "    '식빵': 2,\n",
    "    '단팥빵': 1,\n",
    "}\n",
    "\n",
    "# 어떤 고객이 key 빵에 대해 투표\n",
    "key = '밀빵'\n",
    "\n",
    "if key in counters:\n",
    "    count = counters[key]\n",
    "else:\n",
    "    count = 0\n",
    "    \n",
    "counters[key] = count + 1\n",
    "print(counters)"
   ]
  },
  {
   "cell_type": "code",
   "execution_count": 4,
   "metadata": {},
   "outputs": [
    {
     "name": "stdout",
     "output_type": "stream",
     "text": [
      "{'식빵': 2, '단팥빵': 1, '밀빵': 2}\n"
     ]
    }
   ],
   "source": [
    "# 같은 동작을 하는 다른 방법\n",
    "# KeyError 예외를 활용하는 방법\n",
    "try:\n",
    "    count = counters[key]\n",
    "except KeyError:\n",
    "    count = 1\n",
    "\n",
    "counters[key] = count + 1\n",
    "print(counters)"
   ]
  },
  {
   "cell_type": "markdown",
   "metadata": {},
   "source": [
    "- 딕셔너리에서는 이런 식으로 키가 존재하면 값을 가져오고, 없으면 디폴트 값을 반환하는 흐름이 꽤 자주 일어난다.\n",
    "- 그래서 dict 내장 타입에는 이런 작업을 수행하는 get 메서드가 들어 있다.\n",
    "- get 의 두 번째 인자는 첫번째 인자인 키가 딕셔너리에 없을 경우 돌려줄 디폴트 값이다."
   ]
  },
  {
   "cell_type": "code",
   "execution_count": 5,
   "metadata": {},
   "outputs": [
    {
     "name": "stdout",
     "output_type": "stream",
     "text": [
      "{'식빵': 2, '단팥빵': 1, '밀빵': 3}\n"
     ]
    }
   ],
   "source": [
    "# get을 이용하는 방식\n",
    "count = counters.get(key, 0)\n",
    "\n",
    "counters[key] = count + 1\n",
    "print(counters)"
   ]
  },
  {
   "cell_type": "code",
   "execution_count": 6,
   "metadata": {},
   "outputs": [
    {
     "name": "stdout",
     "output_type": "stream",
     "text": [
      "{'식빵': ['철수', '순이'], '단팥빵': ['유리']}\n",
      "{'식빵': ['철수', '순이'], '단팥빵': ['유리'], '밀빵': ['영수']}\n"
     ]
    }
   ],
   "source": [
    "# 딕셔너리에 저장된 값이 리스트처럼 더 복잡한 경우는?\n",
    "votes = {\n",
    "    '식빵': ['철수', '순이'],\n",
    "    '단팥빵': ['유리'],\n",
    "}\n",
    "print(votes)\n",
    "\n",
    "key = '밀빵'\n",
    "who = '영수'\n",
    "\n",
    "if key in votes:\n",
    "    names = votes[key]\n",
    "else:\n",
    "    votes[key] = names = []\n",
    "    \n",
    "names.append(who)\n",
    "print(votes)"
   ]
  },
  {
   "cell_type": "code",
   "execution_count": 8,
   "metadata": {},
   "outputs": [
    {
     "name": "stdout",
     "output_type": "stream",
     "text": [
      "{'식빵': ['철수', '순이'], '단팥빵': ['유리']}\n",
      "{'식빵': ['철수', '순이'], '단팥빵': ['유리'], '밀빵': ['영수']}\n"
     ]
    }
   ],
   "source": [
    "votes = {\n",
    "    '식빵': ['철수', '순이'],\n",
    "    '단팥빵': ['유리'],\n",
    "}\n",
    "print(votes)\n",
    "\n",
    "key = '밀빵'\n",
    "who = '영수'\n",
    "\n",
    "# get을 이용하는 방식\n",
    "names = votes.get(key)\n",
    "if names is None:\n",
    "    votes[key] = names = []\n",
    "\n",
    "names.append(who)\n",
    "print(votes)"
   ]
  },
  {
   "cell_type": "code",
   "execution_count": 14,
   "metadata": {},
   "outputs": [
    {
     "name": "stdout",
     "output_type": "stream",
     "text": [
      "{'식빵': ['철수', '순이'], '단팥빵': ['유리'], '밀빵': ['영수'], '꽈배기': ['민우']}\n",
      "{'식빵': ['철수', '순이'], '단팥빵': ['유리'], '밀빵': ['영수'], '꽈배기': ['민우', '민우']}\n",
      "{'식빵': ['철수', '순이'], '단팥빵': ['유리'], '밀빵': ['영수'], '꽈배기': []}\n"
     ]
    }
   ],
   "source": [
    "print(votes)\n",
    "\n",
    "# dict 타입은 이 패턴을 더 사용할 수 있게 해주는 setdefault 메서드를 제공한다.\n",
    "key = '꽈배기'\n",
    "who = '민우'\n",
    "\n",
    "# setdefault를 이용하는 방식\n",
    "names = votes.setdefault(key, [])\n",
    "\n",
    "names.append(who)\n",
    "print(votes)\n",
    "\n",
    "names.clear()\n",
    "print(votes)"
   ]
  },
  {
   "cell_type": "markdown",
   "metadata": {},
   "source": [
    "- 하지만, setdefault 에는 한 가지 빠지기 쉬운 중요한 함정이 있다.\n",
    "- 키가 없으면 setdefault 에 전달된 디폴트 값이 별도로 복사되지 않고 딕셔너리에 직접 대입된다."
   ]
  },
  {
   "cell_type": "code",
   "execution_count": 13,
   "metadata": {},
   "outputs": [
    {
     "name": "stdout",
     "output_type": "stream",
     "text": [
      "pre: {'foo': []}\n",
      "after: {'foo': ['hello']}\n",
      "after__2: {'foo': []}\n"
     ]
    }
   ],
   "source": [
    "data = {}\n",
    "key = 'foo'\n",
    "value = []\n",
    "data.setdefault(key, value)\n",
    "print('pre:', data)\n",
    "value.append('hello')\n",
    "print('after:', data)\n",
    "value.clear()\n",
    "print('after__2:', data)"
   ]
  },
  {
   "cell_type": "markdown",
   "metadata": {},
   "source": [
    "- 그러므로, 키에 해당하는 디폴트 값을 setdefault에 전달할 때마다 그 값을 새로 만들어야 한다.\n",
    "- 호출할때마다 리스트를 만들어야 하므로, 성능이 크게 저하될 수 있다."
   ]
  },
  {
   "cell_type": "markdown",
   "metadata": {},
   "source": [
    "### BETTER WAY 17 - 내부 상태에서 원소가 없는 경우를 처리할 때는 setdefault 보다 defaultdict 를 사용하라"
   ]
  },
  {
   "cell_type": "markdown",
   "metadata": {},
   "source": [
    "- 위처럼 직접 딕셔너리 생성을 제어할 수 있을 때는 setdefault 를 써도 되지만\n",
    "- 직접 디셔너리 생성을 제어할 수 없다면 어떨까?"
   ]
  },
  {
   "cell_type": "code",
   "execution_count": 16,
   "metadata": {},
   "outputs": [
    {
     "name": "stdout",
     "output_type": "stream",
     "text": [
      "{'러시아': {'예카데린부르크'}, '탄자니아': {'잔지바르'}}\n"
     ]
    }
   ],
   "source": [
    "class Visits:\n",
    "    def __init__(self):\n",
    "        self.data = {}\n",
    "    \n",
    "    def add(self, country, city):\n",
    "        city_set  = self.data.setdefault(country, set())\n",
    "        city_set.add(city)\n",
    "        \n",
    "visits = Visits()\n",
    "visits.add('러시아', '예카데린부르크')\n",
    "visits.add('탄자니아', '잔지바르')\n",
    "\n",
    "print(visits.data)"
   ]
  },
  {
   "cell_type": "markdown",
   "metadata": {},
   "source": [
    "위 코드는 잘 동작하나, 이상적이지 않다.\n",
    "- <font color='red'>setdefault 라는 메서드 이름은 여전히 헷갈리기 때문에 코드를 처음 읽는 사람은 코드 동작을 바로 이해하기 어렵다</font>\n",
    "- <font color='red'>그리고 주어진 나라가 data 딕셔너리에 있든 없든 관계없이 호출할때마다 set() 인스턴스를 새로 만들기 때문에 효율적이지도 않다.</font>"
   ]
  },
  {
   "cell_type": "markdown",
   "metadata": {},
   "source": [
    "- 다행히 collections 내장 모듈에 defaultdict 클래스는 키가 없을 때 자동으로 디폴트 값을 저장해서 이런 용법을 간단히 처리할 수 있게 해준다."
   ]
  },
  {
   "cell_type": "code",
   "execution_count": 17,
   "metadata": {},
   "outputs": [
    {
     "name": "stdout",
     "output_type": "stream",
     "text": [
      "defaultdict(<class 'set'>, {'러시아': {'예카데린부르크'}, '탄자니아': {'잔지바르'}})\n"
     ]
    }
   ],
   "source": [
    "from collections import defaultdict\n",
    "\n",
    "class Visits:\n",
    "    def __init__(self):\n",
    "        self.data = defaultdict(set)\n",
    "    \n",
    "    def add(self, country, city):\n",
    "        self.data[country].add(city)\n",
    "        \n",
    "visits = Visits()\n",
    "visits.add('러시아', '예카데린부르크')\n",
    "visits.add('탄자니아', '잔지바르')\n",
    "\n",
    "print(visits.data)"
   ]
  },
  {
   "cell_type": "markdown",
   "metadata": {},
   "source": [
    "### BETTER WAY 18 - __missing__ 을 사용해 키에 따라 다른 디폴트 값을 생성하는 방법을 알아두라"
   ]
  },
  {
   "cell_type": "markdown",
   "metadata": {},
   "source": [
    "- dict 타입의 하위 클래스를 만들고 __missing__ 특별 메서드를 구현하면 키가 없는 경우를 처리하는 로직을 커스텀화 할 수 있다."
   ]
  },
  {
   "cell_type": "code",
   "execution_count": 21,
   "metadata": {},
   "outputs": [
    {
     "name": "stdout",
     "output_type": "stream",
     "text": [
      "in the __missing__\n"
     ]
    }
   ],
   "source": [
    "from collections import defaultdict\n",
    "\n",
    "def open_picture(profile_path): # 도우미 함수\n",
    "    try:\n",
    "        return open(profile_path, 'a+b')\n",
    "    except OSError:\n",
    "        print(f'경로를 열 수 없습니다. {profile_path}')\n",
    "        raise\n",
    "\n",
    "class Pictures(dict):\n",
    "    def __missing__(self, key):\n",
    "        print('in the __missing__')\n",
    "        value = open_picture(key)\n",
    "        self[key] = value\n",
    "        return value\n",
    "\n",
    "path = 'profile_1234.png'\n",
    "\n",
    "pictures = Pictures()\n",
    "handle = pictures[path]\n",
    "handle.seek(0)\n",
    "image_data = handle.read()\n",
    "\n",
    "handle2 = pictures[path]\n",
    "handle2.seek(0)\n",
    "image_data2 = handle2.read()"
   ]
  },
  {
   "cell_type": "markdown",
   "metadata": {},
   "source": [
    "- pictures[path] 라는 딕셔너리 접근에서 path 가 딕셔너리에 없으면 __missing__ 메서드가 호출된다."
   ]
  },
  {
   "cell_type": "code",
   "execution_count": null,
   "metadata": {},
   "outputs": [],
   "source": []
  }
 ],
 "metadata": {
  "kernelspec": {
   "display_name": "Python 3",
   "language": "python",
   "name": "python3"
  },
  "language_info": {
   "codemirror_mode": {
    "name": "ipython",
    "version": 3
   },
   "file_extension": ".py",
   "mimetype": "text/x-python",
   "name": "python",
   "nbconvert_exporter": "python",
   "pygments_lexer": "ipython3",
   "version": "3.8.1"
  }
 },
 "nbformat": 4,
 "nbformat_minor": 2
}
