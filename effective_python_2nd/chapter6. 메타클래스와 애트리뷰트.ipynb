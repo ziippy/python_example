{
 "cells": [
  {
   "cell_type": "markdown",
   "metadata": {},
   "source": [
    "# 6장 - 메타클래스와 애트리뷰트\n"
   ]
  },
  {
   "cell_type": "markdown",
   "metadata": {},
   "source": [
    "- 파이썬의 특성을 열거할 때 메타클래스를 자주 언급하는데, 실제로 메타클래스가 어떤 목적으로 쓰이는지 이해하는 프로그래머는 거의 없다.\n",
    "- <font color='blue'>메타클래스</font> 라는 이름은 어렴풋이 이 개념이 클래스를 넘어서는 것임을 암시한다.\n",
    "- 간단히 말해, 메타클래스를 사용하면 파이썬의 class 문을 가로채서 클래스가 정의될 때마다 특별한 동작을 제공할 수 있다.\n",
    "<br>\n",
    "<br>\n",
    "- 메타클래스처럼 신비롭고 강력한 파이썬 기능으로는 \"동적으로 애트리뷰트 접근을 커스텀화해주는 내장 기능\" 을 들 수 있다.\n",
    "- 파이썬의 객체지향적인 요소와 방금 말한 두 기능이 함께 어우러지면 간단한 클래스를 복잡한 클래스로 쉽게 변환할 수 있다.\n",
    "<br>\n",
    "<br>\n",
    "- 하지만, 이런 강력함에는 많은 함정이 뒤따른다.\n",
    "- 동적인 애트리뷰트로 객체를 오버라이드하면 예기치 못한 부작용이 생길 수 있다.\n",
    "- <font color='blue'>최소 놀람의 법칙(rule of least surprise)을 따르고 잘 정해진 관용어로만 이런 기능을 사용하는 것이 중요하다.</font>"
   ]
  },
  {
   "cell_type": "markdown",
   "metadata": {},
   "source": [
    "### BETTER WAY 44 - 세터와 게터 메서드 대신 평범한 애트리뷰트를 사용하라"
   ]
  },
  {
   "cell_type": "markdown",
   "metadata": {},
   "source": [
    "- 다른 언어를 사용하다 파이썬을 접한 프로그래머들은 클래스에 getter 나 setter 를 명시적으로 정의하곤 한다."
   ]
  },
  {
   "cell_type": "code",
   "execution_count": 1,
   "metadata": {},
   "outputs": [
    {
     "name": "stdout",
     "output_type": "stream",
     "text": [
      "50000.0\n",
      "10000.0\n"
     ]
    }
   ],
   "source": [
    "class OldResistor:\n",
    "    def __init__(self, ohms):\n",
    "        self._ohms = ohms\n",
    "        \n",
    "    def get_ohms(self):\n",
    "        return self._ohms\n",
    "    \n",
    "    def set_ohms(self, ohms):\n",
    "        self._ohms = ohms\n",
    "        \n",
    "r0 = OldResistor(50e3)\n",
    "print(r0.get_ohms())\n",
    "r0.set_ohms(10e3)\n",
    "print(r0.get_ohms())"
   ]
  },
  {
   "cell_type": "markdown",
   "metadata": {},
   "source": [
    "- 세터와 게터는 사용하기는 쉽지만, 이런 코드는 파이썬답지 않다.\n",
    "- 대신 다음 코드와 같이 항상 단순한 공개 애트리뷰트로부터 구현을 시작하라"
   ]
  },
  {
   "cell_type": "code",
   "execution_count": 2,
   "metadata": {},
   "outputs": [],
   "source": [
    "class Resistor:\n",
    "    def __init__(self, ohms):\n",
    "        self.ohms = ohms\n",
    "        self.voltage = 0\n",
    "        self.current = 0\n",
    "        \n",
    "r1 = Resistor(50e3)\n",
    "r1.ohms = 10e3"
   ]
  },
  {
   "cell_type": "markdown",
   "metadata": {},
   "source": [
    "- 나중에 애트리뷰트가 설정될 때 특별한 기능을 수행해야 한다면, 애트리뷰트를 @property 데코레이터와 대응하는 setter 애트리뷰트로 옮겨갈 수 있다."
   ]
  },
  {
   "cell_type": "code",
   "execution_count": 3,
   "metadata": {},
   "outputs": [
    {
     "name": "stdout",
     "output_type": "stream",
     "text": [
      "이전: 0.00 암페어\n",
      "이후: 0.01 암페어\n"
     ]
    }
   ],
   "source": [
    "class VoltageResistance(Resistor):\n",
    "    def __init__(self, ohms):\n",
    "        super().__init__(ohms)\n",
    "        self._voltage = 0\n",
    "        \n",
    "    @property\n",
    "    def voltage(self):\n",
    "        return self._voltage\n",
    "    \n",
    "    @voltage.setter\n",
    "    def voltage(self, voltage):\n",
    "        self._voltage = voltage\n",
    "        self.current = self._voltage / self.ohms\n",
    "        \n",
    "r2 = VoltageResistance(1e3)\n",
    "print(f'이전: {r2.current:.2f} 암페어')\n",
    "r2.voltage = 10\n",
    "print(f'이후: {r2.current:.2f} 암페어')"
   ]
  },
  {
   "cell_type": "markdown",
   "metadata": {},
   "source": [
    "- 프로퍼티에 setter 를 지정하면 타입을 검사하거나 클래스 프로퍼티에 전달된 값에 대한 검증을 수행할 수 있다."
   ]
  },
  {
   "cell_type": "code",
   "execution_count": 4,
   "metadata": {},
   "outputs": [
    {
     "ename": "ValueError",
     "evalue": "저항은 0보다 큰 값이어야 합니다. 실제 값: 0",
     "output_type": "error",
     "traceback": [
      "\u001b[1;31m---------------------------------------------------------------------------\u001b[0m",
      "\u001b[1;31mValueError\u001b[0m                                Traceback (most recent call last)",
      "\u001b[1;32m<ipython-input-4-eeae5cb86e59>\u001b[0m in \u001b[0;36m<module>\u001b[1;34m\u001b[0m\n\u001b[0;32m     14\u001b[0m \u001b[1;33m\u001b[0m\u001b[0m\n\u001b[0;32m     15\u001b[0m \u001b[0mr3\u001b[0m \u001b[1;33m=\u001b[0m \u001b[0mBoundedResistance\u001b[0m\u001b[1;33m(\u001b[0m\u001b[1;36m1e3\u001b[0m\u001b[1;33m)\u001b[0m\u001b[1;33m\u001b[0m\u001b[1;33m\u001b[0m\u001b[0m\n\u001b[1;32m---> 16\u001b[1;33m \u001b[0mr3\u001b[0m\u001b[1;33m.\u001b[0m\u001b[0mohms\u001b[0m \u001b[1;33m=\u001b[0m \u001b[1;36m0\u001b[0m\u001b[1;33m\u001b[0m\u001b[1;33m\u001b[0m\u001b[0m\n\u001b[0m",
      "\u001b[1;32m<ipython-input-4-eeae5cb86e59>\u001b[0m in \u001b[0;36mohms\u001b[1;34m(self, ohms)\u001b[0m\n\u001b[0;32m     10\u001b[0m     \u001b[1;32mdef\u001b[0m \u001b[0mohms\u001b[0m\u001b[1;33m(\u001b[0m\u001b[0mself\u001b[0m\u001b[1;33m,\u001b[0m \u001b[0mohms\u001b[0m\u001b[1;33m)\u001b[0m\u001b[1;33m:\u001b[0m\u001b[1;33m\u001b[0m\u001b[1;33m\u001b[0m\u001b[0m\n\u001b[0;32m     11\u001b[0m         \u001b[1;32mif\u001b[0m \u001b[0mohms\u001b[0m \u001b[1;33m<=\u001b[0m \u001b[1;36m0\u001b[0m\u001b[1;33m:\u001b[0m\u001b[1;33m\u001b[0m\u001b[1;33m\u001b[0m\u001b[0m\n\u001b[1;32m---> 12\u001b[1;33m             \u001b[1;32mraise\u001b[0m \u001b[0mValueError\u001b[0m\u001b[1;33m(\u001b[0m\u001b[1;34mf'저항은 0보다 큰 값이어야 합니다. 실제 값: {ohms}'\u001b[0m\u001b[1;33m)\u001b[0m\u001b[1;33m\u001b[0m\u001b[1;33m\u001b[0m\u001b[0m\n\u001b[0m\u001b[0;32m     13\u001b[0m         \u001b[0mself\u001b[0m\u001b[1;33m.\u001b[0m\u001b[0m_ohms\u001b[0m \u001b[1;33m=\u001b[0m \u001b[0mohms\u001b[0m\u001b[1;33m\u001b[0m\u001b[1;33m\u001b[0m\u001b[0m\n\u001b[0;32m     14\u001b[0m \u001b[1;33m\u001b[0m\u001b[0m\n",
      "\u001b[1;31mValueError\u001b[0m: 저항은 0보다 큰 값이어야 합니다. 실제 값: 0"
     ]
    }
   ],
   "source": [
    "class BoundedResistance(Resistor):\n",
    "    def __init__(self, ohms):\n",
    "        super().__init__(ohms)\n",
    "        \n",
    "    @property\n",
    "    def ohms(self):\n",
    "        return self._ohms\n",
    "    \n",
    "    @ohms.setter\n",
    "    def ohms(self, ohms):\n",
    "        if ohms <= 0:\n",
    "            raise ValueError(f'저항은 0보다 큰 값이어야 합니다. 실제 값: {ohms}')\n",
    "        self._ohms = ohms\n",
    "        \n",
    "r3 = BoundedResistance(1e3)\n",
    "r3.ohms = 0"
   ]
  },
  {
   "cell_type": "markdown",
   "metadata": {},
   "source": [
    "### BETTER WAY 45 - 애트리뷰트를 리팩터링하는 대신 @property 를 사용하라"
   ]
  },
  {
   "cell_type": "markdown",
   "metadata": {},
   "source": [
    "- 내장 @property 데코레이터를 사용하면, 겉으로는 단순한 애트리뷰트처럼 보이지만 실제로는 지능적인 로직을 수행하는 애트리뷰트를 정의할 수 있다.\n",
    "<br>\n",
    "<br>\n",
    "- @property 의 고급 활용법이자 흔히 사용하는 기법으로는, 간단한 수치 애트리뷰트를 그때그때 요청에 따라 계산해 제공하도록 바꾸는 것을 들 수 있다.\n",
    "- 이 기법은 기존 클래스를 호출하는 코드를 전혀 바꾸지 않고도 클래스 애트리뷰트의 기존 동작을 변경할 수 있기 때문에 아주 유용하다.\n",
    "- 특히 이 방법은 이 클래스를 호출하는 코드 중에 여러분이 제어할 수 없는 코드가 더 많은 경우 더욱 유용하다.\n",
    "<br>\n",
    "<br>\n",
    "- @property 는 인터페이스를 점차 개선해나가는 과정에서 중간중간 필요한 기능을 제공하는 수단으로로 유용하다."
   ]
  },
  {
   "cell_type": "code",
   "execution_count": 6,
   "metadata": {},
   "outputs": [
    {
     "name": "stdout",
     "output_type": "stream",
     "text": [
      "Bucket(quota=100)\n"
     ]
    }
   ],
   "source": [
    "# 예) 일반 파이썬 객체를 사용해 리키 버킷(leaky bucket) 흐름 제어 알고리즘을 구현한다고 하자\n",
    "# 다음 코드의 Bucket 클래스는 남은 가용 용량(quota)과 이 가용 용량의 잔존 시간을 표현\n",
    "\n",
    "from datetime import datetime, timedelta\n",
    "\n",
    "class Bucket:\n",
    "    def __init__(self, period):\n",
    "        self.period_delta = timedelta(seconds=period)\n",
    "        self.reset_time = datetime.now()\n",
    "        self.quota = 0\n",
    "        \n",
    "    def __repr__(self):\n",
    "        return f'Bucket(quota={self.quota})'\n",
    "    \n",
    "# 리키 버킷 알고리즘은 시간을 일정한 간격(주기)으로 구분하고, \n",
    "# 가용 용량을 소비할 때마다 시간을 검사해서 주기가 달라질 경우에는 이전 주기에 미사용한 가용 용량이 새로운 주기로 넘어오지 못하게 막는다.\n",
    "def fill(bucket, amount):\n",
    "    now = datetime.now()\n",
    "    if (now - bucket.reset_time) > bucket.period_delta:\n",
    "        bucket.quota = 0\n",
    "        bucket.reset_time = 0\n",
    "    bucket.quota += amount\n",
    "        \n",
    "# 어떤 작업을 하고 싶을 땐 먼저 리키 버킷으로부터 자신의 작업에 필요한 용량을 할당받아야 한다.\n",
    "def deduct(bucket, amount):\n",
    "    now = datetime.now()\n",
    "    if (now - bucket.reset_time) > bucket.period_delta:\n",
    "        return False # 새 주기가 시작됐는데 아직 버킷 할당량이 재설정되지 않았다.\n",
    "    if bucket.quota - amount < 0:\n",
    "        return False # 버킷의 가용 용량이 충분하지 못하다.\n",
    "    else:\n",
    "        bucket.quota -= amount\n",
    "        return True # 버킷의 가용 용량이 충분하므로 필요한 분량을 사용한다.\n",
    "        \n",
    "bucket = Bucket(60)\n",
    "fill(bucket, 100)\n",
    "print(bucket)"
   ]
  },
  {
   "cell_type": "code",
   "execution_count": 7,
   "metadata": {},
   "outputs": [
    {
     "name": "stdout",
     "output_type": "stream",
     "text": [
      "Bucket(quota=40)\n",
      "Bucket(quota=40)\n"
     ]
    }
   ],
   "source": [
    "deduct(bucket, 60)\n",
    "print(bucket)\n",
    "deduct(bucket, 60)\n",
    "print(bucket)"
   ]
  },
  {
   "cell_type": "code",
   "execution_count": 11,
   "metadata": {},
   "outputs": [
    {
     "name": "stdout",
     "output_type": "stream",
     "text": [
      "최초 NewBucket(max_quota=0, quota_consumed=0)\n",
      "보충 후 NewBucket(max_quota=100, quota_consumed=0)\n"
     ]
    }
   ],
   "source": [
    "# 이 구현의 문제점은 버킷이 시작할 때 가용 용량이 얼마인지 알 수 없다는 것이다.\n",
    "# 이를 해결하기 위해 이번 주기에 재설정된 가용 용량인 max_quota 와 이번 주기에 버킷에서 소비한 용량의 합계인 quota_consumed 를 추적하도록 클래스를 변경할 수 있다.\n",
    "\n",
    "class NewBucket:\n",
    "    def __init__(self, period):\n",
    "        self.period_delta = timedelta(seconds=period)\n",
    "        self.reset_time = datetime.now()\n",
    "        self.max_quota = 0\n",
    "        self.quota_consumed = 0\n",
    "        \n",
    "    def __repr__(self):\n",
    "        return (f'NewBucket(max_quota={self.max_quota}, quota_consumed={self.quota_consumed})')\n",
    "    \n",
    "    # 원래의 Bucket 클래스와 인터페이스를 동일하게 제공하기 위해 @property 데코레이터가 붙은 메서드를 사용해\n",
    "    # 클래스의 두 애트리뷰트(max_quota와 quota_consumed) 에서 현재 가용 용량 수준을 그때그때 계산하게 한다.\n",
    "    @property\n",
    "    def quota(self):\n",
    "        return self.max_quota - self.quota_consumed\n",
    "    \n",
    "    # fill 과 deduct 함수가 quota 애트리뷰트에 값을 할당할 때는 NewBucket 클래스의 현재 사용 방식에 맞춰 특별한 동작을 수행해야 한다.\n",
    "    @quota.setter\n",
    "    def quota(self, amount):\n",
    "        delta = self.max_quota - amount\n",
    "        if amount == 0:\n",
    "            # 새로운 주기가 되고 가용 용량을 재설정하는 경우\n",
    "            self.quota_consumed = 0\n",
    "            self.max_quota = 0\n",
    "        elif delta < 0:\n",
    "            # 새로운 주기가 되고, 가용 용량을 추가하는 경우\n",
    "            assert self.quota_consumed == 0\n",
    "            self.max_quota = amount\n",
    "        else:\n",
    "            # 어떤 주기 안에서 가용 용량을 소비하는 경우\n",
    "            assert self.max_quota >= self.quota_consumed\n",
    "            self.quota_consumed += delta\n",
    "            \n",
    "bucket = NewBucket(60)\n",
    "print('최초', bucket)\n",
    "fill(bucket, 100)\n",
    "print('보충 후', bucket)"
   ]
  },
  {
   "cell_type": "code",
   "execution_count": 12,
   "metadata": {},
   "outputs": [
    {
     "name": "stdout",
     "output_type": "stream",
     "text": [
      "99 용량 사용\n",
      "사용 후 NewBucket(max_quota=100, quota_consumed=99)\n",
      "가용 용량이 작아서 10 용량을 처리할 수 없음\n",
      "여전히 NewBucket(max_quota=100, quota_consumed=99)\n"
     ]
    }
   ],
   "source": [
    "if deduct(bucket, 99):\n",
    "    print('99 용량 사용')\n",
    "else:\n",
    "    print('가용 용량이 작아서 99 용량을 처리할 수 없음')\n",
    "print('사용 후', bucket)\n",
    "\n",
    "if deduct(bucket, 10):\n",
    "    print('10 용량 사용')\n",
    "else:\n",
    "    print('가용 용량이 작아서 10 용량을 처리할 수 없음')\n",
    "print('여전히', bucket)"
   ]
  },
  {
   "cell_type": "markdown",
   "metadata": {},
   "source": [
    "- @property 를 사용하면 데이터 모델을 점진적으로 개선할 수 있으므로 필자는 특히 @property를 좋아한다."
   ]
  },
  {
   "cell_type": "markdown",
   "metadata": {},
   "source": [
    "### BETTER WAY 46 - 재사용 가능한 @property 메서드를 만들려면 디스크립터를 사용하라"
   ]
  },
  {
   "cell_type": "markdown",
   "metadata": {},
   "source": [
    "- @property 내장 기능의 가장 큰 문제점은 재사용성이다.\n",
    "- @property 가 데코레이션하는 메서드를 같은 클래스에 속하는 여러 애트리뷰트로 사용할 수는 없다.\n",
    "- 서로 무관한 클래스 사이에서 @property 데코레이터를 적용한 메서드를 재사용할 수도 없다."
   ]
  },
  {
   "cell_type": "code",
   "execution_count": 1,
   "metadata": {},
   "outputs": [],
   "source": [
    "# 예) 학생의 숙제 점수가 백분율 값인지 검증하고 싶다\n",
    "\n",
    "class Homework:\n",
    "    def __init__(self):\n",
    "        self._grade = 0\n",
    "        \n",
    "    @property\n",
    "    def grade(self):\n",
    "        return self._grade\n",
    "    \n",
    "    @grade.setter\n",
    "    def grade(self, value):\n",
    "        if not (0 <= value <= 100):\n",
    "            raise ValueError('점수는 0과 100 사이입니다.')\n",
    "        self._grade = value\n",
    "        \n",
    "# @property 를 사용하면 이 클래스를 쉽게 사용할 수 있다.\n",
    "galileo = Homework()\n",
    "galileo.grade = 95\n",
    "\n",
    "# 이 학생에게 시험 점수를 부여하고 싶다고 하자\n",
    "class Exam:\n",
    "    def __init__(self):\n",
    "        self._writing_grade = 0\n",
    "        self._math_grade = 0\n",
    "        \n",
    "    @staticmethod\n",
    "    def _check_grade(value):\n",
    "        if not (0 <= value <= 100):\n",
    "            raise ValueError('점수는 0과 100 사이입니다.')\n",
    "            \n",
    "    @property\n",
    "    def writing_grade(self):\n",
    "        return self._writing_grade\n",
    "    \n",
    "    @writing_grade.setter\n",
    "    def writing_grade(self, value):\n",
    "        self._check_grade(value)\n",
    "        self._writing_grade = value\n",
    "        \n",
    "    @property\n",
    "    def math_grade(self):\n",
    "        return self._writing_grade\n",
    "    \n",
    "    @math_grade.setter\n",
    "    def writing_grade(self, value):\n",
    "        self._check_grade(value)\n",
    "        self._writing_grade = value\n",
    "        \n",
    "    # 이런 식으로 과목에 대해서 계속 확장하면, 지겹다. 게다가 이런 접근 방법은 일반적이지도 않다.\n",
    "    # 검증 대상이 늘어나면 @property 와 검증 대상_grade 세터 메서드를 번거롭게 다시 작성해야 한다.\n",
    "    \n",
    "    '''\n",
    "    이런 경우 파이썬에서 적용할 수 있는 더 나은 방법은 디스크립터를 사용하는 것이다.\n",
    "    '''"
   ]
  },
  {
   "cell_type": "markdown",
   "metadata": {},
   "source": [
    "- <font color='blue'>디스크립터 프로토콜</font>은 파이썬 언어에서 애트리뷰트 접근을 해석하는 방법을 정의한다.\n",
    "- 디스크립터 클래스는 \\_\\_get__ 과 \\_\\_set__ 메서드를 제공하고, 이 두 메서드를 사용하면 별다른 준비 코드 없이도 원하는 점수 검증 동작을 재사용할 수 있다."
   ]
  },
  {
   "cell_type": "code",
   "execution_count": 2,
   "metadata": {},
   "outputs": [
    {
     "name": "stdout",
     "output_type": "stream",
     "text": [
      "쓰기 82\n",
      "과학 99\n"
     ]
    }
   ],
   "source": [
    "class Grade:\n",
    "    def __init__(self):\n",
    "        self._value = 0\n",
    "        \n",
    "    def __get__(self, instance, instance_type):\n",
    "        return self._value\n",
    "    \n",
    "    def __set__(self, instance, value):\n",
    "        if not (0 <= value <= 100):\n",
    "            raise ValueError('점수는 0과 100 사이입니다.')\n",
    "        self._value = value\n",
    "    \n",
    "class Exam:\n",
    "    # 클래스 애트리뷰트\n",
    "    math_grade = Grade()\n",
    "    writing_grade = Grade()\n",
    "    science_grade = Grade()\n",
    "\n",
    "'''\n",
    "불행히도 이 구현은 틀렸고, 잘못 동작한다.\n",
    "인스턴스가 하나인 경우에는 예상대로 동작하지만, 여러 인스턴스 객체에 대해서 시도하면 예기치 못한 동작을 볼 수 있다.\n",
    "'''\n",
    "\n",
    "first_exam = Exam()\n",
    "first_exam.writing_grade = 82\n",
    "first_exam.science_grade = 99\n",
    "print('쓰기', first_exam.writing_grade)\n",
    "print('과학', first_exam.science_grade)"
   ]
  },
  {
   "cell_type": "code",
   "execution_count": 3,
   "metadata": {},
   "outputs": [
    {
     "name": "stdout",
     "output_type": "stream",
     "text": [
      "두 번째 쓰기 75\n",
      "첫 번째 쓰기 75\n"
     ]
    }
   ],
   "source": [
    "second_exam = Exam()\n",
    "second_exam.writing_grade = 75\n",
    "print('두 번째 쓰기', second_exam.writing_grade)\n",
    "print('첫 번째 쓰기', first_exam.writing_grade) # 82 이어야 하는데, 75 가 나온다!!!!!!!!!!!!!"
   ]
  },
  {
   "cell_type": "code",
   "execution_count": 4,
   "metadata": {},
   "outputs": [
    {
     "name": "stdout",
     "output_type": "stream",
     "text": [
      "쓰기 82\n",
      "과학 99\n",
      "두 번째 쓰기 75\n",
      "첫 번째 쓰기 82\n"
     ]
    }
   ],
   "source": [
    "'''\n",
    "문제는 writing_grde 클래스 애트리뷰트로 한 Grade 인스턴스를 모든 Exam 인스턴스가 공유한다는 점이다.\n",
    "프로그램이 실행되는 동안 Exam 클래스가 처음 정의될 때, 이 애트리뷰트에 대한 Grade 인스턴스가 단 한 번만 생성된다.\n",
    "Exam 인스턴스가 생성될때마다 매번 Grade 인스턴스가 생성되지는 않는다.             오호라......\n",
    "'''\n",
    "'''\n",
    "이를 해결하려면 Grade 클래스가 각각의 유일한 Exam 인스턴스에 대해 따로 값을 추적하게 해야 한다.\n",
    "인스턴스 상태를 딕셔너리에 저장하면 이런 구현이 가능하다.\n",
    "'''\n",
    "class Grade:\n",
    "    def __init__(self):\n",
    "        self._values = {}\n",
    "        \n",
    "    def __get__(self, instance, instance_type):\n",
    "        if instance is None:\n",
    "            return self\n",
    "        return self._values.get(instance, 0)\n",
    "    \n",
    "    def __set__(self, instance, value):\n",
    "        if not (0 <= value <= 100):\n",
    "            raise ValueError('점수는 0과 100 사이입니다.')\n",
    "        self._values[instance] = value\n",
    "        \n",
    "class Exam:\n",
    "    # 클래스 애트리뷰트\n",
    "    math_grade = Grade()\n",
    "    writing_grade = Grade()\n",
    "    science_grade = Grade()\n",
    "    \n",
    "first_exam = Exam()\n",
    "first_exam.writing_grade = 82\n",
    "first_exam.science_grade = 99\n",
    "print('쓰기', first_exam.writing_grade)\n",
    "print('과학', first_exam.science_grade)\n",
    "\n",
    "second_exam = Exam()\n",
    "second_exam.writing_grade = 75\n",
    "print('두 번째 쓰기', second_exam.writing_grade)\n",
    "print('첫 번째 쓰기', first_exam.writing_grade)"
   ]
  },
  {
   "cell_type": "code",
   "execution_count": 5,
   "metadata": {},
   "outputs": [
    {
     "name": "stdout",
     "output_type": "stream",
     "text": [
      "쓰기 82\n",
      "과학 99\n",
      "두 번째 쓰기 75\n",
      "첫 번째 쓰기 82\n"
     ]
    }
   ],
   "source": [
    "'''\n",
    "위 구현은 간단하지만, 함정이 존재한다.\n",
    "바로 메모리를 누수 시킨다는 점이다.\n",
    "_values 딕셔너리는 프로그램이 실행되는 동안 모든 Exam 인스턴스에 대한 참조를 저장하고 있으므로,\n",
    "인스턴스에 대한 참조 카운터가 절대로 0 이 될 수 없고, 따라서 가비지 컬렉터가 인스턴스 메모리를 절대 재활용하지 못한다.\n",
    "'''\n",
    "'''\n",
    "이 문제를 해결하기 위해 파이썬 weakref 내장 모듈을 사용할 수 있다.\n",
    "이 모듈은 WeakKeyDictioinary 라는 특별한 클래스를 제공한다.\n",
    "이는 딕셔너리에 객체를 저장할 때 일반적인 강한 참조 대신에 약한 참조를 사용한다는 점이다.\n",
    "파이썬 가비지 컬렉터에 의해 약한 참조로만 참조되는 객체가 사용중인 메모리를 언제든지 재활용할 수 있다.\n",
    "'''\n",
    "from weakref import WeakKeyDictionary\n",
    "class Grade:\n",
    "    def __init__(self):\n",
    "        self._values = WeakKeyDictionary()\n",
    "        \n",
    "    def __get__(self, instance, instance_type):\n",
    "        if instance is None:\n",
    "            return self\n",
    "        return self._values.get(instance, 0)\n",
    "    \n",
    "    def __set__(self, instance, value):\n",
    "        if not (0 <= value <= 100):\n",
    "            raise ValueError('점수는 0과 100 사이입니다.')\n",
    "        self._values[instance] = value\n",
    "        \n",
    "class Exam:\n",
    "    # 클래스 애트리뷰트\n",
    "    math_grade = Grade()\n",
    "    writing_grade = Grade()\n",
    "    science_grade = Grade()\n",
    "    \n",
    "first_exam = Exam()\n",
    "first_exam.writing_grade = 82\n",
    "first_exam.science_grade = 99\n",
    "print('쓰기', first_exam.writing_grade)\n",
    "print('과학', first_exam.science_grade)\n",
    "\n",
    "second_exam = Exam()\n",
    "second_exam.writing_grade = 75\n",
    "print('두 번째 쓰기', second_exam.writing_grade)\n",
    "print('첫 번째 쓰기', first_exam.writing_grade)"
   ]
  },
  {
   "cell_type": "markdown",
   "metadata": {},
   "source": [
    "### BETTER WAY 47 - 지연 계산 애트리뷰트가 필요하면 \\_\\_getattr__, \\_\\_getattribute__, \\_\\_setattr__ 을 사용하라"
   ]
  },
  {
   "cell_type": "markdown",
   "metadata": {},
   "source": [
    "- 파이썬 object 훅을 사용하면 시스템을 서로 접합하는 제너릭 코드를 쉽게 작성할 수 있다."
   ]
  },
  {
   "cell_type": "code",
   "execution_count": 6,
   "metadata": {},
   "outputs": [
    {
     "name": "stdout",
     "output_type": "stream",
     "text": [
      "이전: {'exists': 5}\n",
      "foo: foo를 위한 값\n",
      "이후: {'exists': 5, 'foo': 'foo를 위한 값'}\n"
     ]
    }
   ],
   "source": [
    "# 예를 들어\n",
    "# 데이터베이스 레코드를 파이썬 객체로 표현하고 싶다고 하자.\n",
    "\n",
    "# 데이터베이스에는 이미 스키마 집합이 있다.\n",
    "# 우리가 만들 레코드에 대응하는 코드도 데이터베이스 스키마가 어떤 모습인지 알아야 한다.\n",
    "# 하지만, 파이썬에서 데이터베이스와 파이썬 객체를 연결해주는 코드가 특정 스키마만 표현할 필요는 없다.\n",
    "\n",
    "# 스키마를 표현하는 클래스는 더 일반적으로 만들 수 있다.\n",
    "\n",
    "# How?\n",
    "# 파이썬에서는 __getattr__ 이라는 특별 메서드를 사용해 이런 동적 기능을 활용할 수 있다.\n",
    "# 어떤 클래스안에 __getattr__ 메서드 정의가 있으면, 이 객체의 인스턴스 딕셔너리에서 찾을 수 없는 애트리뷰트 접근할때마다 __getattr__ 이 호출된다.\n",
    "\n",
    "class LazyRecord:\n",
    "    def __init__(self):\n",
    "        self.exists = 5\n",
    "        \n",
    "    def __getattr__(self, name):\n",
    "        value = f'{name}를 위한 값'\n",
    "        setattr(self, name, value)\n",
    "        return value\n",
    "    \n",
    "data = LazyRecord()\n",
    "print('이전:', data.__dict__)\n",
    "print('foo:', data.foo) # 존재하지 않는 애트리뷰트 접근. 따라서 __getattr__ 이 호출되고 이 메서드는 인스턴스 딕셔너리를 변경한다.\n",
    "print('이후:', data.__dict__)"
   ]
  },
  {
   "cell_type": "markdown",
   "metadata": {},
   "source": [
    "### BETTER WAY 48 - \\_\\_init_subclass__를 사용해 하위 클래스를 검증하라"
   ]
  },
  {
   "cell_type": "markdown",
   "metadata": {},
   "source": [
    "- 메타클래스의 가장 간단한 활용법 중 하나는 어떤 클래스가 제대로 구현됬는지 검증하는 것이다.\n",
    "- 복잡한 클래스 계층을 설계할 때, 어떤 스타일을 강제로 지키도록 만들거나, 메서드를 오버라이드하도록 요청하거나, 클래스 애트리뷰트 사이에 엄격한 관계를 가지도록 요구할 수 있다.\n",
    "- 메타클래스는 이런 목적을 달성할 수 있다.\n",
    "- 새로운 하위 클래스가 정의될 때마다 이런 검증 코드를 수행하는 신뢰성 있는 방법을 제공하기 때문이다."
   ]
  },
  {
   "cell_type": "markdown",
   "metadata": {},
   "source": [
    " - 메타클래스가 어떻게 작동하는지 이해하는 것이 중요하다.\n",
    " - 메타클래스는 type을 상속해 정의한다.\n",
    " - 기본적인 경우 메타클래스는 \\_\\_new__ 메서드를 통해 자신과 연관된 클래스의 내용을 받는다."
   ]
  },
  {
   "cell_type": "code",
   "execution_count": 5,
   "metadata": {},
   "outputs": [
    {
     "name": "stdout",
     "output_type": "stream",
     "text": [
      "* 실행: MyClass의 메타 <class '__main__.Meta'>.__new__\n",
      "기반 클래스들: ()\n",
      "{'__module__': '__main__', '__qualname__': 'MyClass', 'stuff': 123, 'foo': <function MyClass.foo at 0x000002EC86DCCC10>}\n",
      "* 실행: MySubclass의 메타 <class '__main__.Meta'>.__new__\n",
      "기반 클래스들: (<class '__main__.MyClass'>,)\n",
      "{'__module__': '__main__', '__qualname__': 'MySubclass', 'other': 567, 'bar': <function MySubclass.bar at 0x000002EC86DCC3A0>}\n"
     ]
    }
   ],
   "source": [
    "class Meta(type):\n",
    "    def __new__(meta, name, bases, class_dict):\n",
    "        print(f'* 실행: {name}의 메타 {meta}.__new__')\n",
    "        print('기반 클래스들:', bases)\n",
    "        print(class_dict)\n",
    "        return type.__new__(meta, name, bases, class_dict)\n",
    "    \n",
    "class MyClass(metaclass=Meta):\n",
    "    stuff = 123\n",
    "    \n",
    "    def foo(self):\n",
    "        pass\n",
    "    \n",
    "class MySubclass(MyClass):\n",
    "    other = 567\n",
    "    \n",
    "    def bar(self):\n",
    "        pass\n",
    "    \n",
    "a = MyClass()"
   ]
  },
  {
   "cell_type": "code",
   "execution_count": 6,
   "metadata": {},
   "outputs": [],
   "source": [
    "b = MySubclass()"
   ]
  },
  {
   "cell_type": "markdown",
   "metadata": {},
   "source": [
    "- 메타클래스는 클래스 이름, 클래스가 상속하는 부모 클래스들, class 의 본문에 정의된 모든 클래스 애트리뷰트에 접근할 수 있다.\n",
    "- 모든 클래스는 object 를 상속하기 때문에 메타클래스가 받는 부모 클래스의 튜플 안에는 object 가 명시적으로 들어 있지 않다."
   ]
  },
  {
   "cell_type": "code",
   "execution_count": 11,
   "metadata": {},
   "outputs": [],
   "source": [
    "# 연관된 클래스가 정의되기 전에 이 클래스의 모든 파라미터를 검증하려면 Meta.__new__에 기능을 추가해야 한다.\n",
    "\n",
    "# 예) 다각형을 표현하는 타입\n",
    "\n",
    "class ValidatePolygon(type):\n",
    "    def __new__(meta, name, bases, class_dict):\n",
    "        # Polygon 클래스의 하위 클래스만 검증한다.\n",
    "        if bases:\n",
    "            if class_dict['sides'] < 3:\n",
    "                raise ValueError('다각형 변은 3개 이상이어야 함')\n",
    "        return type.__new__(meta, name, bases, class_dict)\n",
    "    \n",
    "class Polygon(metaclass=ValidatePolygon):\n",
    "    sides = None\n",
    "    \n",
    "    @classmethod\n",
    "    def interior_angles(cls):\n",
    "        return (cls.sides - 2) * 180\n",
    "    \n",
    "class Triangle(Polygon):\n",
    "    sides = 3\n",
    "    \n",
    "class Rectangle(Polygon):\n",
    "    sides = 4\n",
    "    \n",
    "class Nonagon(Polygon):\n",
    "    sides = 9\n",
    "\n",
    "assert Triangle.interior_angles() == 180\n",
    "assert Rectangle.interior_angles() == 360\n",
    "assert Nonagon.interior_angles() == 1260"
   ]
  },
  {
   "cell_type": "code",
   "execution_count": 12,
   "metadata": {},
   "outputs": [
    {
     "name": "stdout",
     "output_type": "stream",
     "text": [
      "class 이전\n",
      "sides 이전\n",
      "sides 이후\n"
     ]
    },
    {
     "ename": "ValueError",
     "evalue": "다각형 변은 3개 이상이어야 함",
     "output_type": "error",
     "traceback": [
      "\u001b[1;31m---------------------------------------------------------------------------\u001b[0m",
      "\u001b[1;31mValueError\u001b[0m                                Traceback (most recent call last)",
      "\u001b[1;32m<ipython-input-12-a1b75155cf86>\u001b[0m in \u001b[0;36m<module>\u001b[1;34m\u001b[0m\n\u001b[0;32m      1\u001b[0m \u001b[0mprint\u001b[0m\u001b[1;33m(\u001b[0m\u001b[1;34m'class 이전'\u001b[0m\u001b[1;33m)\u001b[0m\u001b[1;33m\u001b[0m\u001b[1;33m\u001b[0m\u001b[0m\n\u001b[0;32m      2\u001b[0m \u001b[1;33m\u001b[0m\u001b[0m\n\u001b[1;32m----> 3\u001b[1;33m \u001b[1;32mclass\u001b[0m \u001b[0mLine\u001b[0m\u001b[1;33m(\u001b[0m\u001b[0mPolygon\u001b[0m\u001b[1;33m)\u001b[0m\u001b[1;33m:\u001b[0m\u001b[1;33m\u001b[0m\u001b[1;33m\u001b[0m\u001b[0m\n\u001b[0m\u001b[0;32m      4\u001b[0m     \u001b[0mprint\u001b[0m\u001b[1;33m(\u001b[0m\u001b[1;34m'sides 이전'\u001b[0m\u001b[1;33m)\u001b[0m\u001b[1;33m\u001b[0m\u001b[1;33m\u001b[0m\u001b[0m\n\u001b[0;32m      5\u001b[0m     \u001b[0msides\u001b[0m \u001b[1;33m=\u001b[0m \u001b[1;36m2\u001b[0m\u001b[1;33m\u001b[0m\u001b[1;33m\u001b[0m\u001b[0m\n",
      "\u001b[1;32m<ipython-input-11-bd6aca977866>\u001b[0m in \u001b[0;36m__new__\u001b[1;34m(meta, name, bases, class_dict)\u001b[0m\n\u001b[0;32m      8\u001b[0m         \u001b[1;32mif\u001b[0m \u001b[0mbases\u001b[0m\u001b[1;33m:\u001b[0m\u001b[1;33m\u001b[0m\u001b[1;33m\u001b[0m\u001b[0m\n\u001b[0;32m      9\u001b[0m             \u001b[1;32mif\u001b[0m \u001b[0mclass_dict\u001b[0m\u001b[1;33m[\u001b[0m\u001b[1;34m'sides'\u001b[0m\u001b[1;33m]\u001b[0m \u001b[1;33m<\u001b[0m \u001b[1;36m3\u001b[0m\u001b[1;33m:\u001b[0m\u001b[1;33m\u001b[0m\u001b[1;33m\u001b[0m\u001b[0m\n\u001b[1;32m---> 10\u001b[1;33m                 \u001b[1;32mraise\u001b[0m \u001b[0mValueError\u001b[0m\u001b[1;33m(\u001b[0m\u001b[1;34m'다각형 변은 3개 이상이어야 함'\u001b[0m\u001b[1;33m)\u001b[0m\u001b[1;33m\u001b[0m\u001b[1;33m\u001b[0m\u001b[0m\n\u001b[0m\u001b[0;32m     11\u001b[0m         \u001b[1;32mreturn\u001b[0m \u001b[0mtype\u001b[0m\u001b[1;33m.\u001b[0m\u001b[0m__new__\u001b[0m\u001b[1;33m(\u001b[0m\u001b[0mmeta\u001b[0m\u001b[1;33m,\u001b[0m \u001b[0mname\u001b[0m\u001b[1;33m,\u001b[0m \u001b[0mbases\u001b[0m\u001b[1;33m,\u001b[0m \u001b[0mclass_dict\u001b[0m\u001b[1;33m)\u001b[0m\u001b[1;33m\u001b[0m\u001b[1;33m\u001b[0m\u001b[0m\n\u001b[0;32m     12\u001b[0m \u001b[1;33m\u001b[0m\u001b[0m\n",
      "\u001b[1;31mValueError\u001b[0m: 다각형 변은 3개 이상이어야 함"
     ]
    }
   ],
   "source": [
    "print('class 이전')\n",
    "\n",
    "class Line(Polygon):\n",
    "    print('sides 이전')\n",
    "    sides = 2\n",
    "    print('sides 이후')\n",
    "    \n",
    "print('class 이후')"
   ]
  },
  {
   "cell_type": "markdown",
   "metadata": {},
   "source": [
    "- 파이썬에게 이런 기본적인 작업을 시키기 위해 너무 복잡한 코드를 작성해야 하는 것처럼 보인다.\n",
    "- 다행히 파이썬 3.6 에는 메타클래스를 정의하지 않고 같은 동작을 구현할 수 있는 더 단순한 구문 (\\_\\_init_subclass__ 특별 클래스 메서드를 정의하는 방식)이 추가되었다."
   ]
  },
  {
   "cell_type": "code",
   "execution_count": 26,
   "metadata": {},
   "outputs": [],
   "source": [
    "class BetterPolygon:\n",
    "    sides = None # 이 하위 클래스에서 이 애트리뷰트 값을 지정해야 함\n",
    "        \n",
    "    def __init_subclass__(cls):\n",
    "        super().__init_subclass__()\n",
    "        if cls.sides < 3:\n",
    "            raise ValueError('다각형 변은 3개 이상이어야 함')\n",
    "        \n",
    "    @classmethod\n",
    "    def interior_angles(cls):\n",
    "        return (cls.sides - 2) * 180\n",
    "    \n",
    "class Hexagon(BetterPolygon):\n",
    "    sides = 6\n",
    "    \n",
    "assert Hexagon.interior_angles() == 720"
   ]
  },
  {
   "cell_type": "code",
   "execution_count": 27,
   "metadata": {},
   "outputs": [
    {
     "name": "stdout",
     "output_type": "stream",
     "text": [
      "class 이전\n",
      "sides 이전\n",
      "sides 이후\n"
     ]
    },
    {
     "ename": "ValueError",
     "evalue": "다각형 변은 3개 이상이어야 함",
     "output_type": "error",
     "traceback": [
      "\u001b[1;31m---------------------------------------------------------------------------\u001b[0m",
      "\u001b[1;31mValueError\u001b[0m                                Traceback (most recent call last)",
      "\u001b[1;32m<ipython-input-27-86a28a7f7a48>\u001b[0m in \u001b[0;36m<module>\u001b[1;34m\u001b[0m\n\u001b[0;32m      1\u001b[0m \u001b[0mprint\u001b[0m\u001b[1;33m(\u001b[0m\u001b[1;34m'class 이전'\u001b[0m\u001b[1;33m)\u001b[0m\u001b[1;33m\u001b[0m\u001b[1;33m\u001b[0m\u001b[0m\n\u001b[0;32m      2\u001b[0m \u001b[1;33m\u001b[0m\u001b[0m\n\u001b[1;32m----> 3\u001b[1;33m \u001b[1;32mclass\u001b[0m \u001b[0mLine\u001b[0m\u001b[1;33m(\u001b[0m\u001b[0mBetterPolygon\u001b[0m\u001b[1;33m)\u001b[0m\u001b[1;33m:\u001b[0m\u001b[1;33m\u001b[0m\u001b[1;33m\u001b[0m\u001b[0m\n\u001b[0m\u001b[0;32m      4\u001b[0m     \u001b[0mprint\u001b[0m\u001b[1;33m(\u001b[0m\u001b[1;34m'sides 이전'\u001b[0m\u001b[1;33m)\u001b[0m\u001b[1;33m\u001b[0m\u001b[1;33m\u001b[0m\u001b[0m\n\u001b[0;32m      5\u001b[0m     \u001b[0msides\u001b[0m \u001b[1;33m=\u001b[0m \u001b[1;36m1\u001b[0m\u001b[1;33m\u001b[0m\u001b[1;33m\u001b[0m\u001b[0m\n",
      "\u001b[1;32m<ipython-input-26-adc707f3bc2d>\u001b[0m in \u001b[0;36m__init_subclass__\u001b[1;34m(cls)\u001b[0m\n\u001b[0;32m      5\u001b[0m         \u001b[0msuper\u001b[0m\u001b[1;33m(\u001b[0m\u001b[1;33m)\u001b[0m\u001b[1;33m.\u001b[0m\u001b[0m__init_subclass__\u001b[0m\u001b[1;33m(\u001b[0m\u001b[1;33m)\u001b[0m\u001b[1;33m\u001b[0m\u001b[1;33m\u001b[0m\u001b[0m\n\u001b[0;32m      6\u001b[0m         \u001b[1;32mif\u001b[0m \u001b[0mcls\u001b[0m\u001b[1;33m.\u001b[0m\u001b[0msides\u001b[0m \u001b[1;33m<\u001b[0m \u001b[1;36m3\u001b[0m\u001b[1;33m:\u001b[0m\u001b[1;33m\u001b[0m\u001b[1;33m\u001b[0m\u001b[0m\n\u001b[1;32m----> 7\u001b[1;33m             \u001b[1;32mraise\u001b[0m \u001b[0mValueError\u001b[0m\u001b[1;33m(\u001b[0m\u001b[1;34m'다각형 변은 3개 이상이어야 함'\u001b[0m\u001b[1;33m)\u001b[0m\u001b[1;33m\u001b[0m\u001b[1;33m\u001b[0m\u001b[0m\n\u001b[0m\u001b[0;32m      8\u001b[0m \u001b[1;33m\u001b[0m\u001b[0m\n\u001b[0;32m      9\u001b[0m     \u001b[1;33m@\u001b[0m\u001b[0mclassmethod\u001b[0m\u001b[1;33m\u001b[0m\u001b[1;33m\u001b[0m\u001b[0m\n",
      "\u001b[1;31mValueError\u001b[0m: 다각형 변은 3개 이상이어야 함"
     ]
    }
   ],
   "source": [
    "print('class 이전')\n",
    "\n",
    "class Line(BetterPolygon):\n",
    "    print('sides 이전')\n",
    "    sides = 1\n",
    "    print('sides 이후')\n",
    "    \n",
    "print('class 이후')"
   ]
  },
  {
   "cell_type": "markdown",
   "metadata": {},
   "source": [
    "### BETTER WAY 49 - \\_\\_init_subclass__를 사용해 클래스 확장을 등록하라"
   ]
  },
  {
   "cell_type": "markdown",
   "metadata": {},
   "source": [
    "- 메타클래스의 다른 용례로 프로그램이 자동으로 타입을 등록하는 것이 있다.\n",
    "- 간단한 식별자를 이용해 그에 해당하는 클래스를 찾는 역검색을 하고 싶을 때 이런 등록 기능이 유용하다."
   ]
  },
  {
   "cell_type": "code",
   "execution_count": 1,
   "metadata": {},
   "outputs": [
    {
     "name": "stdout",
     "output_type": "stream",
     "text": [
      "객체: Point2D(5, 3)\n",
      "직렬화한 값: {\"args\": [5, 3]}\n"
     ]
    }
   ],
   "source": [
    "# 예) 파이썬 object 를 JSON 으로 직렬화하는 직렬화 표현 방식을 구현한다고 하자\n",
    "\n",
    "import json\n",
    "\n",
    "class Serializable:\n",
    "    def __init__(self, *args):\n",
    "        self.args = args\n",
    "        \n",
    "    def serialize(self):\n",
    "        return json.dumps({'args': self.args})\n",
    "    \n",
    "class Point2D(Serializable):\n",
    "    def __init__(self, x, y):\n",
    "        super().__init__(x, y)\n",
    "        self.x = x\n",
    "        self.y = y\n",
    "        \n",
    "    def __repr__(self):\n",
    "        return f'Point2D({self.x}, {self.y})'\n",
    "        \n",
    "point = Point2D(5, 3)\n",
    "print('객체:', point)\n",
    "print('직렬화한 값:', point.serialize())"
   ]
  },
  {
   "cell_type": "code",
   "execution_count": 4,
   "metadata": {},
   "outputs": [
    {
     "name": "stdout",
     "output_type": "stream",
     "text": [
      "객체: Point2D(5, 3)\n",
      "직렬화한 값: {\"args\": [5, 3]}\n",
      "역직렬화한 값: Point2D(5, 3)\n"
     ]
    }
   ],
   "source": [
    "# 이제 이 JSON 문자열을 역직렬화해서 문자열이 표현하는 Point2D 객체를 구성해야 한다.\n",
    "\n",
    "class Deserializable(Serializable):\n",
    "    @classmethod\n",
    "    def deserialize(cls, json_data):\n",
    "        params = json.loads(json_data)\n",
    "        return cls(*params['args'])\n",
    "        \n",
    "class BetterPoint2D(Deserializable):\n",
    "    def __init__(self, x, y):\n",
    "        super().__init__(x, y)\n",
    "        self.x = x\n",
    "        self.y = y\n",
    "        \n",
    "    def __repr__(self):\n",
    "        return f'Point2D({self.x}, {self.y})'\n",
    "    \n",
    "point = BetterPoint2D(5, 3)\n",
    "print('객체:', point)\n",
    "data = point.serialize()\n",
    "print('직렬화한 값:', data)\n",
    "data2 = point.deserialize(data)\n",
    "print('역직렬화한 값:', data2)"
   ]
  },
  {
   "cell_type": "code",
   "execution_count": 7,
   "metadata": {},
   "outputs": [
    {
     "name": "stdout",
     "output_type": "stream",
     "text": [
      "객체: EvenBetterPoint2D(5, 3)\n",
      "직렬화한 값: {\"class\": \"EvenBetterPoint2D\", \"args\": [5, 3]}\n",
      "역직렬화한 값: EvenBetterPoint2D(5, 3)\n"
     ]
    }
   ],
   "source": [
    "# 이 접근 방식은 우리가 Point2D 나 BetterPoint2D 라는 타입을 미리 알고 있는 경우에만 사용할 수 있다는 문제가 있다.\n",
    "\n",
    "# 따라서, JSON 으로 직렬화 할 클래스가 아주 많더라도 역직렬화 하는 함수는 하나만 있는 것이 이상적이다.\n",
    "\n",
    "class BetterSerializable:\n",
    "    def __init__(self, *args):\n",
    "        self.args = args\n",
    "        \n",
    "    def serialize(self):\n",
    "        return json.dumps({\n",
    "            'class': self.__class__.__name__,\n",
    "            'args': self.args,\n",
    "        })\n",
    "        \n",
    "    def __repr__(self):\n",
    "        name = self.__class__.__name__\n",
    "        args_str = ', '.join(str(x) for x in self.args)\n",
    "        return f'{name}({args_str})'\n",
    "    \n",
    "registry = {}\n",
    "\n",
    "def register_class(target_class):\n",
    "    registry[target_class.__name__] = target_class\n",
    "    \n",
    "def deserialize(data):\n",
    "    params = json.loads(data)\n",
    "    name = params['class']\n",
    "    target_class = registry[name]\n",
    "    return target_class(*params['args'])\n",
    "\n",
    "# deserialize 가 항상 제대로 동작하려면, 나중에 역직렬화할 모든 클래스에서 register_class 를 호출해야 한다.\n",
    "\n",
    "class EvenBetterPoint2D(BetterSerializable):\n",
    "    def __init__(self, x, y):\n",
    "        super().__init__(x, y)\n",
    "        self.x = x\n",
    "        self.y = y\n",
    "        \n",
    "register_class(EvenBetterPoint2D) # 반드시 호출\n",
    "\n",
    "# 이후 테스트\n",
    "point = EvenBetterPoint2D(5, 3)\n",
    "print('객체:', point)\n",
    "data = point.serialize()\n",
    "print('직렬화한 값:', data)\n",
    "data2 = deserialize(data)\n",
    "print('역직렬화한 값:', data2)"
   ]
  },
  {
   "cell_type": "code",
   "execution_count": 8,
   "metadata": {},
   "outputs": [
    {
     "name": "stdout",
     "output_type": "stream",
     "text": [
      "객체: Point3D(5, 9, -4)\n",
      "직렬화한 값: {\"class\": \"Point3D\", \"args\": [5, 9, -4]}\n"
     ]
    },
    {
     "ename": "KeyError",
     "evalue": "'Point3D'",
     "output_type": "error",
     "traceback": [
      "\u001b[1;31m---------------------------------------------------------------------------\u001b[0m",
      "\u001b[1;31mKeyError\u001b[0m                                  Traceback (most recent call last)",
      "\u001b[1;32m<ipython-input-8-4b047500da05>\u001b[0m in \u001b[0;36m<module>\u001b[1;34m\u001b[0m\n\u001b[0;32m     16\u001b[0m \u001b[0mdata\u001b[0m \u001b[1;33m=\u001b[0m \u001b[0mpoint\u001b[0m\u001b[1;33m.\u001b[0m\u001b[0mserialize\u001b[0m\u001b[1;33m(\u001b[0m\u001b[1;33m)\u001b[0m\u001b[1;33m\u001b[0m\u001b[1;33m\u001b[0m\u001b[0m\n\u001b[0;32m     17\u001b[0m \u001b[0mprint\u001b[0m\u001b[1;33m(\u001b[0m\u001b[1;34m'직렬화한 값:'\u001b[0m\u001b[1;33m,\u001b[0m \u001b[0mdata\u001b[0m\u001b[1;33m)\u001b[0m\u001b[1;33m\u001b[0m\u001b[1;33m\u001b[0m\u001b[0m\n\u001b[1;32m---> 18\u001b[1;33m \u001b[0mdata2\u001b[0m \u001b[1;33m=\u001b[0m \u001b[0mdeserialize\u001b[0m\u001b[1;33m(\u001b[0m\u001b[0mdata\u001b[0m\u001b[1;33m)\u001b[0m\u001b[1;33m\u001b[0m\u001b[1;33m\u001b[0m\u001b[0m\n\u001b[0m\u001b[0;32m     19\u001b[0m \u001b[0mprint\u001b[0m\u001b[1;33m(\u001b[0m\u001b[1;34m'역직렬화한 값:'\u001b[0m\u001b[1;33m,\u001b[0m \u001b[0mdata2\u001b[0m\u001b[1;33m)\u001b[0m\u001b[1;33m\u001b[0m\u001b[1;33m\u001b[0m\u001b[0m\n",
      "\u001b[1;32m<ipython-input-7-fb8645cf1fda>\u001b[0m in \u001b[0;36mdeserialize\u001b[1;34m(data)\u001b[0m\n\u001b[0;32m     26\u001b[0m     \u001b[0mparams\u001b[0m \u001b[1;33m=\u001b[0m \u001b[0mjson\u001b[0m\u001b[1;33m.\u001b[0m\u001b[0mloads\u001b[0m\u001b[1;33m(\u001b[0m\u001b[0mdata\u001b[0m\u001b[1;33m)\u001b[0m\u001b[1;33m\u001b[0m\u001b[1;33m\u001b[0m\u001b[0m\n\u001b[0;32m     27\u001b[0m     \u001b[0mname\u001b[0m \u001b[1;33m=\u001b[0m \u001b[0mparams\u001b[0m\u001b[1;33m[\u001b[0m\u001b[1;34m'class'\u001b[0m\u001b[1;33m]\u001b[0m\u001b[1;33m\u001b[0m\u001b[1;33m\u001b[0m\u001b[0m\n\u001b[1;32m---> 28\u001b[1;33m     \u001b[0mtarget_class\u001b[0m \u001b[1;33m=\u001b[0m \u001b[0mregistry\u001b[0m\u001b[1;33m[\u001b[0m\u001b[0mname\u001b[0m\u001b[1;33m]\u001b[0m\u001b[1;33m\u001b[0m\u001b[1;33m\u001b[0m\u001b[0m\n\u001b[0m\u001b[0;32m     29\u001b[0m     \u001b[1;32mreturn\u001b[0m \u001b[0mtarget_class\u001b[0m\u001b[1;33m(\u001b[0m\u001b[1;33m*\u001b[0m\u001b[0mparams\u001b[0m\u001b[1;33m[\u001b[0m\u001b[1;34m'args'\u001b[0m\u001b[1;33m]\u001b[0m\u001b[1;33m)\u001b[0m\u001b[1;33m\u001b[0m\u001b[1;33m\u001b[0m\u001b[0m\n\u001b[0;32m     30\u001b[0m \u001b[1;33m\u001b[0m\u001b[0m\n",
      "\u001b[1;31mKeyError\u001b[0m: 'Point3D'"
     ]
    }
   ],
   "source": [
    "'''\n",
    "이 방식의 문제점은 register_class 함수 호출을 잊어버릴 수 있다는 것이다.\n",
    "'''\n",
    "class Point3D(BetterSerializable):\n",
    "    def __init__(self, x, y, z):\n",
    "        super().__init__(x, y, z)\n",
    "        self.x = x\n",
    "        self.y = y\n",
    "        self.z = z\n",
    "\n",
    "# register_class 호출을 잊어버렸다!\n",
    "\n",
    "# 이후 테스트\n",
    "point = Point3D(5, 9, -4)\n",
    "print('객체:', point)\n",
    "data = point.serialize()\n",
    "print('직렬화한 값:', data)\n",
    "data2 = deserialize(data)\n",
    "print('역직렬화한 값:', data2)"
   ]
  },
  {
   "cell_type": "code",
   "execution_count": 9,
   "metadata": {},
   "outputs": [
    {
     "name": "stdout",
     "output_type": "stream",
     "text": [
      "객체: Point3D(5, 9, -4)\n",
      "직렬화한 값: {\"class\": \"Point3D\", \"args\": [5, 9, -4]}\n",
      "역직렬화한 값: Point3D(5, 9, -4)\n"
     ]
    }
   ],
   "source": [
    "'''\n",
    "프로그래머가 BetterSerializable 를 사용한다는 의도를 감지하고 적절한 동작을 수행해 항상 제대로 register_class 를 호출해 줄 수 있다면 어떨까?\n",
    "메타클래스는 하위 클래스가 정의될 때 class 문을 가로채서 이런 동작을 수행할 수 있다.\n",
    "'''\n",
    "class Meta(type):\n",
    "    def __new__(meta, name, bases, class_dict):\n",
    "        cls = type.__new__(meta, name, bases, class_dict)\n",
    "        register_class(cls)\n",
    "        return cls\n",
    "    \n",
    "class RegisteredSerializable(BetterSerializable, metaclass=Meta):\n",
    "    pass\n",
    "\n",
    "# 이제는 RegisteredSerializable 의 하위 클래스를 정의할 때 register_class 가 호출되고 deserialize 가 항상 제대로 동작한다고 할 수 있다.\n",
    "\n",
    "class Point3D(RegisteredSerializable):\n",
    "    def __init__(self, x, y, z):\n",
    "        super().__init__(x, y, z)\n",
    "        self.x = x\n",
    "        self.y = y\n",
    "        self.z = z\n",
    "\n",
    "# 이후 테스트\n",
    "point = Point3D(5, 9, -4)\n",
    "print('객체:', point)\n",
    "data = point.serialize()\n",
    "print('직렬화한 값:', data)\n",
    "data2 = deserialize(data)\n",
    "print('역직렬화한 값:', data2)"
   ]
  },
  {
   "cell_type": "code",
   "execution_count": 10,
   "metadata": {},
   "outputs": [
    {
     "name": "stdout",
     "output_type": "stream",
     "text": [
      "객체: Point3D(5, 9, -4)\n",
      "직렬화한 값: {\"class\": \"Point3D\", \"args\": [5, 9, -4]}\n",
      "역직렬화한 값: Point3D(5, 9, -4)\n"
     ]
    }
   ],
   "source": [
    "# 더 좋은 접근 방법은 __init_subclass__ 특별 클래스 메서드를 사용하는 것이다.\n",
    "class BetterRegisteredSerializable(BetterSerializable):\n",
    "    def __init_subclass__(cls):\n",
    "        super().__init_subclass__()\n",
    "        register_class(cls)\n",
    "        \n",
    "class Point3D(BetterRegisteredSerializable):\n",
    "    def __init__(self, x, y, z):\n",
    "        super().__init__(x, y, z)\n",
    "        self.x = x\n",
    "        self.y = y\n",
    "        self.z = z\n",
    "\n",
    "# 이후 테스트\n",
    "point = Point3D(5, 9, -4)\n",
    "print('객체:', point)\n",
    "data = point.serialize()\n",
    "print('직렬화한 값:', data)\n",
    "data2 = deserialize(data)\n",
    "print('역직렬화한 값:', data2)"
   ]
  },
  {
   "cell_type": "markdown",
   "metadata": {},
   "source": [
    "### BETTER WAY 50 - \\_\\_set_name__ 으로 클래스 애트리뷰트를 표시하라"
   ]
  },
  {
   "cell_type": "markdown",
   "metadata": {},
   "source": [
    "- 메타클래스를 통해 사용할 수 있는 유용한 기능이 한 가지 더 있다.\n",
    "- 클래스가 정의된 후 클래스가 실제로 사용되기 이전인 시점에 프로퍼티를 변경하거나 표시할 수 있는 기능이다."
   ]
  },
  {
   "cell_type": "code",
   "execution_count": 11,
   "metadata": {},
   "outputs": [
    {
     "name": "stdout",
     "output_type": "stream",
     "text": [
      "이전:  {}\n",
      "이후: 유클리드 {'_first_name': '유클리드'}\n"
     ]
    }
   ],
   "source": [
    "# 예) 고객 데이터베이스의 로우(row)를 표현하는 새 클래스를 정의한다고 하자.\n",
    "\n",
    "class Field:\n",
    "    def __init__(self, name):\n",
    "        self.name = name\n",
    "        self.internal_name = '_' + self.name\n",
    "        \n",
    "    def __get__(self, instance, instance_type):\n",
    "        if instance is None:\n",
    "            return self\n",
    "        return getattr(instance, self.internal_name, '')\n",
    "    \n",
    "    def __set__(self, instance, value):\n",
    "        setattr(instance, self.internal_name, value)\n",
    "        \n",
    "# 컬럼 이름을 Field 디스크립터에 저장하고 나면, setattr 내장 함수를 사용 해 인스턴스별 상태를 직접 인스턴스 딕셔너리에 저장할 수 있고,\n",
    "# 나중에 getattr 로 인스턴스의 상태를 읽을 수 있다.\n",
    "\n",
    "class Customer:\n",
    "    # 클래스 애트리뷰트\n",
    "    first_name = Field('first_name')\n",
    "    last_name = Field('last_name')\n",
    "    prefix = Field('prefix')\n",
    "    suffix = Field('suffix')\n",
    "    \n",
    "# 이 클래스는 사용하기 쉽다\n",
    "# 예상대로 Field 디스크립터가 __dict__ 인스턴스 딕셔너리를 변화시킨다는 사실을 확인할 수 있다.\n",
    "\n",
    "cust = Customer()\n",
    "print(f'이전: {cust.first_name} {cust.__dict__}')\n",
    "cust.first_name = '유클리드'\n",
    "print(f'이후: {cust.first_name} {cust.__dict__}')"
   ]
  },
  {
   "cell_type": "code",
   "execution_count": 12,
   "metadata": {},
   "outputs": [
    {
     "name": "stdout",
     "output_type": "stream",
     "text": [
      "이전:  {}\n",
      "이후: 유클리드 {'_first_name': '유클리드'}\n"
     ]
    }
   ],
   "source": [
    "'''\n",
    "하지만, 이 클래스 정의는 중복이 많아 보인다.\n",
    "클래스 안에서 왼쪽에 필드 이름을 정의했는데 (first_name =), 굳이 같은 정보가 들어 있는 문자열을 Field 디스크립터에게 다시 전달 해야 할 이유가 없다.\n",
    "\n",
    "우리는 읽을 때 왼쪽에서 부터 읽지만\n",
    "파이썬이 실제로 Customer 클래스를 처리하는 순서는 이와 반대이기 때문이다.\n",
    "즉, 파이썬은 Field('first_name') 을 먼저 처리하고 반환된 값을 first_name = 에 넣기 때문에,\n",
    "first_name 이 자신에게 대입될 클래스의 애트리뷰트 이름을 미리 알 방법은 없다.\n",
    "'''\n",
    "'''\n",
    "이런 중복을 줄이기 위해 메타클래스를 사용할 수 있다.\n",
    "'''\n",
    "\n",
    "class Meta(type):\n",
    "    def __new__(meta, name, bases, class_dict):\n",
    "        for key, value in class_dict.items():\n",
    "            if isinstance(value, Field):\n",
    "                value.name = key\n",
    "                value.internal_name = '_' + key\n",
    "        cls = type.__new__(meta, name, bases, class_dict)\n",
    "        return cls\n",
    "    \n",
    "class DatabaseRow(metaclass=Meta):\n",
    "    pass\n",
    "    \n",
    "class Field:\n",
    "    def __init__(self):\n",
    "        self.name = None\n",
    "        self.internal_name = None\n",
    "        \n",
    "    def __get__(self, instance, instance_type):\n",
    "        if instance is None:\n",
    "            return self\n",
    "        return getattr(instance, self.internal_name, '')\n",
    "    \n",
    "    def __set__(self, instance, value):\n",
    "        setattr(instance, self.internal_name, value)\n",
    "        \n",
    "class BetterCustomer(DatabaseRow):\n",
    "    # 클래스 애트리뷰트\n",
    "    first_name = Field()\n",
    "    last_name = Field()\n",
    "    prefix = Field()\n",
    "    suffix = Field()\n",
    "    \n",
    "cust = BetterCustomer()\n",
    "print(f'이전: {cust.first_name} {cust.__dict__}')\n",
    "cust.first_name = '유클리드'\n",
    "print(f'이후: {cust.first_name} {cust.__dict__}')"
   ]
  },
  {
   "cell_type": "code",
   "execution_count": 13,
   "metadata": {},
   "outputs": [
    {
     "name": "stdout",
     "output_type": "stream",
     "text": [
      "이전:  {}\n",
      "이후: 유클리드 {'_first_name': '유클리드'}\n"
     ]
    }
   ],
   "source": [
    "'''\n",
    "이 접근 방법의 문제점은 DatabaseRow 를 상속하는 것을 잊어버리거나 클래스 계층 구조로 인해 어쩔 수 없이 DatabaseRow 를 상속할 수 없는 경우,\n",
    "문제가 발생한다.\n",
    "\n",
    "이 문제를 해결하는 방법은 디스크립터에 __set_name__ 특별 메서드를 사용하는 것이다. (파이썬 3.6 부터 도입됨)\n",
    "'''\n",
    "class Field:\n",
    "    def __init__(self):\n",
    "        self.name = None\n",
    "        self.internal_name = None\n",
    "        \n",
    "    def __set_name__(self, owner, name):\n",
    "        # 클래스가 생성될 때 모든 스크립터에 대해 이 메서드가 호출된다.\n",
    "        self.name = name\n",
    "        self.internal_name = '_' + name\n",
    "        \n",
    "    def __get__(self, instance, instance_type):\n",
    "        if instance is None:\n",
    "            return self\n",
    "        return getattr(instance, self.internal_name, '')\n",
    "    \n",
    "    def __set__(self, instance, value):\n",
    "        setattr(instance, self.internal_name, value)\n",
    "        \n",
    "class FixedCustomer:\n",
    "    # 클래스 애트리뷰트\n",
    "    first_name = Field()\n",
    "    last_name = Field()\n",
    "    prefix = Field()\n",
    "    suffix = Field()\n",
    "    \n",
    "cust = FixedCustomer()\n",
    "print(f'이전: {cust.first_name} {cust.__dict__}')\n",
    "cust.first_name = '유클리드'\n",
    "print(f'이후: {cust.first_name} {cust.__dict__}')"
   ]
  },
  {
   "cell_type": "markdown",
   "metadata": {},
   "source": [
    "### BETTER WAY 51 - 합성 가능한 클래스 확장이 필요하면 메타클래스보다는 클래스 데코레이터를 사용하라"
   ]
  },
  {
   "cell_type": "markdown",
   "metadata": {},
   "source": [
    "- 메타클래스를 사용하면 클래스 생성을 다양한 방법으로 커스텀화할 수 있지만, 여전히 메타클래스로 처리할 수 없는 경우가 있다."
   ]
  },
  {
   "cell_type": "code",
   "execution_count": 14,
   "metadata": {},
   "outputs": [
    {
     "name": "stdout",
     "output_type": "stream",
     "text": [
      "__init__(({'안녕': 1}, [('안녕', 1)]), {}) -> None\n",
      "__setitem__(({'안녕': 1, '거기': 2}, '거기', 2), {}) -> None\n",
      "__getitem__(({'안녕': 1, '거기': 2}, '안녕'), {}) -> 1\n",
      "__getitem__(({'안녕': 1, '거기': 2}, '존재하지 않음'), {}) -> '존재하지 않음'\n"
     ]
    }
   ],
   "source": [
    "# 예를 들어, 어떤 클래스의 모든 메서드를 감싸서 메서드에 전달되는 인자, 반환 값, 발생환 예외를 모두 출력하고 싶다고 하자\n",
    "\n",
    "from functools import wraps\n",
    "\n",
    "def trace_func(func):\n",
    "    if hasattr(func, 'tracing'): # 단 한번만 데코레이터를 적용한다.\n",
    "        return func\n",
    "    \n",
    "    @wraps(func)\n",
    "    def wrapper(*args, **kwargs):\n",
    "        result = None\n",
    "        try:\n",
    "            result = func(*args, **kwargs)\n",
    "            return result\n",
    "        except Exception as e:\n",
    "            result = e\n",
    "            raise\n",
    "        finally:\n",
    "            print(f'{func.__name__}({args}, {kwargs}) -> {result}')\n",
    "        \n",
    "    wrapper.tracing = True\n",
    "    return wrapper\n",
    "\n",
    "class TraceDict(dict):\n",
    "    @trace_func\n",
    "    def __init__(self, *args, **kwargs):\n",
    "        super().__init__(*args, **kwargs)\n",
    "        \n",
    "    @trace_func\n",
    "    def __setitem__(self, *args, **kwargs):\n",
    "        return super().__setitem__(*args, **kwargs)\n",
    "        \n",
    "    @trace_func\n",
    "    def __getitem__(self, *args, **kwargs):\n",
    "        return super().__getitem__(*args, **kwargs)\n",
    "    \n",
    "# 메서드가 잘 데코레이션 되었는지 확인해보자.\n",
    "trace_dict = TraceDict([('안녕', 1)])\n",
    "trace_dict['거기'] = 2\n",
    "trace_dict['안녕']\n",
    "try:\n",
    "    trace_dict['존재하지 않음']\n",
    "except KeyError:\n",
    "    pass"
   ]
  },
  {
   "cell_type": "code",
   "execution_count": 15,
   "metadata": {},
   "outputs": [
    {
     "name": "stdout",
     "output_type": "stream",
     "text": [
      "__format__(({}, ''), {}) -> {}\n",
      "__new__((<class '__main__.TraceDict'>, [('안녕', 1)]), {}) -> {}\n",
      "__getitem__(({'안녕': 1, '거기': 2}, '안녕'), {}) -> 1\n",
      "__getitem__(({'안녕': 1, '거기': 2}, '존재하지 않음'), {}) -> '존재하지 않음'\n"
     ]
    }
   ],
   "source": [
    "'''\n",
    "잘 동작한다.\n",
    "하지만, 이 코드의 문제점은 꾸미려는 모든 메서드를 @trace_func 데코레이터를 써서 재정의해야 한다는 것이다.\n",
    "\n",
    "이 문제를 해결하는 방법은,\n",
    "메타클래스를 사용해 클래스에 속한 모든 메서드를 자동으로 감싸는 것이다.\n",
    "'''\n",
    "import types\n",
    "\n",
    "trace_types = (\n",
    "    types.MethodType,\n",
    "    types.FunctionType,\n",
    "    types.BuiltinFunctionType,\n",
    "    types.BuiltinMethodType,\n",
    "    types.MethodDescriptorType,\n",
    "    types.ClassMethodDescriptorType\n",
    "    )\n",
    "\n",
    "class TraceMeta(type):\n",
    "    def __new__(meta, name, bases, class_dict):\n",
    "        klass = super().__new__(meta, name, bases, class_dict)\n",
    "        \n",
    "        for key in dir(klass):\n",
    "            value = getattr(klass, key)\n",
    "            if isinstance(value, trace_types):\n",
    "                wrapped = trace_func(value)\n",
    "                setattr(klass, key, wrapped)\n",
    "                \n",
    "        return klass\n",
    "    \n",
    "class TraceDict(dict, metaclass=TraceMeta):\n",
    "    pass\n",
    "\n",
    "trace_dict = TraceDict([('안녕', 1)])\n",
    "trace_dict['거기'] = 2\n",
    "trace_dict['안녕']\n",
    "try:\n",
    "    trace_dict['존재하지 않음']\n",
    "except KeyError:\n",
    "    pass"
   ]
  },
  {
   "cell_type": "code",
   "execution_count": 16,
   "metadata": {},
   "outputs": [
    {
     "name": "stdout",
     "output_type": "stream",
     "text": [
      "<class '__main__.MyClass'>\n",
      "안녕\n"
     ]
    }
   ],
   "source": [
    "'''\n",
    "하지만, 상위 클래스가 메타클래스를 이미 정의한 경우 오류가 발생한다.\n",
    "물론 어찌어찌 해결하는 방법은 있겠지만, 메타클래스를 사용하는 접근 방식은 적용 대상 클래스에 대한 제약이 너무 많다.\n",
    "\n",
    "이런 문제를 해결하고자 파이썬은 클래스 데코레이터를 지원한다.\n",
    "클래스 데코레이터는 함수 데코레이터처럼 사용할 수 있다.\n",
    "즉, 클래스 선언 앞에 @ 기호와 데코레이터 함수를 적으면 된다.\n",
    "이 때 데코레이터 함수는 인자로 받은 클래스를 적절히 변경해서 재생성해야 한다.\n",
    "'''\n",
    "\n",
    "def my_class_decorator(klass):\n",
    "    klass.extra_param = '안녕'\n",
    "    return klass\n",
    "\n",
    "@my_class_decorator\n",
    "class MyClass:\n",
    "    pass\n",
    "\n",
    "print(MyClass)\n",
    "print(MyClass.extra_param)"
   ]
  },
  {
   "cell_type": "code",
   "execution_count": 5,
   "metadata": {},
   "outputs": [
    {
     "name": "stdout",
     "output_type": "stream",
     "text": [
      "__new__((<class '__main__.TraceDict'>, [('안녕', 1)]), {}) -> {}\n",
      "__getitem__(({'안녕': 1, '거기': 2}, '안녕'), {}) -> 1\n",
      "__getitem__(({'안녕': 1, '거기': 2}, '존재하지 않음'), {}) -> KeyError('존재하지 않음')\n"
     ]
    }
   ],
   "source": [
    "# 앞에서 구현한 걸 클래스 데코레이터를 이용해서 구현해 보자.\n",
    "\n",
    "import types\n",
    "\n",
    "trace_types = (\n",
    "    types.MethodType,\n",
    "    types.FunctionType,\n",
    "    types.BuiltinFunctionType,\n",
    "    types.BuiltinMethodType,\n",
    "    types.MethodDescriptorType,\n",
    "    types.ClassMethodDescriptorType\n",
    "    )\n",
    "\n",
    "from functools import wraps\n",
    "\n",
    "def trace_func(func):\n",
    "    if hasattr(func, 'tracing'): # 단 한번만 데코레이터를 적용한다.\n",
    "        return func\n",
    "    \n",
    "    @wraps(func)\n",
    "    def wrapper(*args, **kwargs):\n",
    "        result = None\n",
    "        try:\n",
    "            result = func(*args, **kwargs)\n",
    "            return result\n",
    "        except Exception as e:\n",
    "            result = e\n",
    "            raise\n",
    "        finally:\n",
    "            print(f'{func.__name__}({args!r}, {kwargs!r}) -> {result!r}')\n",
    "        \n",
    "    wrapper.tracing = True\n",
    "    return wrapper\n",
    "\n",
    "def trace(klass):\n",
    "    for key in dir(klass):\n",
    "        value = getattr(klass, key)\n",
    "        if isinstance(value, trace_types):\n",
    "            wrapped = trace_func(value)\n",
    "            setattr(klass, key, wrapped)\n",
    "    return klass\n",
    "            \n",
    "@trace\n",
    "class TraceDict(dict):\n",
    "    pass\n",
    "\n",
    "trace_dict = TraceDict([('안녕', 1)])\n",
    "trace_dict['거기'] = 2\n",
    "trace_dict['안녕']\n",
    "try:\n",
    "    trace_dict['존재하지 않음']\n",
    "except KeyError:\n",
    "    pass"
   ]
  },
  {
   "cell_type": "markdown",
   "metadata": {},
   "source": [
    "- 클래스를 확장하면서 합성이 가능한 방법을 찾고 있다면, 클래스 데코레이터가 가장 적합한 도구다."
   ]
  },
  {
   "cell_type": "code",
   "execution_count": null,
   "metadata": {},
   "outputs": [],
   "source": []
  }
 ],
 "metadata": {
  "kernelspec": {
   "display_name": "Python 3",
   "language": "python",
   "name": "python3"
  }
 },
 "nbformat": 4,
 "nbformat_minor": 2
}
