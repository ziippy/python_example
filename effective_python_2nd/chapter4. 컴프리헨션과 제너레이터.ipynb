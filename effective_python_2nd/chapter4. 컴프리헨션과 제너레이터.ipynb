{
 "cells": [
  {
   "cell_type": "markdown",
   "metadata": {},
   "source": [
    "# 4장 - 컴프리헨션과 제너레이터\n"
   ]
  },
  {
   "cell_type": "markdown",
   "metadata": {},
   "source": [
    "- 많은 프로그램이 리스트, 딕셔너리의 키/값 쌍, 집합 처리를 중심으로 만들어진다.\n",
    "- 파이썬에서는 \"컴프리헨션(comprehension) 이라는 특별한 구문을 사용해 이런 타입을 간결하게 이터레이션하면서 원소로부터 파생되는 데이터 구조를 생성할 수 있다."
   ]
  },
  {
   "cell_type": "markdown",
   "metadata": {},
   "source": [
    "- 컴프리헨션 코딩 스타일은 제너레이터(generator)를 사용하는 함수로 확장할 수 있다.\n",
    "- 제너레이터는 함수가 점진적으로 반환하는 값으로 이뤄지는 스트림을 만들어준다.\n",
    "\n",
    "\n",
    "- 이터레이터를 사용할 수 있는 곳(for loop, 별표 식 등)이라면 어디에서나 제니레이터 함수를 호출한 결과를 사용할 수 있다.\n",
    "- 제너레이터를 사용하면 성능을 향상시키고, 메모리 사용을 줄이고, 가독성을 높일 수 있다."
   ]
  },
  {
   "cell_type": "markdown",
   "metadata": {},
   "source": [
    "### BETTER WAY 27 - map과 filter 대신 컴프리헨션을 사용하라"
   ]
  },
  {
   "cell_type": "markdown",
   "metadata": {},
   "source": [
    "- 파이썬은 다른 시퀀스나 이터러블에서 새 리스트를 만들어내는 간결한 구문을 제공한다. -> 이런 식을 <font color='blue'>리스트 컴프리헨션</font> 이라고 한다.\n",
    "- 딕셔너리에는 딕셔너리 컴프리헨션\n",
    "- 집합에는 집합 컴프리헨션이 있다."
   ]
  },
  {
   "cell_type": "code",
   "execution_count": 3,
   "metadata": {},
   "outputs": [
    {
     "name": "stdout",
     "output_type": "stream",
     "text": [
      "[1, 4, 9, 16, 25, 36, 49, 64]\n"
     ]
    }
   ],
   "source": [
    "# 리스트 모든 원소의 제곱을 계산하는 코드\n",
    "a = [1, 2, 3, 4, 5, 6, 7, 8]\n",
    "squres = []\n",
    "for x in a:\n",
    "    squres.append(x**2)\n",
    "print(squres)"
   ]
  },
  {
   "cell_type": "code",
   "execution_count": 4,
   "metadata": {},
   "outputs": [
    {
     "name": "stdout",
     "output_type": "stream",
     "text": [
      "[1, 4, 9, 16, 25, 36, 49, 64]\n"
     ]
    }
   ],
   "source": [
    "# 리스트 컴프리헨션을 사용\n",
    "squares = [x**2 for x in a]\n",
    "print(squares)"
   ]
  },
  {
   "cell_type": "code",
   "execution_count": 5,
   "metadata": {},
   "outputs": [
    {
     "name": "stdout",
     "output_type": "stream",
     "text": [
      "[4, 16, 36, 64]\n"
     ]
    }
   ],
   "source": [
    "# 짝수만 제곱하고 싶으면?\n",
    "even_squares = [x**2 for x in a if x % 2 == 0]\n",
    "print(even_squares)"
   ]
  },
  {
   "cell_type": "code",
   "execution_count": 7,
   "metadata": {},
   "outputs": [
    {
     "name": "stdout",
     "output_type": "stream",
     "text": [
      "[4, 16, 36, 64]\n"
     ]
    }
   ],
   "source": [
    "# filter 내장 함수를 map과 함께 사용해서도 같은 결과를 얻을 수 있지만, 이렇게 만든 코드는 읽기가 어렵다\n",
    "alt = map(lambda x: x**2, filter(lambda x: x % 2 ==0, a))\n",
    "print(list(alt))"
   ]
  },
  {
   "cell_type": "markdown",
   "metadata": {},
   "source": [
    "### BETTER WAY 28 - 컴프리헨션 내부에 제어 하위 식을 세 개 이상 사용하지 말라"
   ]
  },
  {
   "cell_type": "markdown",
   "metadata": {},
   "source": [
    "- 컴프리헨션은 루프를 여러 수준으로 내포하도록 허용한다."
   ]
  },
  {
   "cell_type": "code",
   "execution_count": 11,
   "metadata": {},
   "outputs": [
    {
     "name": "stdout",
     "output_type": "stream",
     "text": [
      "[1, 2, 3, 4, 5, 6, 7, 8, 9]\n"
     ]
    }
   ],
   "source": [
    "# 1단계 컴프리헨션\n",
    "matrix = [[1, 2, 3], [4, 5, 6], [7, 8, 9]]\n",
    "flat = [x for row in matrix for x in row]\n",
    "print(flat)"
   ]
  },
  {
   "cell_type": "code",
   "execution_count": 12,
   "metadata": {},
   "outputs": [
    {
     "name": "stdout",
     "output_type": "stream",
     "text": [
      "[[1, 4, 9], [16, 25, 36], [49, 64, 81]]\n"
     ]
    }
   ],
   "source": [
    "# 2단계 컴프리헨션 - 여전히 읽기 쉬운 편이다\n",
    "squared = [[x**2 for x in row] for row in matrix]\n",
    "print(squared)"
   ]
  },
  {
   "cell_type": "code",
   "execution_count": 14,
   "metadata": {},
   "outputs": [
    {
     "name": "stdout",
     "output_type": "stream",
     "text": [
      "[1, 2, 3, 4, 5, 6, 7, 8, 9, 10, 11, 12, 13, 14, 15, 16, 17, 18]\n"
     ]
    }
   ],
   "source": [
    "# 3단계 컴프리헨션\n",
    "my_lists = [\n",
    "    [[1, 2, 3], [4, 5, 6]],\n",
    "    [[7, 8, 9], [10, 11, 12]],\n",
    "    [[13, 14, 15], [16, 17, 18]],\n",
    "]\n",
    "flat = [x for sublist1 in my_lists\n",
    "       for sublist2 in sublist1\n",
    "       for x in sublist2]\n",
    "print(flat)"
   ]
  },
  {
   "cell_type": "code",
   "execution_count": 16,
   "metadata": {},
   "outputs": [
    {
     "name": "stdout",
     "output_type": "stream",
     "text": [
      "[1, 2, 3, 4, 5, 6, 7, 8, 9, 10, 11, 12, 13, 14, 15, 16, 17, 18]\n"
     ]
    }
   ],
   "source": [
    "# 3단계 정도가 되면, 일반 루프문을 사용해 같은 결과를 만들어내는 코드가 더 명확해 보인다.\n",
    "flat = []\n",
    "for sublist1 in my_lists:\n",
    "    for sublist2 in sublist1:\n",
    "        flat.extend(sublist2)\n",
    "print(flat)"
   ]
  },
  {
   "cell_type": "markdown",
   "metadata": {},
   "source": [
    "- 그러므로, 컴프리헨션에 들어가는 하위 식이 3개 이상 되지 않게 제한하라는 규칙을 지켜라"
   ]
  },
  {
   "cell_type": "markdown",
   "metadata": {},
   "source": [
    "### BETTER WAY 29 - 대입식을 사용해 컴프리헨션 안에서 반복 작업을 피하라"
   ]
  },
  {
   "cell_type": "markdown",
   "metadata": {},
   "source": [
    "- 컴프리헨션에서 같은 계산을 여러 위치에서 공유하는 경우가 흔하다"
   ]
  },
  {
   "cell_type": "code",
   "execution_count": 17,
   "metadata": {},
   "outputs": [
    {
     "name": "stdout",
     "output_type": "stream",
     "text": [
      "{'나사못': 4, '나비너트': 1}\n"
     ]
    }
   ],
   "source": [
    "# 예) 주문관리 프로그램\n",
    "# 고객의 요청이 재고 수량을 넘지 않고, 배송에 필요한 최소 수량(8개 이상)을 만족하는지 확인\n",
    "\n",
    "stock = {\n",
    "    '못': 125,\n",
    "    '나사못': 35,\n",
    "    '나비너트': 8,\n",
    "    '와셔': 24\n",
    "}\n",
    "\n",
    "order = ['나사못', '나비너트', '클립']\n",
    "\n",
    "def get_batches(count, size):\n",
    "    return count // size\n",
    "\n",
    "result = {}\n",
    "for name in order:\n",
    "    count = stock.get(name, 0)\n",
    "    batches = get_batches(count, 8)\n",
    "    if batches:\n",
    "        result[name] = batches\n",
    "        \n",
    "print(result)"
   ]
  },
  {
   "cell_type": "code",
   "execution_count": 18,
   "metadata": {},
   "outputs": [
    {
     "name": "stdout",
     "output_type": "stream",
     "text": [
      "{'나사못': 4, '나비너트': 1}\n"
     ]
    }
   ],
   "source": [
    "# 이걸 딕셔너리 컴프리헨션을 사용하면 더 간결해진다.\n",
    "found = {name: get_batches(stock.get(name, 0), 8)\n",
    "        for name in order\n",
    "        if get_batches(stock.get(name, 0), 8)}\n",
    "print(found)"
   ]
  },
  {
   "cell_type": "code",
   "execution_count": 20,
   "metadata": {},
   "outputs": [
    {
     "name": "stdout",
     "output_type": "stream",
     "text": [
      "{'나사못': 4, '나비너트': 1}\n"
     ]
    }
   ],
   "source": [
    "# 하지만, 위 코드에서는\n",
    "# stock.get(name, 0) 이게 반복적으로 호출된다.\n",
    "\n",
    "# 쉬운 해법은 왈러스 연산자를 사용하는 것이다.\n",
    "found = {name: batches\n",
    "        for name in order\n",
    "        if (batches := get_batches(stock.get(name, 0), 8))}\n",
    "print(found)"
   ]
  },
  {
   "cell_type": "markdown",
   "metadata": {},
   "source": [
    "### BETTER WAY 30 - 리스트를 반환하기보다는 제너레이터를 사용하라"
   ]
  },
  {
   "cell_type": "markdown",
   "metadata": {},
   "source": [
    "- 시퀀스를 결과로 만들어내는 함수를 만들 때 가장 간단한 선택은 원소들이 모인 리스트를 반환하는 것"
   ]
  },
  {
   "cell_type": "code",
   "execution_count": 23,
   "metadata": {},
   "outputs": [
    {
     "name": "stdout",
     "output_type": "stream",
     "text": [
      "[0, 8, 18, 23, 28, 33, 39]\n"
     ]
    }
   ],
   "source": [
    "def index_words(text):\n",
    "    result = []\n",
    "    if text:\n",
    "        result.append(0)\n",
    "    for index, letter in enumerate(text):\n",
    "        #print(letter)\n",
    "        if letter == ' ':\n",
    "            result.append(index + 1)\n",
    "    return result\n",
    "\n",
    "address = '컴퓨터(영어: Computer, 문화어: 콤퓨터, 순화어: 전산기)는 진공관'\n",
    "result = index_words(address)\n",
    "print(result)"
   ]
  },
  {
   "cell_type": "code",
   "execution_count": 32,
   "metadata": {},
   "outputs": [
    {
     "name": "stdout",
     "output_type": "stream",
     "text": [
      "[0, 8, 18, 23, 28, 33, 39]\n"
     ]
    }
   ],
   "source": [
    "# 위 함수는 잡음이 많고 핵심을 알아보기 어렵다.. 개선해보자\n",
    "# 개선방법은 제너레이터를 사용하는 것이다.\n",
    "# 제너레이터는 yield 식을 사용하는 함수에 의해 만들어진다.\n",
    "\n",
    "def index_words_iter(text):\n",
    "    if text:\n",
    "        yield 0\n",
    "    for index, letter in enumerate(text):\n",
    "        if letter == ' ':\n",
    "            yield index + 1\n",
    "            \n",
    "address = '컴퓨터(영어: Computer, 문화어: 콤퓨터, 순화어: 전산기)는 진공관'\n",
    "it = index_words_iter(address)\n",
    "#print(next(it))\n",
    "#print(next(it))\n",
    "#print(next(it))\n",
    "#print(next(it))\n",
    "#print(next(it))\n",
    "#print(next(it))\n",
    "#print(next(it))\n",
    "print(list(it))"
   ]
  },
  {
   "cell_type": "markdown",
   "metadata": {},
   "source": [
    "### BETTER WAY 31 - 인자에 대해 이터레이션할 때는 방어적이 돼라"
   ]
  },
  {
   "cell_type": "markdown",
   "metadata": {},
   "source": [
    "- 객체가 원소로 들어 있는 리스트를 함수가 파라미터로 받았을 때, 이 리스트를 여러 번 이터레이션하는 것이 중요할 때가 종종 있다"
   ]
  },
  {
   "cell_type": "code",
   "execution_count": 56,
   "metadata": {},
   "outputs": [
    {
     "name": "stdout",
     "output_type": "stream",
     "text": [
      "[11.538461538461538, 26.923076923076923, 61.53846153846154]\n"
     ]
    }
   ],
   "source": [
    "def normalize(numbers):\n",
    "    total = sum(numbers)\n",
    "    result = []\n",
    "    for value in numbers:\n",
    "        percent = 100 * value / total\n",
    "        result.append(percent)\n",
    "    return result\n",
    "\n",
    "visits = [15, 35, 80]\n",
    "percentages = normalize(visits)\n",
    "print(percentages)"
   ]
  },
  {
   "cell_type": "code",
   "execution_count": 50,
   "metadata": {},
   "outputs": [
    {
     "name": "stdout",
     "output_type": "stream",
     "text": [
      "[15, 35, 80]\n"
     ]
    }
   ],
   "source": [
    "def read_visits():\n",
    "    items = [15, 35, 80]\n",
    "    for x in items:\n",
    "        yield int(x)\n",
    "\n",
    "print(list(read_visits()))"
   ]
  },
  {
   "cell_type": "code",
   "execution_count": 51,
   "metadata": {},
   "outputs": [
    {
     "name": "stdout",
     "output_type": "stream",
     "text": [
      "[]\n"
     ]
    }
   ],
   "source": [
    "# 놀랍게도 normalize 함수에 read_visits 가 반환한 값을 전달하면 아무 결과도 나오지 않는다.\n",
    "it = read_visits()\n",
    "percentages = normalize(it)\n",
    "print(percentages)"
   ]
  },
  {
   "cell_type": "code",
   "execution_count": 52,
   "metadata": {},
   "outputs": [
    {
     "name": "stdout",
     "output_type": "stream",
     "text": [
      "[15, 35, 80]\n",
      "[]\n"
     ]
    }
   ],
   "source": [
    "# 이유는?\n",
    "# 이터레이터가 결과를 한 번만 만들어내기 때문이다\n",
    "# 이미 StopIteration 예외가 발생한 이터레이터나 제너레이터를 다시 이터레이션하면 아무 결과도 얻을 수 없다.\n",
    "it = read_visits() # 여기서 이미 iteration 이 끝났다.\n",
    "print(list(it))\n",
    "print(list(it)) # 한 번 더 it 를 사용하려고 하면 빈 값이다."
   ]
  },
  {
   "cell_type": "code",
   "execution_count": 53,
   "metadata": {},
   "outputs": [
    {
     "name": "stdout",
     "output_type": "stream",
     "text": [
      "[11.538461538461538, 26.923076923076923, 61.53846153846154]\n"
     ]
    }
   ],
   "source": [
    "# 1) 쉽게 해결하려면, 입력 데이터를 명시적으로 소진시키고 이터레이터의 전체 내용을 리스트에 넣으면 된다.\n",
    "def normalize_copy(numbers):\n",
    "    numbers_copy = list(numbers) # 이터레이터 복사\n",
    "    total = sum(numbers_copy)\n",
    "    result = []\n",
    "    for value in numbers_copy:\n",
    "        percent = 100 * value / total\n",
    "        result.append(percent)\n",
    "    return result\n",
    "\n",
    "it = read_visits()\n",
    "percentages = normalize_copy(it)\n",
    "print(percentages)"
   ]
  },
  {
   "cell_type": "code",
   "execution_count": 54,
   "metadata": {},
   "outputs": [
    {
     "name": "stdout",
     "output_type": "stream",
     "text": [
      "[11.538461538461538, 26.923076923076923, 61.53846153846154]\n"
     ]
    }
   ],
   "source": [
    "# 잘 동작하는 것처럼 보이나, 이런 접근 방식의 문제점은 \"입력 데이터의 내용을 복사하면 메모리를 엄청나게 사용할 수 있다\" 는 것이다.\n",
    "#\n",
    "# 2) 호출할때마다 새로 이터레이터를 반환하는 함수를 받는 것\n",
    "def normalize_func(get_iter):\n",
    "    total = sum(get_iter()) # 새로운 이터레이터\n",
    "    result = []\n",
    "    for value in get_iter(): # 새로운 이터레이터\n",
    "        percent = 100 * value / total\n",
    "        result.append(percent)\n",
    "    return result\n",
    "\n",
    "percentages = normalize_func(lambda: read_visits()) # 람다 함수를 넘긴다\n",
    "print(percentages)"
   ]
  },
  {
   "cell_type": "code",
   "execution_count": 59,
   "metadata": {},
   "outputs": [
    {
     "name": "stdout",
     "output_type": "stream",
     "text": [
      "[11.538461538461538, 26.923076923076923, 61.53846153846154]\n",
      "[11.538461538461538, 26.923076923076923, 61.53846153846154]\n"
     ]
    }
   ],
   "source": [
    "# 작동하기는 하지만, 이렇게 람다 함수를 넘기는 것은 보기에 좋지 않다.\n",
    "#\n",
    "# 3) 더 나은 방법은, 이터레이터 프로토콜(iterator protocol)을 구현한 새로운 컨테이너 클래스를 제공하는 것\n",
    "#\n",
    "# 정의한 클래스에 __iter__ 메서드를 제너레이터로 구현하기만 하면, 이 모든 동작을 만족시킬 수 있다.\n",
    "def normalize(numbers):\n",
    "    total = sum(numbers)\n",
    "    result = []\n",
    "    for value in numbers:\n",
    "        percent = 100 * value / total\n",
    "        result.append(percent)\n",
    "    return result\n",
    "\n",
    "class ReadVisits:\n",
    "    def __iter__(self):\n",
    "        items = [15, 35, 80]\n",
    "        for x in items:\n",
    "            yield int(x)\n",
    "\n",
    "visits = ReadVisits()\n",
    "percentages = normalize(visits)\n",
    "print(percentages)\n",
    "percentages = normalize(visits)\n",
    "print(percentages)"
   ]
  },
  {
   "cell_type": "code",
   "execution_count": 60,
   "metadata": {},
   "outputs": [],
   "source": [
    "# 잘 동작한다.\n",
    "# 이유는?\n",
    "# normalize 함수 내 sum 메서드가 ReadVisits.__iter__ 를 호출해서 새로운 이터레이터 객체를 할당하기 때문이다."
   ]
  },
  {
   "cell_type": "markdown",
   "metadata": {},
   "source": [
    "### BETTER WAY 32 - 긴 리스트 컴프리헨션보다는 제너레이터 식을 사용하라"
   ]
  },
  {
   "cell_type": "markdown",
   "metadata": {},
   "source": [
    "- map과 filter대신 컴프리헨션을 사용하라의 문제점은 입력 시퀀스와 같은 수의 원소가 들어 있는 리스트를 만들어낼 수 있다는 것이다."
   ]
  },
  {
   "cell_type": "code",
   "execution_count": 65,
   "metadata": {},
   "outputs": [
    {
     "name": "stdout",
     "output_type": "stream",
     "text": [
      "[100, 57, 15, 1, 12, 75, 5, 86, 89, 11]\n"
     ]
    }
   ],
   "source": [
    "value = [int(x) for x in open('my_file.txt')]\n",
    "print(value)"
   ]
  },
  {
   "cell_type": "code",
   "execution_count": 66,
   "metadata": {},
   "outputs": [
    {
     "name": "stdout",
     "output_type": "stream",
     "text": [
      "100\n"
     ]
    }
   ],
   "source": [
    "# 입력이 작으면 문제가 없지만, 입력이 커지면 메모리를 상당히 많이 사용하고, 그로 인해 프로그램이 중단될 수 있다.\n",
    "# 이 문제를 해결하기 위해 파이썬은 제너레이터(generator expression) 식을 제공한다.\n",
    "# [ ] 대신 ( ) 를 쓰면 된다.\n",
    "it = (int(x) for x in open('my_file.txt'))\n",
    "print(next(it))"
   ]
  },
  {
   "cell_type": "code",
   "execution_count": 67,
   "metadata": {},
   "outputs": [
    {
     "name": "stdout",
     "output_type": "stream",
     "text": [
      "57\n",
      "15\n",
      "1\n",
      "12\n"
     ]
    }
   ],
   "source": [
    "print(next(it))\n",
    "print(next(it))\n",
    "print(next(it))\n",
    "print(next(it))"
   ]
  },
  {
   "cell_type": "markdown",
   "metadata": {},
   "source": [
    "### BETTER WAY 33 - yield from을 사용해 여러 제너레이터를 합성하라"
   ]
  },
  {
   "cell_type": "code",
   "execution_count": 69,
   "metadata": {},
   "outputs": [
    {
     "name": "stdout",
     "output_type": "stream",
     "text": [
      "Delta: 5.0\n",
      "Delta: 5.0\n",
      "Delta: 5.0\n",
      "Delta: 5.0\n",
      "Delta: 0.0\n",
      "Delta: 0.0\n",
      "Delta: 0.0\n",
      "Delta: 3.0\n",
      "Delta: 3.0\n"
     ]
    }
   ],
   "source": [
    "def move(period, speed):\n",
    "    for _ in range(period):\n",
    "        yield speed\n",
    "        \n",
    "def pause(delay):\n",
    "    for _ in range(delay):\n",
    "        yield 0\n",
    "        \n",
    "def animate():\n",
    "    for delta in move(4, 5.0):\n",
    "        yield delta\n",
    "    for delta in pause(3):\n",
    "        yield delta\n",
    "    for delta in move(2, 3.0):\n",
    "        yield delta\n",
    "        \n",
    "def render(delta):\n",
    "    print(f'Delta: {delta:.1f}')\n",
    "\n",
    "def run(func):\n",
    "    for delta in func():\n",
    "        render(delta)\n",
    "\n",
    "run(animate)"
   ]
  },
  {
   "cell_type": "code",
   "execution_count": 72,
   "metadata": {},
   "outputs": [
    {
     "name": "stdout",
     "output_type": "stream",
     "text": [
      "Delta: 5.0\n",
      "Delta: 5.0\n",
      "Delta: 5.0\n",
      "Delta: 5.0\n",
      "Delta: 0.0\n",
      "Delta: 0.0\n",
      "Delta: 0.0\n",
      "Delta: 3.0\n",
      "Delta: 3.0\n"
     ]
    }
   ],
   "source": [
    "# 이 코드의 문제점은?\n",
    "#\n",
    "# animate가 너무 반복적이라는 것이다. \n",
    "#\n",
    "# 이 문제의 해법은 yield from 식을 사용하는 것이다. \n",
    "# 이는 고급 제너레이터 기능으로, 제어를 부모 제너레이터에게 전달하기 전에 내포된 제너레이터가 모든 값을 내보낸다.\n",
    "\n",
    "def animate_composed():\n",
    "    yield from move(4, 5.0)\n",
    "    yield from pause(3)\n",
    "    yield from move(2, 3.0)\n",
    "\n",
    "run(animate_composed)"
   ]
  },
  {
   "cell_type": "markdown",
   "metadata": {},
   "source": [
    "### BETTER WAY 34 - send로 제너레이터에 데이터를 주입하지 말라"
   ]
  },
  {
   "cell_type": "markdown",
   "metadata": {},
   "source": [
    "- yield 식을 사용하면 제너레이터 함수가 간단하게 이터레이션이 가능한 출력을 만들 수 있다.\n",
    "- 하지만 이렇게 만들어내는 채널은 단방향이다.\n",
    "- 제너레이터가 데이터를 내보내면서 다른 데이터를 받아들이는.. 이런 양방향 통신이 있다면 많은 경우에 도움이 될 것이다."
   ]
  },
  {
   "cell_type": "code",
   "execution_count": 74,
   "metadata": {},
   "outputs": [
    {
     "name": "stdout",
     "output_type": "stream",
     "text": [
      "출력:   0.0\n",
      "출력:   2.1\n",
      "출력:   3.0\n",
      "출력:   2.1\n",
      "출력:   0.0\n",
      "출력:  -2.1\n",
      "출력:  -3.0\n",
      "출력:  -2.1\n"
     ]
    }
   ],
   "source": [
    "# 예) 소프트웨어 라디오를 사용해 신호를 내보낸다.\n",
    "\n",
    "import math\n",
    "\n",
    "def wave(amplitude, steps):\n",
    "    step_size = 2 * math.pi / steps        # 2 라디안/단계 수\n",
    "    for step in range(steps):\n",
    "        radians = step * step_size\n",
    "        fraction = math.sin(radians)\n",
    "        output = amplitude * fraction\n",
    "        yield output\n",
    "\n",
    "# 이제 wave 제너레이터를 이터레이션 하면서 진폭이 고정된 파형 신호를 송신할 수 있다.\n",
    "def transmit(output):\n",
    "    if output is None:\n",
    "        print(f'출력: None')\n",
    "    else:\n",
    "        print(f'출력: {output:>5.1f}')\n",
    "        \n",
    "def run(it):\n",
    "    for output in it:\n",
    "        transmit(output)\n",
    "\n",
    "run(wave(3.0, 8))"
   ]
  },
  {
   "cell_type": "code",
   "execution_count": 77,
   "metadata": {},
   "outputs": [
    {
     "name": "stdout",
     "output_type": "stream",
     "text": [
      "출력 값: 1\n",
      "받은 값: None\n"
     ]
    }
   ],
   "source": [
    "# 기본 파형을 생성하는 한 이 코드는 잘 동작한다.\n",
    "#\n",
    "# 하지만, 별도의 입력을 사용해 진폭을 지속적으로 변경해야 한다면 이 코드는 쓸모가 없다.\n",
    "#\n",
    "'''\n",
    "파이썬 제너레이터는 send 메서드를 지원한다. 이 메서드는 yield 식을 양방향 채널로 격상시켜준다.\n",
    "send 메서드를 사용하면 입력을 제너레이터에 스트리밍하는 동시에 출력을 내보낼 수 있다.\n",
    "일반적으로 제너레이터를 이터레이션 할 때 yield 식이 반환하는 값은 None 이다.\n",
    "'''\n",
    "\n",
    "def my_generator():\n",
    "    received = yield 1\n",
    "    print(f'받은 값: {received}')\n",
    "    \n",
    "it = iter(my_generator())\n",
    "output = next(it)                 # 첫 번째 제너레이터 출력을 얻는다.\n",
    "print(f'출력 값: {output}')\n",
    "\n",
    "try:\n",
    "    next(it)                       # 종료될 때까지 제너레이터를 실행한다.\n",
    "except StopIteration:\n",
    "    pass"
   ]
  },
  {
   "cell_type": "code",
   "execution_count": 78,
   "metadata": {},
   "outputs": [
    {
     "name": "stdout",
     "output_type": "stream",
     "text": [
      "출력 값: 1\n",
      "받은 값: 안녕!\n"
     ]
    }
   ],
   "source": [
    "it = iter(my_generator())\n",
    "output = it.send(None)           # 첫 번째 제너레이터 출력을 얻는다.\n",
    "print(f'출력 값: {output}')\n",
    "\n",
    "try:\n",
    "    it.send('안녕!')              # 값을 제너레이터에 넣는다.\n",
    "except StopIteration:\n",
    "    pass"
   ]
  },
  {
   "cell_type": "code",
   "execution_count": 80,
   "metadata": {},
   "outputs": [
    {
     "name": "stdout",
     "output_type": "stream",
     "text": [
      "출력: None\n",
      "출력:   0.0\n",
      "출력:   3.5\n",
      "출력:   6.1\n",
      "출력:   2.0\n",
      "출력:   1.7\n",
      "출력:   1.0\n",
      "출력:   0.0\n",
      "출력:  -5.0\n",
      "출력:  -8.7\n",
      "출력: -10.0\n",
      "출력:  -8.7\n",
      "출력:  -5.0\n"
     ]
    }
   ],
   "source": [
    "# 이런 동작을 활용해 입력 시그널을 바탕으로 사인 파의 진폭을 변조할 수 있다.\n",
    "# 먼저 yield 식이 반환한 진폭 값을 amplitude에 저장하고, 다음 yield 출력 시 이 진폭 값을 활용하도록 wave 제너레이터를 변경해야 한다.\n",
    "\n",
    "def wave_modulating(steps):\n",
    "    step_size = 2 * math.pi / steps        # 2 라디안/단계 수\n",
    "    amplitude = yield                # 초기 진폭을 받는다\n",
    "    for step in range(steps):\n",
    "        radians = step * step_size\n",
    "        fraction = math.sin(radians)\n",
    "        output = amplitude * fraction\n",
    "        amplitude = yield output     # 다음 진폭을 받는다\n",
    "\n",
    "def transmit(output):\n",
    "    if output is None:\n",
    "        print(f'출력: None')\n",
    "    else:\n",
    "        print(f'출력: {output:>5.1f}')\n",
    "        \n",
    "def run_modulating(it):\n",
    "    amplitudes = [None, 7, 7, 7, 2, 2, 2, 2, 10, 10, 10, 10, 10]\n",
    "    for amplitude in amplitudes:\n",
    "        output = it.send(amplitude)\n",
    "        transmit(output)\n",
    "        \n",
    "run_modulating(wave_modulating(12))"
   ]
  },
  {
   "cell_type": "code",
   "execution_count": null,
   "metadata": {},
   "outputs": [],
   "source": []
  }
 ],
 "metadata": {
  "kernelspec": {
   "display_name": "Python 3",
   "language": "python",
   "name": "python3"
  },
  "language_info": {
   "codemirror_mode": {
    "name": "ipython",
    "version": 3
   },
   "file_extension": ".py",
   "mimetype": "text/x-python",
   "name": "python",
   "nbconvert_exporter": "python",
   "pygments_lexer": "ipython3",
   "version": "3.8.1"
  }
 },
 "nbformat": 4,
 "nbformat_minor": 2
}
