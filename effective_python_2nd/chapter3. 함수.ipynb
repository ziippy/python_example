{
 "cells": [
  {
   "cell_type": "markdown",
   "metadata": {},
   "source": [
    "# 3장 - 함수\n"
   ]
  },
  {
   "cell_type": "markdown",
   "metadata": {},
   "source": [
    "- 프로그래머들이 파이썬에서 처음으로 사용하는 정리 도구는 함수(function)다."
   ]
  },
  {
   "cell_type": "markdown",
   "metadata": {},
   "source": [
    "### BETTER WAY 19 - 함수가 여러 값을 반환하는 경우 절대로 네 값 이상을 언패킹하지 말라"
   ]
  },
  {
   "cell_type": "code",
   "execution_count": 2,
   "metadata": {},
   "outputs": [
    {
     "name": "stdout",
     "output_type": "stream",
     "text": [
      "최소: 60, 최대: 73\n"
     ]
    }
   ],
   "source": [
    "# 2개를 리턴하는 함수\n",
    "def get_stats(numbers):\n",
    "    mininum = min(numbers)\n",
    "    maximum = max(numbers)\n",
    "    return mininum, maximum\n",
    "\n",
    "lengths = [63, 73, 72, 60, 67, 66, 71, 61, 72, 70]\n",
    "\n",
    "minimum, maximum = get_stats(lengths)\n",
    "print(f'최소: {minimum}, 최대: {maximum}')"
   ]
  },
  {
   "cell_type": "code",
   "execution_count": 5,
   "metadata": {},
   "outputs": [],
   "source": [
    "# 5개를 리턴하는 함수\n",
    "def get_stats(numbers):\n",
    "    mininum = min(numbers)\n",
    "    maximum = max(numbers)\n",
    "    count = len(numbers)\n",
    "    average = sum(numbers) / count\n",
    "    \n",
    "    sorted_numbers = sorted(numbers)\n",
    "    middle = count // 2\n",
    "    if count % 2 == 0:\n",
    "        lower = sorted_numbers[middle - 1]\n",
    "        upper = sorted_numbers[middle]\n",
    "        median = (lower + upper) / 2\n",
    "    else:\n",
    "        median = sorted_numbers[middle]\n",
    "        \n",
    "    return minimum, maximum, average, median, count"
   ]
  },
  {
   "cell_type": "code",
   "execution_count": 6,
   "metadata": {},
   "outputs": [
    {
     "name": "stdout",
     "output_type": "stream",
     "text": [
      "최소: 60, 최대: 73, 평균: 67.5, 중앙값: 68.5, 개수: 10\n"
     ]
    }
   ],
   "source": [
    "minimum, maximum, average, median, count = get_stats(lengths)\n",
    "print(f'최소: {minimum}, 최대: {maximum}, 평균: {average}, 중앙값: {median}, 개수: {count}')"
   ]
  },
  {
   "cell_type": "markdown",
   "metadata": {},
   "source": [
    "- 이 코드에는 문제가 있다.\n",
    "- 먼저 모든 반환 값이 number 이기 때문에 순서를 혼동하기 쉽다\n",
    "- 반환 값이 많으면 많을수록 실수하기도 아주 쉬워진다"
   ]
  },
  {
   "cell_type": "markdown",
   "metadata": {},
   "source": [
    "- <font color='red'>이런 문제를 피하려면 함수가 여러 값을 반환하거나 언패킹할 때 값이나 변수를 네 개 이상 사용하면 안된다.</font>\n",
    "- 많은 값을 언패킹해야 한다면 경량 클래스(lightweight class)나 namedtuple을 사용하고, 함수도 이런 값을 반환하게 만드는 것이 낫다."
   ]
  },
  {
   "cell_type": "markdown",
   "metadata": {},
   "source": [
    "### BETTER WAY 20 - None을 반환하기보다는 예외를 발생시켜라"
   ]
  },
  {
   "cell_type": "markdown",
   "metadata": {},
   "source": [
    "- 파이썬 프로그래머들은 유틸리티 함수를 작성하면서 None 을 리턴시키면서 이 값에 특별한 의미를 부여하려는 경향을 나타낸다\n",
    "- 그런데 함수가 반환한 결과를 if 문 등의 조건에서 평가할 때 0 값이 문제가 될 수 있다.\n",
    "- None 을 검사하는 대신 실수로 빈 값을 취급하는 오류를 야기하기 쉽다"
   ]
  },
  {
   "cell_type": "code",
   "execution_count": 1,
   "metadata": {},
   "outputs": [],
   "source": [
    "# example\n",
    "def careful_divide(a, b):\n",
    "    try:\n",
    "        return a / b\n",
    "    except ZeroDivisionError:\n",
    "        return None"
   ]
  },
  {
   "cell_type": "code",
   "execution_count": 2,
   "metadata": {},
   "outputs": [
    {
     "name": "stdout",
     "output_type": "stream",
     "text": [
      "잘못된 입력\n"
     ]
    }
   ],
   "source": [
    "x, y = 1, 0\n",
    "result = careful_divide(x, y)\n",
    "if result is None:\n",
    "    print(f'잘못된 입력')\n",
    "else:\n",
    "    print(f'device result: {result}')"
   ]
  },
  {
   "cell_type": "code",
   "execution_count": 3,
   "metadata": {},
   "outputs": [
    {
     "name": "stdout",
     "output_type": "stream",
     "text": [
      "device result: 0.0\n"
     ]
    }
   ],
   "source": [
    "x, y = 0, 1\n",
    "result = careful_divide(x, y)\n",
    "if result is None:\n",
    "    print(f'잘못된 입력')\n",
    "else:\n",
    "    print(f'device result: {result}')"
   ]
  },
  {
   "cell_type": "code",
   "execution_count": 4,
   "metadata": {},
   "outputs": [
    {
     "name": "stdout",
     "output_type": "stream",
     "text": [
      "잘못된 입력\n"
     ]
    }
   ],
   "source": [
    "x, y = 0, 1\n",
    "result = careful_divide(x, y)\n",
    "if not result: # 이렇게 처리하는 실수를 간혹 할 수 있다. 아니 이렇게가 흔히 저지르는 실수다.\n",
    "    print(f'잘못된 입력')\n",
    "else:\n",
    "    print(f'device result: {result}')"
   ]
  },
  {
   "cell_type": "markdown",
   "metadata": {},
   "source": [
    "- 이런 실수 할 가능성을 줄이는 방법은 2가지"
   ]
  },
  {
   "cell_type": "code",
   "execution_count": 8,
   "metadata": {},
   "outputs": [
    {
     "name": "stdout",
     "output_type": "stream",
     "text": [
      "잘못된 입력\n",
      "device result: 0.0\n",
      "잘못된 입력\n"
     ]
    }
   ],
   "source": [
    "'''\n",
    "방법 1 - 반환 값을 2-튜플로 분리\n",
    "'''\n",
    "def careful_divide(a, b):\n",
    "    try:\n",
    "        return True, a / b\n",
    "    except ZeroDivisionError:\n",
    "        return False, None\n",
    "\n",
    "x, y = 1, 0\n",
    "success, result = careful_divide(x, y)\n",
    "if not success:\n",
    "    print(f'잘못된 입력')\n",
    "else:\n",
    "    print(f'device result: {result}')\n",
    "    \n",
    "x, y = 0, 1\n",
    "success, result = careful_divide(x, y)\n",
    "if not success:\n",
    "    print(f'잘못된 입력')\n",
    "else:\n",
    "    print(f'device result: {result}')\n",
    "    \n",
    "x, y = 0, 1\n",
    "_, result = careful_divide(x, y)\n",
    "if not result:                       # 이런 오류의 발생 가능성이 여전히 남아있다.\n",
    "    print(f'잘못된 입력')\n",
    "else:\n",
    "    print(f'device result: {result}')"
   ]
  },
  {
   "cell_type": "code",
   "execution_count": 10,
   "metadata": {},
   "outputs": [
    {
     "name": "stdout",
     "output_type": "stream",
     "text": [
      "잘못된 입력\n",
      "device result: 0.0\n"
     ]
    }
   ],
   "source": [
    "'''\n",
    "방법 2 - 결코 None 을 반환하지 않는 것. 대신 Exception 을 호출한 쪽으로 발생시켜서 호출차가 처리하도록 하는 것.\n",
    "'''\n",
    "def careful_divide(a, b):\n",
    "    try:\n",
    "        return a / b\n",
    "    except ZeroDivisionError as e:\n",
    "        raise ValueError('잘못된 입력')\n",
    "\n",
    "x, y = 1, 0\n",
    "try:\n",
    "    result = careful_divide(x, y)\n",
    "except ValueError:\n",
    "    print(f'잘못된 입력')\n",
    "else:\n",
    "    print(f'device result: {result}')\n",
    "    \n",
    "x, y = 0, 1\n",
    "try:\n",
    "    result = careful_divide(x, y)\n",
    "except ValueError:\n",
    "    print(f'잘못된 입력')\n",
    "else:\n",
    "    print(f'device result: {result}')"
   ]
  },
  {
   "cell_type": "code",
   "execution_count": 11,
   "metadata": {},
   "outputs": [
    {
     "name": "stdout",
     "output_type": "stream",
     "text": [
      "잘못된 입력\n"
     ]
    }
   ],
   "source": [
    "# 독스트링(Docstring)과 타입 애너테이션까지 포함시키는 코드\n",
    "def careful_divide(a, b) -> float:\n",
    "    \"\"\"\n",
    "    a 를 b 로 나눈다.\n",
    "    \n",
    "    Raises:\n",
    "        ValueError: b 가 0이어서 나눗셈을 할 수 없을 때\n",
    "    \"\"\"\n",
    "    try:\n",
    "        return a / b\n",
    "    except ZeroDivisionError as e:\n",
    "        raise ValueError('잘못된 입력')\n",
    "        \n",
    "x, y = 1, 0\n",
    "try:\n",
    "    result = careful_divide(x, y)\n",
    "except ValueError:\n",
    "    print(f'잘못된 입력')\n",
    "else:\n",
    "    print(f'device result: {result}')"
   ]
  },
  {
   "cell_type": "markdown",
   "metadata": {},
   "source": [
    "### BETTER WAY 21 - 변수 영역과 클로저의 상호작용 방식을 이해하라"
   ]
  },
  {
   "cell_type": "markdown",
   "metadata": {},
   "source": [
    "- 숫자로 이뤄진 리스트를 정렬하되, 정렬한 리스트의 앞쪽에는 우선순위를 부여한 몇 몇 숫자를 위치시켜야 한다고 가정하자\n",
    "\n",
    "- 이를 해결하는 일반적인 방법은 sort 메서드에 key 인자로 도우미 함수를 전달하는 것"
   ]
  },
  {
   "cell_type": "code",
   "execution_count": 15,
   "metadata": {},
   "outputs": [
    {
     "name": "stdout",
     "output_type": "stream",
     "text": [
      "[2, 3, 5, 7, 1, 4, 6, 8]\n"
     ]
    }
   ],
   "source": [
    "def sort_priority(values, group):\n",
    "    def helper(x):\n",
    "        if x in group:\n",
    "            return (0, x)\n",
    "        return (1, x)\n",
    "    values.sort(key=helper)\n",
    "    \n",
    "numbers = [8, 3, 1, 2, 5, 4, 7, 6]\n",
    "group = {2, 3, 5, 7}\n",
    "\n",
    "sort_priority(numbers, group)\n",
    "print(numbers)"
   ]
  },
  {
   "cell_type": "code",
   "execution_count": 18,
   "metadata": {},
   "outputs": [
    {
     "name": "stdout",
     "output_type": "stream",
     "text": [
      "True\n"
     ]
    }
   ],
   "source": [
    "'''\n",
    "이게 예상대로 작동하는 세 가지 이유\n",
    "1. 파이썬이 클로저(closure)를 지원\n",
    "  - 클로저란 자신이 정의된 영역 밖의 변수를 참조하는 함수\n",
    "  - 이로 인해 helper 함수가 group 변수를 접근할 수 있음\n",
    "2. 파이썬에서 함수가 일급 시민(first-class citizen) 객체임\n",
    "  - 일급 시민 객체란 맡은 이를 직접 가리킬 수 있고, 변수에 대입하거나, 다른 함수에 인자로 전달할 수 있으며,\n",
    "    if 문에서 함수를 비교하거나 반환하는 것 등이 가능하다는 것을 의미한다.\n",
    "3. 파이썬에는 시퀀스(튜플 포함)를 비교하는 구체적인 규칙이 있음\n",
    "'''\n",
    "\n",
    "class Sorter:\n",
    "    def __init__(self, group):\n",
    "        self.group = group\n",
    "        self.found = False\n",
    "        \n",
    "    def __call__(self, x):\n",
    "        if x in self.group:\n",
    "            self.found = True\n",
    "            return (0, x)\n",
    "        return (1, x)\n",
    "    \n",
    "sorter = Sorter(group)\n",
    "numbers.sort(key=sorter)\n",
    "print(sorter.found)"
   ]
  },
  {
   "cell_type": "markdown",
   "metadata": {},
   "source": [
    "### BETTER WAY 22 - 변수 위치 인자를 사용해 시각적인 잡음을 줄여라"
   ]
  },
  {
   "cell_type": "code",
   "execution_count": 19,
   "metadata": {},
   "outputs": [
    {
     "name": "stdout",
     "output_type": "stream",
     "text": [
      "내 숫자는: 1, 2\n",
      "안녕\n"
     ]
    }
   ],
   "source": [
    "def log(message, values):\n",
    "    if not values:\n",
    "        print(message)\n",
    "    else:\n",
    "        values_str = ', '.join(str(x) for x in values)\n",
    "        print(f'{message}: {values_str}')\n",
    "        \n",
    "log('내 숫자는', [1, 2])\n",
    "log('안녕', [])           # 로그에 남길 게 없어도 불필요하게 빈 리스트를 넘겨야 한다."
   ]
  },
  {
   "cell_type": "code",
   "execution_count": 20,
   "metadata": {},
   "outputs": [
    {
     "name": "stdout",
     "output_type": "stream",
     "text": [
      "내 숫자는: 1, 2\n",
      "안녕\n"
     ]
    }
   ],
   "source": [
    "'''\n",
    "개선 코드\n",
    "'''\n",
    "def log(message, *values): # 마지막 인자 앞에 * 을 붙임응\n",
    "    if not values:\n",
    "        print(message)\n",
    "    else:\n",
    "        values_str = ', '.join(str(x) for x in values)\n",
    "        print(f'{message}: {values_str}')\n",
    "        \n",
    "log('내 숫자는', 1, 2)\n",
    "log('안녕')                # 훨씬 좋다"
   ]
  },
  {
   "cell_type": "markdown",
   "metadata": {},
   "source": [
    "### BETTER WAY 23 - 키워드 인자로 선택적인 기능을 제공하라"
   ]
  },
  {
   "cell_type": "code",
   "execution_count": 21,
   "metadata": {},
   "outputs": [
    {
     "name": "stdout",
     "output_type": "stream",
     "text": [
      "6\n"
     ]
    }
   ],
   "source": [
    "def remainder(number, devisor):\n",
    "    return number % devisor\n",
    "\n",
    "print(remainder(20, 7))"
   ]
  },
  {
   "cell_type": "markdown",
   "metadata": {},
   "source": [
    "- 다른 대부분의 프로그래밍 언어와 마찬가지로 파이썬에서도 함수를 호출할 때 위치에 따라 인자를 넘길 수 있다."
   ]
  },
  {
   "cell_type": "code",
   "execution_count": 24,
   "metadata": {},
   "outputs": [
    {
     "name": "stdout",
     "output_type": "stream",
     "text": [
      "6\n",
      "6\n",
      "6\n",
      "6\n"
     ]
    }
   ],
   "source": [
    "print(remainder(20, 7))\n",
    "print(remainder(20, devisor=7))\n",
    "print(remainder(number=20, devisor=7))\n",
    "print(remainder(devisor=7, number=20))"
   ]
  },
  {
   "cell_type": "code",
   "execution_count": 25,
   "metadata": {},
   "outputs": [
    {
     "ename": "SyntaxError",
     "evalue": "positional argument follows keyword argument (<ipython-input-25-5c64d3bcdf6b>, line 3)",
     "output_type": "error",
     "traceback": [
      "\u001b[1;36m  File \u001b[1;32m\"<ipython-input-25-5c64d3bcdf6b>\"\u001b[1;36m, line \u001b[1;32m3\u001b[0m\n\u001b[1;33m    print(remainder(number=20, 7))\u001b[0m\n\u001b[1;37m                               ^\u001b[0m\n\u001b[1;31mSyntaxError\u001b[0m\u001b[1;31m:\u001b[0m positional argument follows keyword argument\n"
     ]
    }
   ],
   "source": [
    "# 위치 기반 인자를 지정하려면 키워드 인자보다 앞에 지정해야 한다.\n",
    "# 다음과 같이 하면 에러\n",
    "print(remainder(number=20, 7))"
   ]
  },
  {
   "cell_type": "markdown",
   "metadata": {},
   "source": [
    "### BETTER WAY 24 - None과 독스트링을 사용해 동적인 디폴트 인자를 지정하라"
   ]
  },
  {
   "cell_type": "markdown",
   "metadata": {},
   "source": [
    "- 종종 키워드 인자의 값으로 정적으로 정해지지 않는 타입의 값을 써야 할 때가 있다"
   ]
  },
  {
   "cell_type": "code",
   "execution_count": 26,
   "metadata": {},
   "outputs": [
    {
     "name": "stdout",
     "output_type": "stream",
     "text": [
      "2021-01-07 20:10:45.824396: 안녕!\n",
      "2021-01-07 20:10:45.824396: 다시 안녕!\n"
     ]
    }
   ],
   "source": [
    "# ex\n",
    "from time import sleep\n",
    "from datetime import datetime\n",
    "\n",
    "def log(message, when=datetime.now()):\n",
    "    print(f'{when}: {message}')\n",
    "    \n",
    "log('안녕!')\n",
    "sleep(0.1)\n",
    "log('다시 안녕!')"
   ]
  },
  {
   "cell_type": "markdown",
   "metadata": {},
   "source": [
    "- 하지만 디폴트 인자는 이런 식으로 작동하지 않는다.\n",
    "- 함수가 정의되는 시점에 datetime.now 가 한 번 호출되지 때문에 타임스탬프가 항상 같다"
   ]
  },
  {
   "cell_type": "markdown",
   "metadata": {},
   "source": [
    "- 이런 경우 원하는 동작을 달성하는 파이썬의 일반적인 관례는, 디폴트 값으로 None 을 지정하고, 실제 동작을 독스트링에 문서화하는 것이다."
   ]
  },
  {
   "cell_type": "code",
   "execution_count": 28,
   "metadata": {},
   "outputs": [
    {
     "name": "stdout",
     "output_type": "stream",
     "text": [
      "2021-01-07 20:23:40.593942: 안녕!\n",
      "2021-01-07 20:23:40.693961: 다시 안녕!\n"
     ]
    }
   ],
   "source": [
    "def log(message, when=None):\n",
    "    \"\"\"메시지와 타임스탬프를 로그에 남긴다\n",
    "    \n",
    "    Args:\n",
    "        message: 출력할 메시지\n",
    "        when: 메시지가 발생한 시각 (datetime)\n",
    "            디폴트 값은 현재 시간이다.    \n",
    "    \"\"\"\n",
    "    if when is None:\n",
    "        when = datetime.now()\n",
    "    print(f'{when}: {message}')\n",
    "    \n",
    "log('안녕!')\n",
    "sleep(0.1)\n",
    "log('다시 안녕!')"
   ]
  },
  {
   "cell_type": "markdown",
   "metadata": {},
   "source": [
    "### BETTER WAY 25 - 위치로만 인자를 지정하게 하거나 키워드로만 인자를 지정하게 해서 함수 호출을 명확하게 만들라"
   ]
  },
  {
   "cell_type": "markdown",
   "metadata": {},
   "source": [
    "- 키워드를 사용해 인자를 넘기는 기능은 파이썬 함수의 강력한 기능이다."
   ]
  },
  {
   "cell_type": "code",
   "execution_count": 31,
   "metadata": {},
   "outputs": [
    {
     "name": "stdout",
     "output_type": "stream",
     "text": [
      "0\n",
      "inf\n"
     ]
    }
   ],
   "source": [
    "# ex)\n",
    "# 한 숫자를 다른 숫자로 나누는 함수를 만드는데, \n",
    "# 때론 ZeroDivisionError 예외를 무시하고 무한대를 리턴하고 싶고\n",
    "# 때론 OverflowError 예외를 무시하고 0 을 리턴하고 싶은 함수를 만들고자 한다.\n",
    "def safe_division(number, divisor,\n",
    "                 ignore_overflow,\n",
    "                 ignore_zero_division):\n",
    "    try:\n",
    "        return number / divisor\n",
    "    except OverflowError:\n",
    "        if ignore_overflow:\n",
    "            return 0\n",
    "        else:\n",
    "            raise\n",
    "    except ZeroDivisionError:\n",
    "        if ignore_zero_division:\n",
    "            return float('inf')\n",
    "        else:\n",
    "            raise\n",
    "\n",
    "# 다음 코드는 오버플로우를 무시하고 0 을 리턴\n",
    "result = safe_division(1.0, 10**500, True, False)\n",
    "print(result)\n",
    "\n",
    "# 다음 코드는 제로 디비전을 무시하고 inf 를 리턴\n",
    "result = safe_division(1.0, 0, False, True)\n",
    "print(result)"
   ]
  },
  {
   "cell_type": "markdown",
   "metadata": {},
   "source": [
    "- 이 함수는 사용하긴 쉽지만, 어떤 예외를 무시할 지 결정하는 두 Bool 변수의 위치를 혼동하기 쉽다.\n",
    "- <font color='blue'>그러므로, 이 코드의 가독성을 향상시키는 방법은 키워드 인자를 사용하는 것이다.</font>"
   ]
  },
  {
   "cell_type": "code",
   "execution_count": 32,
   "metadata": {},
   "outputs": [
    {
     "name": "stdout",
     "output_type": "stream",
     "text": [
      "0\n",
      "inf\n"
     ]
    }
   ],
   "source": [
    "# 기본적으로 모든 예외는 다시 던진다.\n",
    "def safe_division(number, divisor,\n",
    "                 ignore_overflow=False,\n",
    "                 ignore_zero_division=False):\n",
    "    try:\n",
    "        return number / divisor\n",
    "    except OverflowError:\n",
    "        if ignore_overflow:\n",
    "            return 0\n",
    "        else:\n",
    "            raise\n",
    "    except ZeroDivisionError:\n",
    "        if ignore_zero_division:\n",
    "            return float('inf')\n",
    "        else:\n",
    "            raise\n",
    "            \n",
    "# 이제 호출하는 쪽에서 키워드 인자를 사용해서 무시할 예외를 정해야 한다.\n",
    "result = safe_division(1.0, 10**500, ignore_overflow=True)\n",
    "print(result)\n",
    "\n",
    "result = safe_division(1.0, 0, ignore_zero_division=True)\n",
    "print(result)"
   ]
  },
  {
   "cell_type": "markdown",
   "metadata": {},
   "source": [
    "- 하지만 호출하는 쪽에서 명확성을 위해 키워드 인자를 꼭 쓰도록 강요할 수 는 없다\n",
    "- 또한, 새로 정의한 safe_devision 에서도 이전과 같은 방법으로 함수를 호출할 수 있다."
   ]
  },
  {
   "cell_type": "code",
   "execution_count": 34,
   "metadata": {},
   "outputs": [
    {
     "name": "stdout",
     "output_type": "stream",
     "text": [
      "0\n",
      "inf\n"
     ]
    }
   ],
   "source": [
    "result = safe_division(1.0, 10**500, True, False)\n",
    "print(result)\n",
    "\n",
    "result = safe_division(1.0, 0, False, True)\n",
    "print(result)"
   ]
  },
  {
   "cell_type": "markdown",
   "metadata": {},
   "source": [
    "- 따라서, 호출자가 \"키워드만 사용하는 인자\"를 통해 의도를 명확히 밝히도록 요구하는 편이 좋다.\n",
    "- 이는 인자 목록에 * 를 추가함으로써 가능하다."
   ]
  },
  {
   "cell_type": "code",
   "execution_count": 35,
   "metadata": {},
   "outputs": [
    {
     "name": "stdout",
     "output_type": "stream",
     "text": [
      "0\n",
      "inf\n"
     ]
    }
   ],
   "source": [
    "def safe_division(number, divisor, *,                # 변경\n",
    "                 ignore_overflow=False,\n",
    "                 ignore_zero_division=False):\n",
    "    try:\n",
    "        return number / divisor\n",
    "    except OverflowError:\n",
    "        if ignore_overflow:\n",
    "            return 0\n",
    "        else:\n",
    "            raise\n",
    "    except ZeroDivisionError:\n",
    "        if ignore_zero_division:\n",
    "            return float('inf')\n",
    "        else:\n",
    "            raise\n",
    "            \n",
    "result = safe_division(1.0, 10**500, ignore_overflow=True)\n",
    "print(result)\n",
    "\n",
    "result = safe_division(1.0, 0, ignore_zero_division=True)\n",
    "print(result)"
   ]
  },
  {
   "cell_type": "code",
   "execution_count": 36,
   "metadata": {},
   "outputs": [
    {
     "ename": "TypeError",
     "evalue": "safe_division() takes 2 positional arguments but 4 were given",
     "output_type": "error",
     "traceback": [
      "\u001b[1;31m---------------------------------------------------------------------------\u001b[0m",
      "\u001b[1;31mTypeError\u001b[0m                                 Traceback (most recent call last)",
      "\u001b[1;32m<ipython-input-36-ac2287c036ca>\u001b[0m in \u001b[0;36m<module>\u001b[1;34m\u001b[0m\n\u001b[0;32m      1\u001b[0m \u001b[1;31m# 키워드 인자 지정 없이 하면 프로그램이 제대로 동작하지 않는다.\u001b[0m\u001b[1;33m\u001b[0m\u001b[1;33m\u001b[0m\u001b[1;33m\u001b[0m\u001b[0m\n\u001b[1;32m----> 2\u001b[1;33m \u001b[0mresult\u001b[0m \u001b[1;33m=\u001b[0m \u001b[0msafe_division\u001b[0m\u001b[1;33m(\u001b[0m\u001b[1;36m1.0\u001b[0m\u001b[1;33m,\u001b[0m \u001b[1;36m10\u001b[0m\u001b[1;33m**\u001b[0m\u001b[1;36m500\u001b[0m\u001b[1;33m,\u001b[0m \u001b[1;32mTrue\u001b[0m\u001b[1;33m,\u001b[0m \u001b[1;32mFalse\u001b[0m\u001b[1;33m)\u001b[0m\u001b[1;33m\u001b[0m\u001b[1;33m\u001b[0m\u001b[0m\n\u001b[0m\u001b[0;32m      3\u001b[0m \u001b[0mprint\u001b[0m\u001b[1;33m(\u001b[0m\u001b[0mresult\u001b[0m\u001b[1;33m)\u001b[0m\u001b[1;33m\u001b[0m\u001b[1;33m\u001b[0m\u001b[0m\n",
      "\u001b[1;31mTypeError\u001b[0m: safe_division() takes 2 positional arguments but 4 were given"
     ]
    }
   ],
   "source": [
    "# 키워드 인자 지정 없이 하면 프로그램이 제대로 동작하지 않는다.\n",
    "result = safe_division(1.0, 10**500, True, False)\n",
    "print(result)"
   ]
  },
  {
   "cell_type": "markdown",
   "metadata": {},
   "source": [
    "- 하지만 이 함수에도 문제가 있다.\n",
    "- 맨 앞에 있는 두 필수 인자(number, divisor)를 호출하면서 위치와 키워드를 혼용할 수 도 있다."
   ]
  },
  {
   "cell_type": "code",
   "execution_count": 38,
   "metadata": {},
   "outputs": [
    {
     "name": "stdout",
     "output_type": "stream",
     "text": [
      "0.4\n",
      "0.4\n"
     ]
    }
   ],
   "source": [
    "result = safe_division(number=2, divisor=5)\n",
    "print(result)\n",
    "\n",
    "result = safe_division(divisor=5, number=2)\n",
    "print(result)"
   ]
  },
  {
   "cell_type": "markdown",
   "metadata": {},
   "source": [
    "- 또한, 나중에 스타일이 바뀌어서 맨 앞의 두 인자 이름을 변경할 수 도 있다."
   ]
  },
  {
   "cell_type": "code",
   "execution_count": 39,
   "metadata": {},
   "outputs": [
    {
     "ename": "TypeError",
     "evalue": "safe_division() got an unexpected keyword argument 'number'",
     "output_type": "error",
     "traceback": [
      "\u001b[1;31m---------------------------------------------------------------------------\u001b[0m",
      "\u001b[1;31mTypeError\u001b[0m                                 Traceback (most recent call last)",
      "\u001b[1;32m<ipython-input-39-fed4b130ee0c>\u001b[0m in \u001b[0;36m<module>\u001b[1;34m\u001b[0m\n\u001b[0;32m     16\u001b[0m \u001b[1;33m\u001b[0m\u001b[0m\n\u001b[0;32m     17\u001b[0m \u001b[1;31m# 이 경우 기존에 safe_divison 함수를 호출할때 이름 인자를 사용할 것이라고 예상을 못했기 때문에 오류가 발생한다.\u001b[0m\u001b[1;33m\u001b[0m\u001b[1;33m\u001b[0m\u001b[1;33m\u001b[0m\u001b[0m\n\u001b[1;32m---> 18\u001b[1;33m \u001b[0mresult\u001b[0m \u001b[1;33m=\u001b[0m \u001b[0msafe_division\u001b[0m\u001b[1;33m(\u001b[0m\u001b[0mnumber\u001b[0m\u001b[1;33m=\u001b[0m\u001b[1;36m2\u001b[0m\u001b[1;33m,\u001b[0m \u001b[0mdivisor\u001b[0m\u001b[1;33m=\u001b[0m\u001b[1;36m5\u001b[0m\u001b[1;33m)\u001b[0m\u001b[1;33m\u001b[0m\u001b[1;33m\u001b[0m\u001b[0m\n\u001b[0m\u001b[0;32m     19\u001b[0m \u001b[0mprint\u001b[0m\u001b[1;33m(\u001b[0m\u001b[0mresult\u001b[0m\u001b[1;33m)\u001b[0m\u001b[1;33m\u001b[0m\u001b[1;33m\u001b[0m\u001b[0m\n",
      "\u001b[1;31mTypeError\u001b[0m: safe_division() got an unexpected keyword argument 'number'"
     ]
    }
   ],
   "source": [
    "def safe_division(nn, dd, *,                # 변경\n",
    "                 ignore_overflow=False,\n",
    "                 ignore_zero_division=False):\n",
    "    try:\n",
    "        return number / divisor\n",
    "    except OverflowError:\n",
    "        if ignore_overflow:\n",
    "            return 0\n",
    "        else:\n",
    "            raise\n",
    "    except ZeroDivisionError:\n",
    "        if ignore_zero_division:\n",
    "            return float('inf')\n",
    "        else:\n",
    "            raise\n",
    "            \n",
    "# 이 경우 기존에 safe_divison 함수를 호출할때 이름 인자를 사용할 것이라고 예상을 못했기 때문에 오류가 발생한다.\n",
    "result = safe_division(number=2, divisor=5)\n",
    "print(result)"
   ]
  },
  {
   "cell_type": "markdown",
   "metadata": {},
   "source": [
    "- 파이썬 3.8 에서는 이 문제에 대한 해법이 들어 있다.\n",
    "- 이를 <font color='blue'>\"위치로만 지정하는 인자\"</font> 라고 부른다.\n",
    "- 위치로만 지정하는 인자는 반드시 위치만 사용해 인자를 지정해야 하고, 키워드 인자로는 쓸 수 없다.\n",
    "- 이를 위해 위치로만 지정하고자 하는 인자 뒤에 / 기호를 추가함으로써, 위치로만 지정하는 인자의 끝을 표시한다."
   ]
  },
  {
   "cell_type": "code",
   "execution_count": 40,
   "metadata": {},
   "outputs": [],
   "source": [
    "def safe_division(number, divisor, /, *,                # 변경\n",
    "                 ignore_overflow=False,\n",
    "                 ignore_zero_division=False):\n",
    "    try:\n",
    "        return number / divisor\n",
    "    except OverflowError:\n",
    "        if ignore_overflow:\n",
    "            return 0\n",
    "        else:\n",
    "            raise\n",
    "    except ZeroDivisionError:\n",
    "        if ignore_zero_division:\n",
    "            return float('inf')\n",
    "        else:\n",
    "            raise"
   ]
  },
  {
   "cell_type": "code",
   "execution_count": 41,
   "metadata": {},
   "outputs": [
    {
     "name": "stdout",
     "output_type": "stream",
     "text": [
      "0.4\n"
     ]
    }
   ],
   "source": [
    "# 이제 앞에 2개 인자는 반드시 위치로만 지정해야 한다.\n",
    "result = safe_division(2, 5)\n",
    "print(result)"
   ]
  },
  {
   "cell_type": "code",
   "execution_count": 42,
   "metadata": {},
   "outputs": [
    {
     "ename": "TypeError",
     "evalue": "safe_division() got some positional-only arguments passed as keyword arguments: 'number, divisor'",
     "output_type": "error",
     "traceback": [
      "\u001b[1;31m---------------------------------------------------------------------------\u001b[0m",
      "\u001b[1;31mTypeError\u001b[0m                                 Traceback (most recent call last)",
      "\u001b[1;32m<ipython-input-42-3aadd771f9e8>\u001b[0m in \u001b[0;36m<module>\u001b[1;34m\u001b[0m\n\u001b[0;32m      1\u001b[0m \u001b[1;31m# 위치로만 지정해야 하는 인자에 키워드로 지정하면 오류 발생한다.\u001b[0m\u001b[1;33m\u001b[0m\u001b[1;33m\u001b[0m\u001b[1;33m\u001b[0m\u001b[0m\n\u001b[1;32m----> 2\u001b[1;33m \u001b[0mresult\u001b[0m \u001b[1;33m=\u001b[0m \u001b[0msafe_division\u001b[0m\u001b[1;33m(\u001b[0m\u001b[0mnumber\u001b[0m\u001b[1;33m=\u001b[0m\u001b[1;36m2\u001b[0m\u001b[1;33m,\u001b[0m \u001b[0mdivisor\u001b[0m\u001b[1;33m=\u001b[0m\u001b[1;36m5\u001b[0m\u001b[1;33m)\u001b[0m\u001b[1;33m\u001b[0m\u001b[1;33m\u001b[0m\u001b[0m\n\u001b[0m\u001b[0;32m      3\u001b[0m \u001b[0mprint\u001b[0m\u001b[1;33m(\u001b[0m\u001b[0mresult\u001b[0m\u001b[1;33m)\u001b[0m\u001b[1;33m\u001b[0m\u001b[1;33m\u001b[0m\u001b[0m\n",
      "\u001b[1;31mTypeError\u001b[0m: safe_division() got some positional-only arguments passed as keyword arguments: 'number, divisor'"
     ]
    }
   ],
   "source": [
    "# 위치로만 지정해야 하는 인자에 키워드로 지정하면 오류 발생한다.\n",
    "result = safe_division(number=2, divisor=5)\n",
    "print(result)"
   ]
  },
  {
   "cell_type": "markdown",
   "metadata": {},
   "source": [
    "### BETTER WAY 26 - functools.wrap 을 사용해 함수 데코레이터를 정의하라"
   ]
  },
  {
   "cell_type": "markdown",
   "metadata": {},
   "source": [
    "- 파이썬은 함수에 적용할 수 있는 데코레이터(decorator)를 정의하는 특별한 구문을 제공한다.\n",
    "- 데코레이터는 자신이 감싸고 있는 함수가 호출되기 전과 후에 코드를 추가로 실행해준다."
   ]
  },
  {
   "cell_type": "code",
   "execution_count": 43,
   "metadata": {},
   "outputs": [],
   "source": [
    "# 예)\n",
    "# 함수가 호출될 때마다 인자 값과 반환 값을 출력하고 싶다고 하자\n",
    "def trace(func):\n",
    "    def wrapper(*args, **kwargs):\n",
    "        result = func(*args, **kwargs)\n",
    "        print(f'{func.__name__}({args!r}, {kwargs!r}) -> {result!r}')\n",
    "        return result\n",
    "    return wrapper"
   ]
  },
  {
   "cell_type": "code",
   "execution_count": 48,
   "metadata": {},
   "outputs": [],
   "source": [
    "# 이 데코레이터를 함수에 적용할 때는 @ 기호를 사용한다.\n",
    "@trace\n",
    "def fibonacci(n):\n",
    "    \"\"\"n번째 피보나치 수를 반환한다.\"\"\"\n",
    "    if n in (0, 1):\n",
    "        return n\n",
    "    return (fibonacci(n-2) + fibonacci(n-1))"
   ]
  },
  {
   "cell_type": "code",
   "execution_count": 49,
   "metadata": {},
   "outputs": [
    {
     "name": "stdout",
     "output_type": "stream",
     "text": [
      "fibonacci((0,), {}) -> 0\n",
      "fibonacci((1,), {}) -> 1\n",
      "fibonacci((2,), {}) -> 1\n",
      "fibonacci((1,), {}) -> 1\n",
      "fibonacci((0,), {}) -> 0\n",
      "fibonacci((1,), {}) -> 1\n",
      "fibonacci((2,), {}) -> 1\n",
      "fibonacci((3,), {}) -> 2\n",
      "fibonacci((4,), {}) -> 3\n"
     ]
    },
    {
     "data": {
      "text/plain": [
       "3"
      ]
     },
     "execution_count": 49,
     "metadata": {},
     "output_type": "execute_result"
    }
   ],
   "source": [
    "# 그냥 함수 호출\n",
    "fibonacci(4)"
   ]
  },
  {
   "cell_type": "code",
   "execution_count": 50,
   "metadata": {},
   "outputs": [
    {
     "name": "stdout",
     "output_type": "stream",
     "text": [
      "fibonacci((0,), {}) -> 0\n",
      "wrapper((0,), {}) -> 0\n",
      "fibonacci((1,), {}) -> 1\n",
      "wrapper((1,), {}) -> 1\n",
      "fibonacci((2,), {}) -> 1\n",
      "wrapper((2,), {}) -> 1\n",
      "fibonacci((1,), {}) -> 1\n",
      "wrapper((1,), {}) -> 1\n",
      "fibonacci((0,), {}) -> 0\n",
      "wrapper((0,), {}) -> 0\n",
      "fibonacci((1,), {}) -> 1\n",
      "wrapper((1,), {}) -> 1\n",
      "fibonacci((2,), {}) -> 1\n",
      "wrapper((2,), {}) -> 1\n",
      "fibonacci((3,), {}) -> 2\n",
      "wrapper((3,), {}) -> 2\n",
      "fibonacci((4,), {}) -> 3\n",
      "wrapper((4,), {}) -> 3\n"
     ]
    },
    {
     "data": {
      "text/plain": [
       "3"
      ]
     },
     "execution_count": 50,
     "metadata": {},
     "output_type": "execute_result"
    }
   ],
   "source": [
    "# @ 기호를 사용하는 것은 이 함수에 대해 데코레이터를 호출한 후, \n",
    "#   데코레이터가 반환하는 결과를 원래 함수가 속해야 하는 영역에 원래 함수와 같은 이름으로 등록하는 것과 같다.\n",
    "\n",
    "fibonacci = trace(fibonacci) # 이렇게 꾸며진 함수(새로운 fibonacci)는 wrapper의 코드를 원래의 fibonacci함수가 실행되기 전과 후에 실행한다.\n",
    "\n",
    "fibonacci(4) # 따라서 wrapper 는 재귀 스택의 매 단계마다 함수의 인자와 반환 값을 출력한다."
   ]
  },
  {
   "cell_type": "code",
   "execution_count": 53,
   "metadata": {},
   "outputs": [
    {
     "name": "stdout",
     "output_type": "stream",
     "text": [
      "<function trace.<locals>.wrapper at 0x000002884C4B8A60>\n"
     ]
    }
   ],
   "source": [
    "# 이 코드는 잘 동작하지만, 의도하지 않은 부작용이 있다.\n",
    "# 데코레이터가 반환하는 함수(앞에서 호출한 감싸진 fibonacci 함수)의 이름이 fibonacci가 아니게 된다.\n",
    "\n",
    "print(fibonacci)"
   ]
  },
  {
   "cell_type": "code",
   "execution_count": 54,
   "metadata": {},
   "outputs": [
    {
     "name": "stdout",
     "output_type": "stream",
     "text": [
      "Help on function wrapper in module __main__:\n",
      "\n",
      "wrapper(*args, **kwargs)\n",
      "\n"
     ]
    }
   ],
   "source": [
    "# 다음과 같이 호출하면 fibonacci 함수의 맨 앞부분에 있는 독스트링이 출력돼야 하지만, 실제로는 그렇지 않다.\n",
    "help(fibonacci)"
   ]
  },
  {
   "cell_type": "code",
   "execution_count": 55,
   "metadata": {},
   "outputs": [
    {
     "ename": "AttributeError",
     "evalue": "Can't pickle local object 'trace.<locals>.wrapper'",
     "output_type": "error",
     "traceback": [
      "\u001b[1;31m---------------------------------------------------------------------------\u001b[0m",
      "\u001b[1;31mAttributeError\u001b[0m                            Traceback (most recent call last)",
      "\u001b[1;32m<ipython-input-55-852accf88f43>\u001b[0m in \u001b[0;36m<module>\u001b[1;34m\u001b[0m\n\u001b[0;32m      1\u001b[0m \u001b[1;31m# 데코레이터가 감싸고 있는 원래 함수의 위치를 찾을 수 없기 때문에, 객체 직렬화도 깨진다.\u001b[0m\u001b[1;33m\u001b[0m\u001b[1;33m\u001b[0m\u001b[1;33m\u001b[0m\u001b[0m\n\u001b[0;32m      2\u001b[0m \u001b[1;32mimport\u001b[0m \u001b[0mpickle\u001b[0m\u001b[1;33m\u001b[0m\u001b[1;33m\u001b[0m\u001b[0m\n\u001b[1;32m----> 3\u001b[1;33m \u001b[0mpickle\u001b[0m\u001b[1;33m.\u001b[0m\u001b[0mdumps\u001b[0m\u001b[1;33m(\u001b[0m\u001b[0mfibonacci\u001b[0m\u001b[1;33m)\u001b[0m\u001b[1;33m\u001b[0m\u001b[1;33m\u001b[0m\u001b[0m\n\u001b[0m",
      "\u001b[1;31mAttributeError\u001b[0m: Can't pickle local object 'trace.<locals>.wrapper'"
     ]
    }
   ],
   "source": [
    "# 데코레이터가 감싸고 있는 원래 함수의 위치를 찾을 수 없기 때문에, 객체 직렬화도 깨진다.\n",
    "import pickle\n",
    "pickle.dumps(fibonacci)\n"
   ]
  },
  {
   "cell_type": "markdown",
   "metadata": {},
   "source": [
    "- 문제를 해결하는 방법은\n",
    "- <font color='blue'>functools 내장 모듈에 정의된 wraps 도우미 함수를 사용하는 것이다.</font>\n",
    "- 이 함수는 데코레이터 작성을 돕는 데코레이터다."
   ]
  },
  {
   "cell_type": "code",
   "execution_count": 65,
   "metadata": {},
   "outputs": [],
   "source": [
    "from functools import wraps\n",
    "\n",
    "def trace(func):\n",
    "    @wraps(func)\n",
    "    def wrapper(*args, **kwargs):\n",
    "        result = func(*args, **kwargs)\n",
    "        print(f'{func.__name__}({args!r}, {kwargs!r}) -> {result!r}')\n",
    "        return result\n",
    "    return wrapper\n",
    "\n",
    "@trace\n",
    "def fibonacci(n):\n",
    "    \"\"\"n번째 피보나치 수를 반환한다.\"\"\"\n",
    "    if n in (0, 1):\n",
    "        return n\n",
    "    return (fibonacci(n-2) + fibonacci(n-1))"
   ]
  },
  {
   "cell_type": "code",
   "execution_count": 68,
   "metadata": {},
   "outputs": [
    {
     "name": "stdout",
     "output_type": "stream",
     "text": [
      "Help on function fibonacci in module __main__:\n",
      "\n",
      "fibonacci(n)\n",
      "    n번째 피보나치 수를 반환한다.\n",
      "\n"
     ]
    }
   ],
   "source": [
    "# help 함수를 실행하면 원하는 결과를 볼 수 있다.\n",
    "help(fibonacci)"
   ]
  },
  {
   "cell_type": "code",
   "execution_count": 69,
   "metadata": {},
   "outputs": [
    {
     "data": {
      "text/plain": [
       "b'\\x80\\x04\\x95\\x1a\\x00\\x00\\x00\\x00\\x00\\x00\\x00\\x8c\\x08__main__\\x94\\x8c\\tfibonacci\\x94\\x93\\x94.'"
      ]
     },
     "execution_count": 69,
     "metadata": {},
     "output_type": "execute_result"
    }
   ],
   "source": [
    "# pickle 객체 직렬화도 제대로 작동한다\n",
    "import pickle\n",
    "pickle.dumps(fibonacci)"
   ]
  }
 ],
 "metadata": {
  "kernelspec": {
   "display_name": "Python 3",
   "language": "python",
   "name": "python3"
  },
  "language_info": {
   "codemirror_mode": {
    "name": "ipython",
    "version": 3
   },
   "file_extension": ".py",
   "mimetype": "text/x-python",
   "name": "python",
   "nbconvert_exporter": "python",
   "pygments_lexer": "ipython3",
   "version": "3.8.1"
  }
 },
 "nbformat": 4,
 "nbformat_minor": 2
}
